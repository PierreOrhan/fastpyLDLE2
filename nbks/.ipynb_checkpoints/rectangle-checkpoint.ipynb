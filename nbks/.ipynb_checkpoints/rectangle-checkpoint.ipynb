{
 "cells": [
  {
   "cell_type": "code",
   "execution_count": 1,
   "id": "d2d7282e",
   "metadata": {},
   "outputs": [],
   "source": [
    "%matplotlib inline"
   ]
  },
  {
   "cell_type": "code",
   "execution_count": 2,
   "id": "339da2dd",
   "metadata": {},
   "outputs": [
    {
     "name": "stdout",
     "output_type": "stream",
     "text": [
      "matplotlib.get_backend() =  module://matplotlib_inline.backend_inline\n",
      "matplotlib.get_backend() =  module://matplotlib_inline.backend_inline\n"
     ]
    }
   ],
   "source": [
    "import sys\n",
    "sys.path.insert(0,'..')\n",
    "import pickle\n",
    "\n",
    "import visualize_\n",
    "import datasets\n",
    "import ldle_\n",
    "# Uncomment to reload a library\n",
    "from importlib import reload \n",
    "visualize_ = reload(visualize_)\n",
    "ldle_ = reload(ldle_)\n",
    "datasets = reload(datasets)"
   ]
  },
  {
   "cell_type": "code",
   "execution_count": 3,
   "id": "d20b0284",
   "metadata": {},
   "outputs": [],
   "source": [
    "save_dir_root = '../data/pyLDLE2/rectangle/'"
   ]
  },
  {
   "cell_type": "code",
   "execution_count": 4,
   "id": "6232f85f",
   "metadata": {},
   "outputs": [
    {
     "name": "stdout",
     "output_type": "stream",
     "text": [
      "X.shape =  (10426, 2)\n"
     ]
    }
   ],
   "source": [
    "X, labelsMat, ddX = datasets.Datasets().rectanglegrid(ar=16)"
   ]
  },
  {
   "cell_type": "markdown",
   "id": "3afa88a7",
   "metadata": {},
   "source": [
    "# LDLE"
   ]
  },
  {
   "cell_type": "code",
   "execution_count": 5,
   "id": "00f88116",
   "metadata": {},
   "outputs": [],
   "source": [
    "ldle = ldle_.LDLE(local_opts={'algo':'LDLE'},\n",
    "                  intermed_opts={'eta_min':20},\n",
    "                  print_logs=True)"
   ]
  },
  {
   "cell_type": "code",
   "execution_count": 6,
   "id": "0e5d0bc9",
   "metadata": {
    "scrolled": false
   },
   "outputs": [
    {
     "name": "stdout",
     "output_type": "stream",
     "text": [
      "> \u001b[0;32m/Users/dhkohli/codebase/pyLDLE2/ldle_.py\u001b[0m(217)\u001b[0;36mfit\u001b[0;34m()\u001b[0m\n",
      "\u001b[0;32m    215 \u001b[0;31m        \u001b[0mpdb\u001b[0m\u001b[0;34m.\u001b[0m\u001b[0mset_trace\u001b[0m\u001b[0;34m(\u001b[0m\u001b[0;34m)\u001b[0m\u001b[0;34m\u001b[0m\u001b[0;34m\u001b[0m\u001b[0m\n",
      "\u001b[0m\u001b[0;32m    216 \u001b[0;31m        \u001b[0;31m# Construct a sparse d_e matrix based on neigh_ind and neigh_dist\u001b[0m\u001b[0;34m\u001b[0m\u001b[0;34m\u001b[0m\u001b[0;34m\u001b[0m\u001b[0m\n",
      "\u001b[0m\u001b[0;32m--> 217 \u001b[0;31m        \u001b[0md_e\u001b[0m \u001b[0;34m=\u001b[0m \u001b[0msparse_matrix\u001b[0m\u001b[0;34m(\u001b[0m\u001b[0mneigh_ind\u001b[0m\u001b[0;34m,\u001b[0m \u001b[0mneigh_dist\u001b[0m\u001b[0;34m)\u001b[0m\u001b[0;34m\u001b[0m\u001b[0;34m\u001b[0m\u001b[0m\n",
      "\u001b[0m\u001b[0;32m    218 \u001b[0;31m        \u001b[0md_e\u001b[0m \u001b[0;34m=\u001b[0m \u001b[0md_e\u001b[0m\u001b[0;34m.\u001b[0m\u001b[0mmaximum\u001b[0m\u001b[0;34m(\u001b[0m\u001b[0md_e\u001b[0m\u001b[0;34m.\u001b[0m\u001b[0mtranspose\u001b[0m\u001b[0;34m(\u001b[0m\u001b[0;34m)\u001b[0m\u001b[0;34m)\u001b[0m\u001b[0;34m\u001b[0m\u001b[0;34m\u001b[0m\u001b[0m\n",
      "\u001b[0m\u001b[0;32m    219 \u001b[0;31m\u001b[0;34m\u001b[0m\u001b[0m\n",
      "\u001b[0m\n",
      "ipdb> c\n",
      "Constructing graph Laplacian + its eigendecomposition.\n",
      "Done.\n",
      "##############################\n",
      "Time elapsed from last time log: 6.0 seconds\n",
      "Total time elapsed: 6.0 seconds\n",
      "##############################\n",
      "Computing Atilde: Inner Prod of Grad of EigFuncs.\n",
      "FEM for Atilde.\n",
      "Atilde: 0 points processed...\n",
      "Atilde: 2606 points processed...\n",
      "Atilde: 5212 points processed...\n",
      "Atilde: 7818 points processed...\n",
      "Atilde: 10424 points processed...\n",
      "Atilde: all points processed...\n",
      "Done.\n",
      "##############################\n",
      "Time elapsed from last time log: 0.7 seconds\n",
      "Total time elapsed: 6.7 seconds\n",
      "##############################\n",
      "Computing LDLE.\n",
      "local_param: 0 points processed...\n",
      "local_param: 2606 points processed...\n",
      "local_param: 5212 points processed...\n",
      "local_param: 7818 points processed...\n",
      "local_param: 10424 points processed...\n",
      "local_param: all 10426 points processed...\n",
      "max distortion is 5265.044278\n",
      "Done.\n",
      "##############################\n",
      "Time elapsed from last time log: 4.8 seconds\n",
      "Total time elapsed: 11.6 seconds\n",
      "##############################\n",
      "Posprocessing LDLE.\n",
      "After iter 1, max distortion is 9.021057\n",
      "After iter 2, max distortion is 6.276029\n",
      "After iter 3, max distortion is 6.276029\n",
      "After iter 4, max distortion is 6.276029\n",
      "After iter 5, max distortion is 6.276029\n",
      "After iter 6, max distortion is 6.276029\n",
      "After iter 7, max distortion is 6.276029\n",
      "After iter 8, max distortion is 6.276029\n",
      "Done.\n",
      "##############################\n",
      "Time elapsed from last time log: 52.8 seconds\n",
      "Total time elapsed: 64.4 seconds\n",
      "##############################\n",
      "Max local distortion = 6.276028501306174\n",
      "Constructing intermediate views.\n",
      "eta = 2.\n",
      "# non-empty views with sz < 2 = 10426\n",
      "#nodes in views with sz < 2 = 10426\n",
      "Remaining #nodes in views with sz < 2 = 0\n",
      "Done with eta = 2.\n",
      "##############################\n",
      "Time elapsed from last time log: 115.5 seconds\n",
      "Total time elapsed: 115.6 seconds\n",
      "##############################\n",
      "eta = 3.\n",
      "# non-empty views with sz < 3 = 358\n",
      "#nodes in views with sz < 3 = 716\n",
      "Remaining #nodes in views with sz < 3 = 0\n",
      "Done with eta = 3.\n",
      "##############################\n",
      "Time elapsed from last time log: 2.6 seconds\n",
      "Total time elapsed: 118.2 seconds\n",
      "##############################\n",
      "eta = 4.\n",
      "# non-empty views with sz < 4 = 311\n",
      "#nodes in views with sz < 4 = 933\n",
      "Remaining #nodes in views with sz < 4 = 0\n",
      "Done with eta = 4.\n",
      "##############################\n",
      "Time elapsed from last time log: 5.3 seconds\n",
      "Total time elapsed: 123.5 seconds\n",
      "##############################\n",
      "eta = 5.\n",
      "# non-empty views with sz < 5 = 202\n",
      "#nodes in views with sz < 5 = 808\n",
      "Remaining #nodes in views with sz < 5 = 0\n",
      "Done with eta = 5.\n",
      "##############################\n",
      "Time elapsed from last time log: 4.8 seconds\n",
      "Total time elapsed: 128.3 seconds\n",
      "##############################\n",
      "eta = 6.\n",
      "# non-empty views with sz < 6 = 128\n",
      "#nodes in views with sz < 6 = 640\n",
      "Remaining #nodes in views with sz < 6 = 0\n",
      "Done with eta = 6.\n",
      "##############################\n",
      "Time elapsed from last time log: 4.0 seconds\n",
      "Total time elapsed: 132.3 seconds\n",
      "##############################\n",
      "eta = 7.\n",
      "# non-empty views with sz < 7 = 120\n",
      "#nodes in views with sz < 7 = 720\n",
      "Remaining #nodes in views with sz < 7 = 0\n",
      "Done with eta = 7.\n",
      "##############################\n",
      "Time elapsed from last time log: 5.3 seconds\n",
      "Total time elapsed: 137.6 seconds\n",
      "##############################\n",
      "eta = 8.\n",
      "# non-empty views with sz < 8 = 79\n",
      "#nodes in views with sz < 8 = 553\n",
      "Remaining #nodes in views with sz < 8 = 0\n",
      "Done with eta = 8.\n",
      "##############################\n",
      "Time elapsed from last time log: 4.2 seconds\n",
      "Total time elapsed: 141.8 seconds\n",
      "##############################\n",
      "eta = 9.\n",
      "# non-empty views with sz < 9 = 78\n",
      "#nodes in views with sz < 9 = 624\n",
      "Remaining #nodes in views with sz < 9 = 0\n",
      "Done with eta = 9.\n",
      "##############################\n",
      "Time elapsed from last time log: 5.2 seconds\n",
      "Total time elapsed: 147.0 seconds\n",
      "##############################\n",
      "eta = 10.\n",
      "# non-empty views with sz < 10 = 70\n",
      "#nodes in views with sz < 10 = 630\n",
      "Remaining #nodes in views with sz < 10 = 0\n",
      "Done with eta = 10.\n",
      "##############################\n",
      "Time elapsed from last time log: 5.1 seconds\n",
      "Total time elapsed: 152.1 seconds\n",
      "##############################\n",
      "eta = 11.\n",
      "# non-empty views with sz < 11 = 51\n",
      "#nodes in views with sz < 11 = 510\n",
      "Remaining #nodes in views with sz < 11 = 0\n",
      "Done with eta = 11.\n",
      "##############################\n",
      "Time elapsed from last time log: 5.1 seconds\n",
      "Total time elapsed: 157.2 seconds\n",
      "##############################\n",
      "eta = 12.\n",
      "# non-empty views with sz < 12 = 49\n",
      "#nodes in views with sz < 12 = 539\n",
      "Remaining #nodes in views with sz < 12 = 0\n",
      "Done with eta = 12.\n",
      "##############################\n",
      "Time elapsed from last time log: 5.5 seconds\n",
      "Total time elapsed: 162.7 seconds\n",
      "##############################\n",
      "eta = 13.\n",
      "# non-empty views with sz < 13 = 44\n",
      "#nodes in views with sz < 13 = 528\n",
      "Remaining #nodes in views with sz < 13 = 0\n",
      "Done with eta = 13.\n",
      "##############################\n",
      "Time elapsed from last time log: 4.9 seconds\n",
      "Total time elapsed: 167.6 seconds\n",
      "##############################\n",
      "eta = 14.\n",
      "# non-empty views with sz < 14 = 34\n",
      "#nodes in views with sz < 14 = 442\n",
      "Remaining #nodes in views with sz < 14 = 0\n",
      "Done with eta = 14.\n",
      "##############################\n",
      "Time elapsed from last time log: 4.7 seconds\n",
      "Total time elapsed: 172.3 seconds\n",
      "##############################\n",
      "eta = 15.\n",
      "# non-empty views with sz < 15 = 29\n",
      "#nodes in views with sz < 15 = 406\n",
      "Remaining #nodes in views with sz < 15 = 0\n",
      "Done with eta = 15.\n",
      "##############################\n",
      "Time elapsed from last time log: 4.2 seconds\n",
      "Total time elapsed: 176.5 seconds\n",
      "##############################\n",
      "eta = 16.\n",
      "# non-empty views with sz < 16 = 26\n",
      "#nodes in views with sz < 16 = 390\n",
      "Remaining #nodes in views with sz < 16 = 0\n",
      "Done with eta = 16.\n",
      "##############################\n",
      "Time elapsed from last time log: 5.0 seconds\n",
      "Total time elapsed: 181.5 seconds\n",
      "##############################\n",
      "eta = 17.\n",
      "# non-empty views with sz < 17 = 26\n",
      "#nodes in views with sz < 17 = 416\n",
      "Remaining #nodes in views with sz < 17 = 0\n",
      "Done with eta = 17.\n",
      "##############################\n",
      "Time elapsed from last time log: 5.0 seconds\n",
      "Total time elapsed: 186.6 seconds\n",
      "##############################\n",
      "eta = 18.\n",
      "# non-empty views with sz < 18 = 20\n",
      "#nodes in views with sz < 18 = 340\n",
      "Remaining #nodes in views with sz < 18 = 0\n",
      "Done with eta = 18.\n",
      "##############################\n",
      "Time elapsed from last time log: 3.9 seconds\n",
      "Total time elapsed: 190.4 seconds\n",
      "##############################\n",
      "eta = 19.\n",
      "# non-empty views with sz < 19 = 17\n",
      "#nodes in views with sz < 19 = 306\n",
      "Remaining #nodes in views with sz < 19 = 0\n",
      "Done with eta = 19.\n",
      "##############################\n",
      "Time elapsed from last time log: 3.6 seconds\n",
      "Total time elapsed: 194.0 seconds\n",
      "##############################\n",
      "eta = 20.\n",
      "# non-empty views with sz < 20 = 21\n",
      "#nodes in views with sz < 20 = 399\n",
      "Remaining #nodes in views with sz < 20 = 0\n",
      "Done with eta = 20.\n",
      "##############################\n",
      "Time elapsed from last time log: 4.6 seconds\n",
      "Total time elapsed: 198.7 seconds\n",
      "##############################\n",
      "Pruning and cleaning up.\n",
      "Done.\n",
      "##############################\n",
      "Time elapsed from last time log: 0.2 seconds\n",
      "Total time elapsed: 198.8 seconds\n",
      "##############################\n",
      "After clustering, max distortion is nan\n"
     ]
    },
    {
     "name": "stderr",
     "output_type": "stream",
     "text": [
      "../util_.py:87: RuntimeWarning: invalid value encountered in double_scalars\n",
      "  return np.max(disc_lip_const)/np.min(disc_lip_const)\n"
     ]
    }
   ],
   "source": [
    "ldle.fit(X=X)"
   ]
  },
  {
   "cell_type": "markdown",
   "id": "98c6ee1e",
   "metadata": {},
   "source": [
    "# Optionally save for further visualizations using Visualization.ipynb"
   ]
  },
  {
   "cell_type": "code",
   "execution_count": 11,
   "id": "30521e33",
   "metadata": {},
   "outputs": [],
   "source": [
    "save_path = save_dir_root+'/ldle_obj.dat'\n",
    "with open(save_path, \"wb\") as f:\n",
    "    pickle.dump([X, labelsMat, ldle], f)"
   ]
  },
  {
   "cell_type": "code",
   "execution_count": 12,
   "id": "8e59ee37",
   "metadata": {},
   "outputs": [
    {
     "ename": "AttributeError",
     "evalue": "'LDLE' object has no attribute 'vis'",
     "output_type": "error",
     "traceback": [
      "\u001b[0;31m---------------------------------------------------------------------------\u001b[0m",
      "\u001b[0;31mAttributeError\u001b[0m                            Traceback (most recent call last)",
      "\u001b[0;32m/var/folders/7m/0bfd60px7b1097wh67r4y02c0000gn/T/ipykernel_84711/422650811.py\u001b[0m in \u001b[0;36m<module>\u001b[0;34m\u001b[0m\n\u001b[1;32m      1\u001b[0m \u001b[0mget_ipython\u001b[0m\u001b[0;34m(\u001b[0m\u001b[0;34m)\u001b[0m\u001b[0;34m.\u001b[0m\u001b[0mrun_line_magic\u001b[0m\u001b[0;34m(\u001b[0m\u001b[0;34m'matplotlib'\u001b[0m\u001b[0;34m,\u001b[0m \u001b[0;34m'inline'\u001b[0m\u001b[0;34m)\u001b[0m\u001b[0;34m\u001b[0m\u001b[0;34m\u001b[0m\u001b[0m\n\u001b[0;32m----> 2\u001b[0;31m \u001b[0mldle\u001b[0m\u001b[0;34m.\u001b[0m\u001b[0mvis\u001b[0m\u001b[0;34m.\u001b[0m\u001b[0mglobal_embedding\u001b[0m\u001b[0;34m(\u001b[0m\u001b[0mldle_obj\u001b[0m\u001b[0;34m.\u001b[0m\u001b[0my_final\u001b[0m\u001b[0;34m,\u001b[0m \u001b[0mlabelsMat\u001b[0m\u001b[0;34m[\u001b[0m\u001b[0;34m:\u001b[0m\u001b[0;34m,\u001b[0m\u001b[0;36m0\u001b[0m\u001b[0;34m]\u001b[0m\u001b[0;34m,\u001b[0m \u001b[0;34m'jet'\u001b[0m\u001b[0;34m,\u001b[0m \u001b[0mtitle\u001b[0m\u001b[0;34m=\u001b[0m\u001b[0;34m'LDLE0'\u001b[0m\u001b[0;34m)\u001b[0m\u001b[0;34m\u001b[0m\u001b[0;34m\u001b[0m\u001b[0m\n\u001b[0m",
      "\u001b[0;31mAttributeError\u001b[0m: 'LDLE' object has no attribute 'vis'"
     ]
    }
   ],
   "source": [
    "%matplotlib inline\n",
    "ldle.vis.global_embedding(ldle_obj.y_final, labelsMat[:,0], 'jet', title='LDLE0')"
   ]
  },
  {
   "cell_type": "code",
   "execution_count": 9,
   "id": "1627fe40",
   "metadata": {},
   "outputs": [
    {
     "data": {
      "image/png": "[encoded data removed]",
      "text/plain": [
       "<Figure size 432x288 with 1 Axes>"
      ]
     },
     "metadata": {},
     "output_type": "display_data"
    }
   ],
   "source": [
    "%matplotlib inline\n",
    "ldle_obj.vis.global_embedding(ldle_obj.y_final, labelsMat[:,1], 'jet', title='LDLE1')"
   ]
  },
  {
   "cell_type": "code",
   "execution_count": null,
   "id": "07fa2f29",
   "metadata": {},
   "outputs": [],
   "source": []
  }
 ],
 "metadata": {
  "kernelspec": {
   "display_name": "Python 3 (ipykernel)",
   "language": "python",
   "name": "python3"
  },
  "language_info": {
   "codemirror_mode": {
    "name": "ipython",
    "version": 3
   },
   "file_extension": ".py",
   "mimetype": "text/x-python",
   "name": "python",
   "nbconvert_exporter": "python",
   "pygments_lexer": "ipython3",
   "version": "3.8.8"
  }
 },
 "nbformat": 4,
 "nbformat_minor": 5
}
