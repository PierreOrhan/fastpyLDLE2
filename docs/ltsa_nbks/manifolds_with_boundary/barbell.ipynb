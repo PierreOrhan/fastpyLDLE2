{
 "cells": [
  {
   "cell_type": "markdown",
   "id": "2bf0f75c",
   "metadata": {},
   "source": [
    "### Barbell"
   ]
  },
  {
   "cell_type": "code",
   "execution_count": 1,
   "id": "ff81deb0",
   "metadata": {
    "execution": {
     "iopub.execute_input": "2022-08-03T04:26:59.685077Z",
     "iopub.status.busy": "2022-08-03T04:26:59.684513Z",
     "iopub.status.idle": "2022-08-03T04:27:00.273469Z",
     "shell.execute_reply": "2022-08-03T04:27:00.272637Z"
    }
   },
   "outputs": [],
   "source": [
    "%matplotlib inline"
   ]
  },
  {
   "cell_type": "code",
   "execution_count": 2,
   "id": "a8d77738",
   "metadata": {
    "execution": {
     "iopub.execute_input": "2022-08-03T04:27:00.279335Z",
     "iopub.status.busy": "2022-08-03T04:27:00.279087Z",
     "iopub.status.idle": "2022-08-03T04:27:00.282593Z",
     "shell.execute_reply": "2022-08-03T04:27:00.281874Z"
    }
   },
   "outputs": [],
   "source": [
    "# Not really required\n",
    "import sys\n",
    "sys.path.insert(0, '../../..')"
   ]
  },
  {
   "cell_type": "code",
   "execution_count": 3,
   "id": "ad5119aa",
   "metadata": {
    "execution": {
     "iopub.execute_input": "2022-08-03T04:27:00.288454Z",
     "iopub.status.busy": "2022-08-03T04:27:00.288088Z",
     "iopub.status.idle": "2022-08-03T04:27:00.778769Z",
     "shell.execute_reply": "2022-08-03T04:27:00.778009Z"
    }
   },
   "outputs": [
    {
     "name": "stdout",
     "output_type": "stream",
     "text": [
      "matplotlib.get_backend() =  module://matplotlib_inline.backend_inline\n"
     ]
    }
   ],
   "source": [
    "from pyLDLE2 import datasets\n",
    "from pyLDLE2 import ldle_"
   ]
  },
  {
   "cell_type": "code",
   "execution_count": 4,
   "id": "777aa611",
   "metadata": {
    "execution": {
     "iopub.execute_input": "2022-08-03T04:27:00.783806Z",
     "iopub.status.busy": "2022-08-03T04:27:00.783559Z",
     "iopub.status.idle": "2022-08-03T04:27:00.787893Z",
     "shell.execute_reply": "2022-08-03T04:27:00.787001Z"
    }
   },
   "outputs": [],
   "source": [
    "save_dir_root = '../data/pyLDLE2/barbell/'"
   ]
  },
  {
   "cell_type": "code",
   "execution_count": 5,
   "id": "55e389bc",
   "metadata": {
    "execution": {
     "iopub.execute_input": "2022-08-03T04:27:00.792990Z",
     "iopub.status.busy": "2022-08-03T04:27:00.792624Z",
     "iopub.status.idle": "2022-08-03T04:27:00.846478Z",
     "shell.execute_reply": "2022-08-03T04:27:00.845798Z"
    }
   },
   "outputs": [
    {
     "name": "stdout",
     "output_type": "stream",
     "text": [
      "X.shape =  (10227, 2)\n"
     ]
    }
   ],
   "source": [
    "X, labelsMat, ddX = datasets.Datasets().barbell()"
   ]
  },
  {
   "cell_type": "code",
   "execution_count": 6,
   "id": "a0e44b81",
   "metadata": {
    "execution": {
     "iopub.execute_input": "2022-08-03T04:27:00.852235Z",
     "iopub.status.busy": "2022-08-03T04:27:00.851790Z",
     "iopub.status.idle": "2022-08-03T04:27:00.858145Z",
     "shell.execute_reply": "2022-08-03T04:27:00.857342Z"
    }
   },
   "outputs": [
    {
     "name": "stdout",
     "output_type": "stream",
     "text": [
      "local_opts['k_nn0'] = 700 is created.\n",
      "Options provided:\n",
      "local_opts:\n",
      "{\n",
      "    \"Atilde_method\": \"LDLE_1\",\n",
      "    \"N\": 100,\n",
      "    \"algo\": \"LTSA\",\n",
      "    \"delta\": 0.9,\n",
      "    \"gl_type\": \"unnorm\",\n",
      "    \"k\": 28,\n",
      "    \"k_nn\": 49,\n",
      "    \"k_nn0\": 700,\n",
      "    \"k_tune\": 7,\n",
      "    \"n_proc\": 32,\n",
      "    \"no_gamma\": false,\n",
      "    \"p\": 0.99,\n",
      "    \"pp_n_thresh\": 32,\n",
      "    \"tau\": 50,\n",
      "    \"to_postprocess\": true\n",
      "}\n",
      "intermed_opts:\n",
      "{\n",
      "    \"algo\": \"best\",\n",
      "    \"eta_max\": 25,\n",
      "    \"eta_min\": 5,\n",
      "    \"len_S_thresh\": 256,\n",
      "    \"local_algo\": \"LTSA\",\n",
      "    \"n_proc\": 32,\n",
      "    \"n_times\": 4\n",
      "}\n",
      "global_opts:\n",
      "{\n",
      "    \"color_tear\": true,\n",
      "    \"compute_error\": false,\n",
      "    \"init_algo_align_w_parent_only\": true,\n",
      "    \"init_algo_name\": \"procrustes\",\n",
      "    \"k\": 28,\n",
      "    \"main_algo\": \"LDLE\",\n",
      "    \"max_iter\": 20,\n",
      "    \"n_proc\": 32,\n",
      "    \"nu\": 3,\n",
      "    \"refine_algo_alpha\": 0.3,\n",
      "    \"refine_algo_max_internal_iter\": 100,\n",
      "    \"refine_algo_name\": \"rgd\",\n",
      "    \"to_tear\": true,\n",
      "    \"vis_before_init\": false\n",
      "}\n"
     ]
    }
   ],
   "source": [
    "# The supplied options would override the default options\n",
    "ldle = ldle_.LDLE(local_opts={'algo':'LTSA'},\n",
    "                  vis_opts={'c': labelsMat[:,0], 'save_dir': save_dir_root},\n",
    "                  verbose=True, debug=True)"
   ]
  },
  {
   "cell_type": "code",
   "execution_count": 7,
   "id": "7eadfc89",
   "metadata": {
    "execution": {
     "iopub.execute_input": "2022-08-03T04:27:00.863183Z",
     "iopub.status.busy": "2022-08-03T04:27:00.862568Z",
     "iopub.status.idle": "2022-08-03T04:35:53.318973Z",
     "shell.execute_reply": "2022-08-03T04:35:53.318202Z"
    },
    "scrolled": false
   },
   "outputs": [
    {
     "name": "stdout",
     "output_type": "stream",
     "text": [
      "Constructing local views using LTSA.\n"
     ]
    },
    {
     "name": "stdout",
     "output_type": "stream",
     "text": [
      "local_param: all 10227 points processed...\n",
      "max distortion is 1.000000\n",
      "Done.\n",
      "##############################\n",
      "Time elapsed from last time log: 1.1 seconds\n",
      "Total time elapsed: 1.1 seconds\n",
      "##############################\n",
      "Posprocessing local parameterizations.\n"
     ]
    },
    {
     "name": "stdout",
     "output_type": "stream",
     "text": [
      "#Param replaced: 7513, max distortion: 1.000000"
     ]
    },
    {
     "name": "stdout",
     "output_type": "stream",
     "text": [
      "\n"
     ]
    },
    {
     "name": "stdout",
     "output_type": "stream",
     "text": [
      "#Param replaced: 414, max distortion: 1.000000"
     ]
    },
    {
     "name": "stdout",
     "output_type": "stream",
     "text": [
      "\n"
     ]
    },
    {
     "name": "stdout",
     "output_type": "stream",
     "text": [
      "#Param replaced: 21, max distortion: 1.000000"
     ]
    },
    {
     "name": "stdout",
     "output_type": "stream",
     "text": [
      "\n"
     ]
    },
    {
     "name": "stdout",
     "output_type": "stream",
     "text": [
      "#Param replaced: 5, max distortion: 1.000000"
     ]
    },
    {
     "name": "stdout",
     "output_type": "stream",
     "text": [
      "\n"
     ]
    },
    {
     "name": "stdout",
     "output_type": "stream",
     "text": [
      "#Param replaced: 0, max distortion: 1.000000"
     ]
    },
    {
     "name": "stdout",
     "output_type": "stream",
     "text": [
      "\n"
     ]
    },
    {
     "name": "stdout",
     "output_type": "stream",
     "text": [
      "Max local distortion after postprocessing: 0.9999999999990001\n",
      "Done.\n",
      "##############################\n",
      "Time elapsed from last time log: 4.7 seconds\n",
      "Total time elapsed: 5.7 seconds\n",
      "##############################\n",
      "Max local distortion = 0.9999999999990001\n"
     ]
    },
    {
     "name": "stdout",
     "output_type": "stream",
     "text": [
      "Constructing intermediate views.\n",
      "eta = 2.\n",
      "# non-empty views with sz < 2 = 10227\n",
      "#nodes in views with sz < 2 = 10227\n"
     ]
    },
    {
     "name": "stdout",
     "output_type": "stream",
     "text": [
      "Costs computed when eta = 2.\n",
      "##############################\n",
      "Time elapsed from last time log: 9.4 seconds\n",
      "Total time elapsed: 10.3 seconds\n",
      "##############################\n"
     ]
    },
    {
     "name": "stdout",
     "output_type": "stream",
     "text": [
      "Remaining #nodes in views with sz < 2 = 0\n",
      "Done with eta = 2.\n",
      "##############################\n",
      "Time elapsed from last time log: 432.3 seconds\n",
      "Total time elapsed: 442.6 seconds\n",
      "##############################\n",
      "eta = 3.\n",
      "# non-empty views with sz < 3 = 25\n",
      "#nodes in views with sz < 3 = 50\n"
     ]
    },
    {
     "name": "stdout",
     "output_type": "stream",
     "text": [
      "Costs computed when eta = 3.\n",
      "##############################\n",
      "Time elapsed from last time log: 0.5 seconds\n",
      "Total time elapsed: 443.2 seconds\n",
      "##############################\n",
      "Remaining #nodes in views with sz < 3 = 40\n",
      "Done with eta = 3.\n",
      "##############################\n",
      "Time elapsed from last time log: 0.0 seconds\n",
      "Total time elapsed: 443.2 seconds\n",
      "##############################\n",
      "eta = 4.\n",
      "# non-empty views with sz < 4 = 29\n",
      "#nodes in views with sz < 4 = 67\n"
     ]
    },
    {
     "name": "stdout",
     "output_type": "stream",
     "text": [
      "Costs computed when eta = 4.\n",
      "##############################\n",
      "Time elapsed from last time log: 0.6 seconds\n",
      "Total time elapsed: 443.8 seconds\n",
      "##############################\n",
      "Remaining #nodes in views with sz < 4 = 58\n",
      "Done with eta = 4.\n",
      "##############################\n",
      "Time elapsed from last time log: 0.0 seconds\n",
      "Total time elapsed: 443.8 seconds\n",
      "##############################\n",
      "eta = 5.\n",
      "# non-empty views with sz < 5 = 34\n",
      "#nodes in views with sz < 5 = 90\n"
     ]
    },
    {
     "name": "stdout",
     "output_type": "stream",
     "text": [
      "Costs computed when eta = 5.\n",
      "##############################\n",
      "Time elapsed from last time log: 0.6 seconds\n",
      "Total time elapsed: 444.4 seconds\n",
      "##############################\n",
      "Remaining #nodes in views with sz < 5 = 78\n",
      "Done with eta = 5.\n",
      "##############################\n",
      "Time elapsed from last time log: 0.0 seconds\n",
      "Total time elapsed: 444.5 seconds\n",
      "##############################\n",
      "Pruning and cleaning up.\n"
     ]
    },
    {
     "name": "stdout",
     "output_type": "stream",
     "text": [
      "Done.\n",
      "##############################\n",
      "Time elapsed from last time log: 0.5 seconds\n",
      "Total time elapsed: 445.0 seconds\n",
      "##############################\n",
      "After clustering, max distortion is 1.000000\n",
      "Ambiguous overlaps checked for 0 intermediate views\n"
     ]
    },
    {
     "name": "stdout",
     "output_type": "stream",
     "text": [
      "Ambiguous overlaps checked for 114 intermediate views\n"
     ]
    },
    {
     "name": "stdout",
     "output_type": "stream",
     "text": [
      "Ambiguous overlaps checked for 228 intermediate views\n"
     ]
    },
    {
     "name": "stdout",
     "output_type": "stream",
     "text": [
      "Ambiguous overlaps checked for 342 intermediate views\n"
     ]
    },
    {
     "name": "stdout",
     "output_type": "stream",
     "text": [
      "Ambiguous overlaps checked for 456 intermediate views\n",
      "Ambiguous overlaps checked for 457 points\n",
      "Seq of intermediate views and their predecessors computed.\n",
      "No. of connected components = 1\n",
      "Computing initial embedding using: procrustes algorithm\n",
      "##############################\n",
      "Time elapsed from last time log: 1.7 seconds\n",
      "Total time elapsed: 1.7 seconds\n",
      "##############################\n",
      "Initial alignment of 114 views completed\n"
     ]
    },
    {
     "name": "stdout",
     "output_type": "stream",
     "text": [
      "Initial alignment of 228 views completed\n"
     ]
    },
    {
     "name": "stdout",
     "output_type": "stream",
     "text": [
      "Initial alignment of 342 views completed\n"
     ]
    },
    {
     "name": "stdout",
     "output_type": "stream",
     "text": [
      "Initial alignment of 456 views completed\n"
     ]
    },
    {
     "name": "stdout",
     "output_type": "stream",
     "text": [
      "Embedding initialized.\n",
      "##############################\n",
      "Time elapsed from last time log: 0.4 seconds\n",
      "Total time elapsed: 2.1 seconds\n",
      "##############################\n"
     ]
    },
    {
     "data": {
      "image/png": "[encoded data removed]",
      "text/plain": [
       "<Figure size 432x288 with 1 Axes>"
      ]
     },
     "metadata": {},
     "output_type": "display_data"
    },
    {
     "data": {
      "text/plain": [
       "<Figure size 432x288 with 0 Axes>"
      ]
     },
     "metadata": {},
     "output_type": "display_data"
    },
    {
     "name": "stdout",
     "output_type": "stream",
     "text": [
      "Refining with rgd algorithm for 100 iterations.\n",
      "Refinement iteration: 0\n",
      "##############################\n",
      "Time elapsed from last time log: 0.0 seconds\n",
      "Total time elapsed: 3.0 seconds\n",
      "##############################\n"
     ]
    },
    {
     "name": "stdout",
     "output_type": "stream",
     "text": [
      "Computing Pseudoinverse of a matrix of L of size 10684 multiplied with B\n"
     ]
    },
    {
     "name": "stdout",
     "output_type": "stream",
     "text": [
      "Descent starts\n"
     ]
    },
    {
     "name": "stdout",
     "output_type": "stream",
     "text": [
      "Done.\n",
      "##############################\n",
      "Time elapsed from last time log: 2.5 seconds\n",
      "Total time elapsed: 5.6 seconds\n",
      "##############################\n"
     ]
    },
    {
     "data": {
      "image/png": "[encoded data removed]",
      "text/plain": [
       "<Figure size 432x288 with 1 Axes>"
      ]
     },
     "metadata": {},
     "output_type": "display_data"
    },
    {
     "data": {
      "text/plain": [
       "<Figure size 432x288 with 0 Axes>"
      ]
     },
     "metadata": {},
     "output_type": "display_data"
    },
    {
     "name": "stdout",
     "output_type": "stream",
     "text": [
      "Refining with rgd algorithm for 100 iterations.\n",
      "Refinement iteration: 1\n",
      "##############################\n",
      "Time elapsed from last time log: 0.0 seconds\n",
      "Total time elapsed: 6.1 seconds\n",
      "##############################\n"
     ]
    },
    {
     "name": "stdout",
     "output_type": "stream",
     "text": [
      "Computing Pseudoinverse of a matrix of L of size 10684 multiplied with B\n"
     ]
    },
    {
     "name": "stdout",
     "output_type": "stream",
     "text": [
      "Descent starts\n"
     ]
    },
    {
     "name": "stdout",
     "output_type": "stream",
     "text": [
      "Done.\n",
      "##############################\n",
      "Time elapsed from last time log: 2.4 seconds\n",
      "Total time elapsed: 8.5 seconds\n",
      "##############################\n"
     ]
    },
    {
     "data": {
      "image/png": "[encoded data removed]",
      "text/plain": [
       "<Figure size 432x288 with 1 Axes>"
      ]
     },
     "metadata": {},
     "output_type": "display_data"
    },
    {
     "data": {
      "text/plain": [
       "<Figure size 432x288 with 0 Axes>"
      ]
     },
     "metadata": {},
     "output_type": "display_data"
    },
    {
     "name": "stdout",
     "output_type": "stream",
     "text": [
      "Refining with rgd algorithm for 100 iterations.\n",
      "Refinement iteration: 2\n",
      "##############################\n",
      "Time elapsed from last time log: 0.0 seconds\n",
      "Total time elapsed: 9.1 seconds\n",
      "##############################\n"
     ]
    },
    {
     "name": "stdout",
     "output_type": "stream",
     "text": [
      "Computing Pseudoinverse of a matrix of L of size 10684 multiplied with B\n"
     ]
    },
    {
     "name": "stdout",
     "output_type": "stream",
     "text": [
      "Descent starts\n"
     ]
    },
    {
     "name": "stdout",
     "output_type": "stream",
     "text": [
      "Done.\n",
      "##############################\n",
      "Time elapsed from last time log: 2.2 seconds\n",
      "Total time elapsed: 11.3 seconds\n",
      "##############################\n"
     ]
    },
    {
     "data": {
      "image/png": "[encoded data removed]",
      "text/plain": [
       "<Figure size 432x288 with 1 Axes>"
      ]
     },
     "metadata": {},
     "output_type": "display_data"
    },
    {
     "data": {
      "text/plain": [
       "<Figure size 432x288 with 0 Axes>"
      ]
     },
     "metadata": {},
     "output_type": "display_data"
    },
    {
     "name": "stdout",
     "output_type": "stream",
     "text": [
      "Refining with rgd algorithm for 100 iterations.\n",
      "Refinement iteration: 3\n",
      "##############################\n",
      "Time elapsed from last time log: 0.0 seconds\n",
      "Total time elapsed: 11.9 seconds\n",
      "##############################\n"
     ]
    },
    {
     "name": "stdout",
     "output_type": "stream",
     "text": [
      "Computing Pseudoinverse of a matrix of L of size 10684 multiplied with B\n"
     ]
    },
    {
     "name": "stdout",
     "output_type": "stream",
     "text": [
      "Descent starts\n"
     ]
    },
    {
     "name": "stdout",
     "output_type": "stream",
     "text": [
      "Done.\n",
      "##############################\n",
      "Time elapsed from last time log: 2.5 seconds\n",
      "Total time elapsed: 14.4 seconds\n",
      "##############################\n"
     ]
    },
    {
     "data": {
      "image/png": "[encoded data removed]",
      "text/plain": [
       "<Figure size 432x288 with 1 Axes>"
      ]
     },
     "metadata": {},
     "output_type": "display_data"
    },
    {
     "data": {
      "text/plain": [
       "<Figure size 432x288 with 0 Axes>"
      ]
     },
     "metadata": {},
     "output_type": "display_data"
    },
    {
     "name": "stdout",
     "output_type": "stream",
     "text": [
      "Refining with rgd algorithm for 100 iterations.\n",
      "Refinement iteration: 4\n",
      "##############################\n",
      "Time elapsed from last time log: 0.0 seconds\n",
      "Total time elapsed: 15.1 seconds\n",
      "##############################\n"
     ]
    },
    {
     "name": "stdout",
     "output_type": "stream",
     "text": [
      "Computing Pseudoinverse of a matrix of L of size 10684 multiplied with B\n"
     ]
    },
    {
     "name": "stdout",
     "output_type": "stream",
     "text": [
      "Descent starts\n"
     ]
    },
    {
     "name": "stdout",
     "output_type": "stream",
     "text": [
      "Done.\n",
      "##############################\n",
      "Time elapsed from last time log: 3.0 seconds\n",
      "Total time elapsed: 18.1 seconds\n",
      "##############################\n"
     ]
    },
    {
     "data": {
      "image/png": "[encoded data removed]",
      "text/plain": [
       "<Figure size 432x288 with 1 Axes>"
      ]
     },
     "metadata": {},
     "output_type": "display_data"
    },
    {
     "data": {
      "text/plain": [
       "<Figure size 432x288 with 0 Axes>"
      ]
     },
     "metadata": {},
     "output_type": "display_data"
    },
    {
     "name": "stdout",
     "output_type": "stream",
     "text": [
      "Refining with rgd algorithm for 100 iterations.\n",
      "Refinement iteration: 5\n",
      "##############################\n",
      "Time elapsed from last time log: 0.0 seconds\n",
      "Total time elapsed: 18.9 seconds\n",
      "##############################\n"
     ]
    },
    {
     "name": "stdout",
     "output_type": "stream",
     "text": [
      "Computing Pseudoinverse of a matrix of L of size 10684 multiplied with B\n"
     ]
    },
    {
     "name": "stdout",
     "output_type": "stream",
     "text": [
      "Descent starts\n"
     ]
    },
    {
     "name": "stdout",
     "output_type": "stream",
     "text": [
      "Done.\n",
      "##############################\n",
      "Time elapsed from last time log: 3.1 seconds\n",
      "Total time elapsed: 22.0 seconds\n",
      "##############################\n"
     ]
    },
    {
     "data": {
      "image/png": "[encoded data removed]",
      "text/plain": [
       "<Figure size 432x288 with 1 Axes>"
      ]
     },
     "metadata": {},
     "output_type": "display_data"
    },
    {
     "data": {
      "text/plain": [
       "<Figure size 432x288 with 0 Axes>"
      ]
     },
     "metadata": {},
     "output_type": "display_data"
    },
    {
     "name": "stdout",
     "output_type": "stream",
     "text": [
      "Refining with rgd algorithm for 100 iterations.\n",
      "Refinement iteration: 6\n",
      "##############################\n",
      "Time elapsed from last time log: 0.0 seconds\n",
      "Total time elapsed: 22.7 seconds\n",
      "##############################\n"
     ]
    },
    {
     "name": "stdout",
     "output_type": "stream",
     "text": [
      "Computing Pseudoinverse of a matrix of L of size 10684 multiplied with B\n"
     ]
    },
    {
     "name": "stdout",
     "output_type": "stream",
     "text": [
      "Descent starts\n"
     ]
    },
    {
     "name": "stdout",
     "output_type": "stream",
     "text": [
      "Done.\n",
      "##############################\n",
      "Time elapsed from last time log: 3.3 seconds\n",
      "Total time elapsed: 26.1 seconds\n",
      "##############################\n"
     ]
    },
    {
     "data": {
      "image/png": "[encoded data removed]",
      "text/plain": [
       "<Figure size 432x288 with 1 Axes>"
      ]
     },
     "metadata": {},
     "output_type": "display_data"
    },
    {
     "data": {
      "text/plain": [
       "<Figure size 432x288 with 0 Axes>"
      ]
     },
     "metadata": {},
     "output_type": "display_data"
    },
    {
     "name": "stdout",
     "output_type": "stream",
     "text": [
      "Refining with rgd algorithm for 100 iterations.\n",
      "Refinement iteration: 7\n",
      "##############################\n",
      "Time elapsed from last time log: 0.0 seconds\n",
      "Total time elapsed: 26.9 seconds\n",
      "##############################\n"
     ]
    },
    {
     "name": "stdout",
     "output_type": "stream",
     "text": [
      "Computing Pseudoinverse of a matrix of L of size 10684 multiplied with B\n"
     ]
    },
    {
     "name": "stdout",
     "output_type": "stream",
     "text": [
      "Descent starts\n"
     ]
    },
    {
     "name": "stdout",
     "output_type": "stream",
     "text": [
      "Done.\n",
      "##############################\n",
      "Time elapsed from last time log: 2.8 seconds\n",
      "Total time elapsed: 29.7 seconds\n",
      "##############################\n"
     ]
    },
    {
     "data": {
      "image/png": "[encoded data removed]",
      "text/plain": [
       "<Figure size 432x288 with 1 Axes>"
      ]
     },
     "metadata": {},
     "output_type": "display_data"
    },
    {
     "data": {
      "text/plain": [
       "<Figure size 432x288 with 0 Axes>"
      ]
     },
     "metadata": {},
     "output_type": "display_data"
    },
    {
     "name": "stdout",
     "output_type": "stream",
     "text": [
      "Refining with rgd algorithm for 100 iterations.\n",
      "Refinement iteration: 8\n",
      "##############################\n",
      "Time elapsed from last time log: 0.0 seconds\n",
      "Total time elapsed: 30.4 seconds\n",
      "##############################\n"
     ]
    },
    {
     "name": "stdout",
     "output_type": "stream",
     "text": [
      "Computing Pseudoinverse of a matrix of L of size 10684 multiplied with B\n"
     ]
    },
    {
     "name": "stdout",
     "output_type": "stream",
     "text": [
      "Descent starts\n"
     ]
    },
    {
     "name": "stdout",
     "output_type": "stream",
     "text": [
      "Done.\n",
      "##############################\n",
      "Time elapsed from last time log: 4.0 seconds\n",
      "Total time elapsed: 34.4 seconds\n",
      "##############################\n"
     ]
    },
    {
     "data": {
      "image/png": "[encoded data removed]",
      "text/plain": [
       "<Figure size 432x288 with 1 Axes>"
      ]
     },
     "metadata": {},
     "output_type": "display_data"
    },
    {
     "data": {
      "text/plain": [
       "<Figure size 432x288 with 0 Axes>"
      ]
     },
     "metadata": {},
     "output_type": "display_data"
    },
    {
     "name": "stdout",
     "output_type": "stream",
     "text": [
      "Refining with rgd algorithm for 100 iterations.\n",
      "Refinement iteration: 9\n",
      "##############################\n",
      "Time elapsed from last time log: 0.0 seconds\n",
      "Total time elapsed: 35.4 seconds\n",
      "##############################\n"
     ]
    },
    {
     "name": "stdout",
     "output_type": "stream",
     "text": [
      "Computing Pseudoinverse of a matrix of L of size 10684 multiplied with B\n"
     ]
    },
    {
     "name": "stdout",
     "output_type": "stream",
     "text": [
      "Descent starts\n"
     ]
    },
    {
     "name": "stdout",
     "output_type": "stream",
     "text": [
      "Done.\n",
      "##############################\n",
      "Time elapsed from last time log: 2.7 seconds\n",
      "Total time elapsed: 38.1 seconds\n",
      "##############################\n"
     ]
    },
    {
     "data": {
      "image/png": "[encoded data removed]",
      "text/plain": [
       "<Figure size 432x288 with 1 Axes>"
      ]
     },
     "metadata": {},
     "output_type": "display_data"
    },
    {
     "data": {
      "text/plain": [
       "<Figure size 432x288 with 0 Axes>"
      ]
     },
     "metadata": {},
     "output_type": "display_data"
    },
    {
     "name": "stdout",
     "output_type": "stream",
     "text": [
      "Refining with rgd algorithm for 100 iterations.\n",
      "Refinement iteration: 10\n",
      "##############################\n",
      "Time elapsed from last time log: 0.0 seconds\n",
      "Total time elapsed: 38.7 seconds\n",
      "##############################\n"
     ]
    },
    {
     "name": "stdout",
     "output_type": "stream",
     "text": [
      "Computing Pseudoinverse of a matrix of L of size 10684 multiplied with B\n"
     ]
    },
    {
     "name": "stdout",
     "output_type": "stream",
     "text": [
      "Descent starts\n"
     ]
    },
    {
     "name": "stdout",
     "output_type": "stream",
     "text": [
      "Done.\n",
      "##############################\n",
      "Time elapsed from last time log: 3.3 seconds\n",
      "Total time elapsed: 42.1 seconds\n",
      "##############################\n"
     ]
    },
    {
     "data": {
      "image/png": "[encoded data removed]",
      "text/plain": [
       "<Figure size 432x288 with 1 Axes>"
      ]
     },
     "metadata": {},
     "output_type": "display_data"
    },
    {
     "data": {
      "text/plain": [
       "<Figure size 432x288 with 0 Axes>"
      ]
     },
     "metadata": {},
     "output_type": "display_data"
    },
    {
     "name": "stdout",
     "output_type": "stream",
     "text": [
      "Refining with rgd algorithm for 100 iterations.\n",
      "Refinement iteration: 11\n",
      "##############################\n",
      "Time elapsed from last time log: 0.0 seconds\n",
      "Total time elapsed: 42.8 seconds\n",
      "##############################\n"
     ]
    },
    {
     "name": "stdout",
     "output_type": "stream",
     "text": [
      "Computing Pseudoinverse of a matrix of L of size 10684 multiplied with B\n"
     ]
    },
    {
     "name": "stdout",
     "output_type": "stream",
     "text": [
      "Descent starts\n"
     ]
    },
    {
     "name": "stdout",
     "output_type": "stream",
     "text": [
      "Done.\n",
      "##############################\n",
      "Time elapsed from last time log: 2.9 seconds\n",
      "Total time elapsed: 45.7 seconds\n",
      "##############################\n"
     ]
    },
    {
     "data": {
      "image/png": "[encoded data removed]",
      "text/plain": [
       "<Figure size 432x288 with 1 Axes>"
      ]
     },
     "metadata": {},
     "output_type": "display_data"
    },
    {
     "data": {
      "text/plain": [
       "<Figure size 432x288 with 0 Axes>"
      ]
     },
     "metadata": {},
     "output_type": "display_data"
    },
    {
     "name": "stdout",
     "output_type": "stream",
     "text": [
      "Refining with rgd algorithm for 100 iterations.\n",
      "Refinement iteration: 12\n",
      "##############################\n",
      "Time elapsed from last time log: 0.0 seconds\n",
      "Total time elapsed: 46.4 seconds\n",
      "##############################\n"
     ]
    },
    {
     "name": "stdout",
     "output_type": "stream",
     "text": [
      "Computing Pseudoinverse of a matrix of L of size 10684 multiplied with B\n"
     ]
    },
    {
     "name": "stdout",
     "output_type": "stream",
     "text": [
      "Descent starts\n"
     ]
    },
    {
     "name": "stdout",
     "output_type": "stream",
     "text": [
      "Done.\n",
      "##############################\n",
      "Time elapsed from last time log: 3.1 seconds\n",
      "Total time elapsed: 49.5 seconds\n",
      "##############################\n"
     ]
    },
    {
     "data": {
      "image/png": "[encoded data removed]",
      "text/plain": [
       "<Figure size 432x288 with 1 Axes>"
      ]
     },
     "metadata": {},
     "output_type": "display_data"
    },
    {
     "data": {
      "text/plain": [
       "<Figure size 432x288 with 0 Axes>"
      ]
     },
     "metadata": {},
     "output_type": "display_data"
    },
    {
     "name": "stdout",
     "output_type": "stream",
     "text": [
      "Refining with rgd algorithm for 100 iterations.\n",
      "Refinement iteration: 13\n",
      "##############################\n",
      "Time elapsed from last time log: 0.0 seconds\n",
      "Total time elapsed: 50.3 seconds\n",
      "##############################\n"
     ]
    },
    {
     "name": "stdout",
     "output_type": "stream",
     "text": [
      "Computing Pseudoinverse of a matrix of L of size 10684 multiplied with B\n"
     ]
    },
    {
     "name": "stdout",
     "output_type": "stream",
     "text": [
      "Descent starts\n"
     ]
    },
    {
     "name": "stdout",
     "output_type": "stream",
     "text": [
      "Done.\n",
      "##############################\n",
      "Time elapsed from last time log: 3.3 seconds\n",
      "Total time elapsed: 53.6 seconds\n",
      "##############################\n"
     ]
    },
    {
     "data": {
      "image/png": "[encoded data removed]",
      "text/plain": [
       "<Figure size 432x288 with 1 Axes>"
      ]
     },
     "metadata": {},
     "output_type": "display_data"
    },
    {
     "data": {
      "text/plain": [
       "<Figure size 432x288 with 0 Axes>"
      ]
     },
     "metadata": {},
     "output_type": "display_data"
    },
    {
     "name": "stdout",
     "output_type": "stream",
     "text": [
      "Refining with rgd algorithm for 100 iterations.\n",
      "Refinement iteration: 14\n",
      "##############################\n",
      "Time elapsed from last time log: 0.0 seconds\n",
      "Total time elapsed: 54.3 seconds\n",
      "##############################\n"
     ]
    },
    {
     "name": "stdout",
     "output_type": "stream",
     "text": [
      "Computing Pseudoinverse of a matrix of L of size 10684 multiplied with B\n"
     ]
    },
    {
     "name": "stdout",
     "output_type": "stream",
     "text": [
      "Descent starts\n"
     ]
    },
    {
     "name": "stdout",
     "output_type": "stream",
     "text": [
      "Done.\n",
      "##############################\n",
      "Time elapsed from last time log: 3.3 seconds\n",
      "Total time elapsed: 57.7 seconds\n",
      "##############################\n"
     ]
    },
    {
     "data": {
      "image/png": "[encoded data removed]",
      "text/plain": [
       "<Figure size 432x288 with 1 Axes>"
      ]
     },
     "metadata": {},
     "output_type": "display_data"
    },
    {
     "data": {
      "text/plain": [
       "<Figure size 432x288 with 0 Axes>"
      ]
     },
     "metadata": {},
     "output_type": "display_data"
    },
    {
     "name": "stdout",
     "output_type": "stream",
     "text": [
      "Refining with rgd algorithm for 100 iterations.\n",
      "Refinement iteration: 15\n",
      "##############################\n",
      "Time elapsed from last time log: 0.0 seconds\n",
      "Total time elapsed: 58.5 seconds\n",
      "##############################\n"
     ]
    },
    {
     "name": "stdout",
     "output_type": "stream",
     "text": [
      "Computing Pseudoinverse of a matrix of L of size 10684 multiplied with B\n"
     ]
    },
    {
     "name": "stdout",
     "output_type": "stream",
     "text": [
      "Descent starts\n"
     ]
    },
    {
     "name": "stdout",
     "output_type": "stream",
     "text": [
      "Done.\n",
      "##############################\n",
      "Time elapsed from last time log: 2.9 seconds\n",
      "Total time elapsed: 61.4 seconds\n",
      "##############################\n"
     ]
    },
    {
     "data": {
      "image/png": "[encoded data removed]",
      "text/plain": [
       "<Figure size 432x288 with 1 Axes>"
      ]
     },
     "metadata": {},
     "output_type": "display_data"
    },
    {
     "data": {
      "text/plain": [
       "<Figure size 432x288 with 0 Axes>"
      ]
     },
     "metadata": {},
     "output_type": "display_data"
    },
    {
     "name": "stdout",
     "output_type": "stream",
     "text": [
      "Refining with rgd algorithm for 100 iterations.\n",
      "Refinement iteration: 16\n",
      "##############################\n",
      "Time elapsed from last time log: 0.0 seconds\n",
      "Total time elapsed: 62.0 seconds\n",
      "##############################\n"
     ]
    },
    {
     "name": "stdout",
     "output_type": "stream",
     "text": [
      "Computing Pseudoinverse of a matrix of L of size 10684 multiplied with B\n"
     ]
    },
    {
     "name": "stdout",
     "output_type": "stream",
     "text": [
      "Descent starts\n"
     ]
    },
    {
     "name": "stdout",
     "output_type": "stream",
     "text": [
      "Done.\n",
      "##############################\n",
      "Time elapsed from last time log: 3.6 seconds\n",
      "Total time elapsed: 65.7 seconds\n",
      "##############################\n"
     ]
    },
    {
     "data": {
      "image/png": "[encoded data removed]",
      "text/plain": [
       "<Figure size 432x288 with 1 Axes>"
      ]
     },
     "metadata": {},
     "output_type": "display_data"
    },
    {
     "data": {
      "text/plain": [
       "<Figure size 432x288 with 0 Axes>"
      ]
     },
     "metadata": {},
     "output_type": "display_data"
    },
    {
     "name": "stdout",
     "output_type": "stream",
     "text": [
      "Refining with rgd algorithm for 100 iterations.\n",
      "Refinement iteration: 17\n",
      "##############################\n",
      "Time elapsed from last time log: 0.0 seconds\n",
      "Total time elapsed: 66.6 seconds\n",
      "##############################\n"
     ]
    },
    {
     "name": "stdout",
     "output_type": "stream",
     "text": [
      "Computing Pseudoinverse of a matrix of L of size 10684 multiplied with B\n"
     ]
    },
    {
     "name": "stdout",
     "output_type": "stream",
     "text": [
      "Descent starts\n"
     ]
    },
    {
     "name": "stdout",
     "output_type": "stream",
     "text": [
      "Done.\n",
      "##############################\n",
      "Time elapsed from last time log: 3.3 seconds\n",
      "Total time elapsed: 69.8 seconds\n",
      "##############################\n"
     ]
    },
    {
     "data": {
      "image/png": "[encoded data removed]",
      "text/plain": [
       "<Figure size 432x288 with 1 Axes>"
      ]
     },
     "metadata": {},
     "output_type": "display_data"
    },
    {
     "data": {
      "text/plain": [
       "<Figure size 432x288 with 0 Axes>"
      ]
     },
     "metadata": {},
     "output_type": "display_data"
    },
    {
     "name": "stdout",
     "output_type": "stream",
     "text": [
      "Refining with rgd algorithm for 100 iterations.\n",
      "Refinement iteration: 18\n",
      "##############################\n",
      "Time elapsed from last time log: 0.0 seconds\n",
      "Total time elapsed: 70.5 seconds\n",
      "##############################\n"
     ]
    },
    {
     "name": "stdout",
     "output_type": "stream",
     "text": [
      "Computing Pseudoinverse of a matrix of L of size 10684 multiplied with B\n"
     ]
    },
    {
     "name": "stdout",
     "output_type": "stream",
     "text": [
      "Descent starts\n"
     ]
    },
    {
     "name": "stdout",
     "output_type": "stream",
     "text": [
      "Done.\n",
      "##############################\n",
      "Time elapsed from last time log: 3.1 seconds\n",
      "Total time elapsed: 73.6 seconds\n",
      "##############################\n"
     ]
    },
    {
     "data": {
      "image/png": "[encoded data removed]",
      "text/plain": [
       "<Figure size 432x288 with 1 Axes>"
      ]
     },
     "metadata": {},
     "output_type": "display_data"
    },
    {
     "data": {
      "text/plain": [
       "<Figure size 432x288 with 0 Axes>"
      ]
     },
     "metadata": {},
     "output_type": "display_data"
    },
    {
     "name": "stdout",
     "output_type": "stream",
     "text": [
      "Refining with rgd algorithm for 100 iterations.\n",
      "Refinement iteration: 19\n",
      "##############################\n",
      "Time elapsed from last time log: 0.0 seconds\n",
      "Total time elapsed: 74.4 seconds\n",
      "##############################\n"
     ]
    },
    {
     "name": "stdout",
     "output_type": "stream",
     "text": [
      "Computing Pseudoinverse of a matrix of L of size 10684 multiplied with B\n"
     ]
    },
    {
     "name": "stdout",
     "output_type": "stream",
     "text": [
      "Descent starts\n"
     ]
    },
    {
     "name": "stdout",
     "output_type": "stream",
     "text": [
      "Done.\n",
      "##############################\n",
      "Time elapsed from last time log: 3.3 seconds\n",
      "Total time elapsed: 77.7 seconds\n",
      "##############################\n",
      "Computing error.\n"
     ]
    },
    {
     "name": "stdout",
     "output_type": "stream",
     "text": [
      "Computing Pseudoinverse of a matrix of L of size 10684 multiplied with B\n"
     ]
    },
    {
     "name": "stdout",
     "output_type": "stream",
     "text": [
      "Alignment error: -0.000\n",
      "##############################\n",
      "Time elapsed from last time log: 1.2 seconds\n",
      "Total time elapsed: 78.9 seconds\n",
      "##############################\n"
     ]
    },
    {
     "data": {
      "image/png": "[encoded data removed]",
      "text/plain": [
       "<Figure size 432x288 with 1 Axes>"
      ]
     },
     "metadata": {},
     "output_type": "display_data"
    },
    {
     "data": {
      "text/plain": [
       "<Figure size 432x288 with 0 Axes>"
      ]
     },
     "metadata": {},
     "output_type": "display_data"
    },
    {
     "data": {
      "text/plain": [
       "array([[-0.07952575, -1.47564266],\n",
       "       [-0.06958503, -1.47564266],\n",
       "       [-0.05964432, -1.47564266],\n",
       "       ...,\n",
       "       [ 0.02982216,  0.74779189],\n",
       "       [ 0.03976288,  0.74779189],\n",
       "       [ 0.0497036 ,  0.74779189]])"
      ]
     },
     "execution_count": 7,
     "metadata": {},
     "output_type": "execute_result"
    }
   ],
   "source": [
    "ldle.fit(X=X)"
   ]
  },
  {
   "cell_type": "code",
   "execution_count": 8,
   "id": "c7381785",
   "metadata": {
    "execution": {
     "iopub.execute_input": "2022-08-03T04:35:53.327928Z",
     "iopub.status.busy": "2022-08-03T04:35:53.327396Z",
     "iopub.status.idle": "2022-08-03T04:35:53.455861Z",
     "shell.execute_reply": "2022-08-03T04:35:53.455270Z"
    }
   },
   "outputs": [
    {
     "data": {
      "image/png": "[encoded data removed]",
      "text/plain": [
       "<Figure size 432x288 with 1 Axes>"
      ]
     },
     "metadata": {},
     "output_type": "display_data"
    },
    {
     "data": {
      "text/plain": [
       "<Figure size 432x288 with 0 Axes>"
      ]
     },
     "metadata": {},
     "output_type": "display_data"
    }
   ],
   "source": [
    "ldle.GlobalViews.vis_embedding(ldle.GlobalViews.y_final, ldle.vis, ldle.vis_opts,\n",
    "                               ldle.GlobalViews.color_of_pts_on_tear_final,\n",
    "                               title='Final global embedding', )"
   ]
  },
  {
   "cell_type": "code",
   "execution_count": 9,
   "id": "4d630749",
   "metadata": {
    "execution": {
     "iopub.execute_input": "2022-08-03T04:35:53.459956Z",
     "iopub.status.busy": "2022-08-03T04:35:53.459725Z",
     "iopub.status.idle": "2022-08-03T04:35:53.643072Z",
     "shell.execute_reply": "2022-08-03T04:35:53.642275Z"
    }
   },
   "outputs": [
    {
     "name": "stdout",
     "output_type": "stream",
     "text": [
      "Saved ../data/pyLDLE2/barbell//ldle.dat\n"
     ]
    }
   ],
   "source": [
    "# save for further visualization\n",
    "import pickle\n",
    "save_path = save_dir_root+'/ldle.dat'\n",
    "with open(save_path, \"wb\") as f:\n",
    "    pickle.dump([X, labelsMat, ldle], f)\n",
    "print('Saved', save_path)"
   ]
  },
  {
   "cell_type": "code",
   "execution_count": null,
   "id": "41ee3a2b",
   "metadata": {},
   "outputs": [],
   "source": []
  }
 ],
 "metadata": {
  "kernelspec": {
   "display_name": "Python 3 (ipykernel)",
   "language": "python",
   "name": "python3"
  },
  "language_info": {
   "codemirror_mode": {
    "name": "ipython",
    "version": 3
   },
   "file_extension": ".py",
   "mimetype": "text/x-python",
   "name": "python",
   "nbconvert_exporter": "python",
   "pygments_lexer": "ipython3",
   "version": "3.9.12"
  }
 },
 "nbformat": 4,
 "nbformat_minor": 5
}
