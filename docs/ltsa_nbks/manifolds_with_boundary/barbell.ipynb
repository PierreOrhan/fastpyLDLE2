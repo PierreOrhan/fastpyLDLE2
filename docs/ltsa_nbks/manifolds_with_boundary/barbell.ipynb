{
 "cells": [
  {
   "cell_type": "markdown",
   "id": "2bf0f75c",
   "metadata": {},
   "source": [
    "### Barbell"
   ]
  },
  {
   "cell_type": "code",
   "execution_count": 1,
   "id": "ff81deb0",
   "metadata": {},
   "outputs": [],
   "source": [
    "%matplotlib inline"
   ]
  },
  {
   "cell_type": "code",
   "execution_count": 2,
   "id": "a8d77738",
   "metadata": {},
   "outputs": [],
   "source": [
    "# Not really required\n",
    "import sys\n",
    "sys.path.insert(0, '../../..')"
   ]
  },
  {
   "cell_type": "code",
   "execution_count": 3,
   "id": "ad5119aa",
   "metadata": {},
   "outputs": [
    {
     "name": "stdout",
     "output_type": "stream",
     "text": [
      "matplotlib.get_backend() =  module://matplotlib_inline.backend_inline\n"
     ]
    }
   ],
   "source": [
    "from pyLDLE2 import datasets\n",
    "from pyLDLE2 import ldle_"
   ]
  },
  {
   "cell_type": "code",
   "execution_count": 4,
   "id": "777aa611",
   "metadata": {},
   "outputs": [],
   "source": [
    "save_dir_root = '../data/pyLDLE2/barbell/'"
   ]
  },
  {
   "cell_type": "code",
   "execution_count": 5,
   "id": "55e389bc",
   "metadata": {},
   "outputs": [
    {
     "name": "stdout",
     "output_type": "stream",
     "text": [
      "X.shape =  (10227, 2)\n"
     ]
    }
   ],
   "source": [
    "X, labelsMat, ddX = datasets.Datasets().barbell()"
   ]
  },
  {
   "cell_type": "code",
   "execution_count": 6,
   "id": "a0e44b81",
   "metadata": {},
   "outputs": [
    {
     "name": "stdout",
     "output_type": "stream",
     "text": [
      "local_opts['k_nn0'] = 600 is created.\n"
     ]
    }
   ],
   "source": [
    "# The supplied options would override the default options\n",
    "ldle = ldle_.LDLE(local_opts={'algo':'LTSA'},\n",
    "                  vis_opts={'c': labelsMat[:,0], 'save_dir': save_dir_root},\n",
    "                  intermed_opts={'eta_min': 10},\n",
    "                  global_opts={\n",
    "                      'max_iter': 10,\n",
    "                      'init_algo_align_w_parent_only': True # Set this True for low noise\n",
    "                  },\n",
    "                  verbose=True, debug=True)"
   ]
  },
  {
   "cell_type": "code",
   "execution_count": 7,
   "id": "7eadfc89",
   "metadata": {
    "scrolled": false
   },
   "outputs": [
    {
     "name": "stdout",
     "output_type": "stream",
     "text": [
      "Constructing local views using LTSA.\n",
      "local_param: 0 points processed...\n",
      "local_param: 2556 points processed...\n",
      "local_param: 5112 points processed...\n",
      "local_param: 7668 points processed...\n",
      "local_param: 10224 points processed...\n",
      "local_param: all 10227 points processed...\n",
      "Done.\n",
      "##############################\n",
      "Time elapsed from last time log: 5.3 seconds\n",
      "Total time elapsed: 5.3 seconds\n",
      "##############################\n",
      "Max local distortion = 0.9999999999990017\n",
      "Constructing intermediate views.\n",
      "eta = 2.\n",
      "# non-empty views with sz < 2 = 10227\n",
      "#nodes in views with sz < 2 = 10227\n",
      "Costs computed when eta = 2.\n",
      "##############################\n",
      "Time elapsed from last time log: 11.2 seconds\n",
      "Total time elapsed: 11.3 seconds\n",
      "##############################\n",
      "Remaining #nodes in views with sz < 2 = 4\n",
      "Done with eta = 2.\n",
      "##############################\n",
      "Time elapsed from last time log: 234.3 seconds\n",
      "Total time elapsed: 245.6 seconds\n",
      "##############################\n",
      "eta = 3.\n",
      "# non-empty views with sz < 3 = 27\n",
      "#nodes in views with sz < 3 = 50\n",
      "Costs computed when eta = 3.\n",
      "##############################\n",
      "Time elapsed from last time log: 0.1 seconds\n",
      "Total time elapsed: 245.7 seconds\n",
      "##############################\n",
      "Remaining #nodes in views with sz < 3 = 5\n",
      "Done with eta = 3.\n",
      "##############################\n",
      "Time elapsed from last time log: 0.2 seconds\n",
      "Total time elapsed: 245.9 seconds\n",
      "##############################\n",
      "eta = 4.\n",
      "# non-empty views with sz < 4 = 42\n",
      "#nodes in views with sz < 4 = 116\n",
      "Costs computed when eta = 4.\n",
      "##############################\n",
      "Time elapsed from last time log: 0.2 seconds\n",
      "Total time elapsed: 246.1 seconds\n",
      "##############################\n",
      "Remaining #nodes in views with sz < 4 = 17\n",
      "Done with eta = 4.\n",
      "##############################\n",
      "Time elapsed from last time log: 0.9 seconds\n",
      "Total time elapsed: 247.0 seconds\n",
      "##############################\n",
      "eta = 5.\n",
      "# non-empty views with sz < 5 = 24\n",
      "#nodes in views with sz < 5 = 77\n",
      "Costs computed when eta = 5.\n",
      "##############################\n",
      "Time elapsed from last time log: 0.2 seconds\n",
      "Total time elapsed: 247.1 seconds\n",
      "##############################\n",
      "Remaining #nodes in views with sz < 5 = 33\n",
      "Done with eta = 5.\n",
      "##############################\n",
      "Time elapsed from last time log: 0.4 seconds\n",
      "Total time elapsed: 247.6 seconds\n",
      "##############################\n",
      "eta = 6.\n",
      "# non-empty views with sz < 6 = 20\n",
      "#nodes in views with sz < 6 = 68\n",
      "Costs computed when eta = 6.\n",
      "##############################\n",
      "Time elapsed from last time log: 0.1 seconds\n",
      "Total time elapsed: 247.7 seconds\n",
      "##############################\n",
      "Remaining #nodes in views with sz < 6 = 38\n",
      "Done with eta = 6.\n",
      "##############################\n",
      "Time elapsed from last time log: 0.2 seconds\n",
      "Total time elapsed: 247.8 seconds\n",
      "##############################\n",
      "eta = 7.\n",
      "# non-empty views with sz < 7 = 20\n",
      "#nodes in views with sz < 7 = 74\n",
      "Costs computed when eta = 7.\n",
      "##############################\n",
      "Time elapsed from last time log: 0.1 seconds\n",
      "Total time elapsed: 248.0 seconds\n",
      "##############################\n",
      "Remaining #nodes in views with sz < 7 = 56\n",
      "Done with eta = 7.\n",
      "##############################\n",
      "Time elapsed from last time log: 0.1 seconds\n",
      "Total time elapsed: 248.1 seconds\n",
      "##############################\n",
      "eta = 8.\n",
      "# non-empty views with sz < 8 = 23\n",
      "#nodes in views with sz < 8 = 98\n",
      "Costs computed when eta = 8.\n",
      "##############################\n",
      "Time elapsed from last time log: 0.2 seconds\n",
      "Total time elapsed: 248.3 seconds\n",
      "##############################\n",
      "Remaining #nodes in views with sz < 8 = 65\n",
      "Done with eta = 8.\n",
      "##############################\n",
      "Time elapsed from last time log: 0.9 seconds\n",
      "Total time elapsed: 249.2 seconds\n",
      "##############################\n",
      "eta = 9.\n",
      "# non-empty views with sz < 9 = 22\n",
      "#nodes in views with sz < 9 = 89\n",
      "Costs computed when eta = 9.\n",
      "##############################\n",
      "Time elapsed from last time log: 0.2 seconds\n",
      "Total time elapsed: 249.4 seconds\n",
      "##############################\n",
      "Remaining #nodes in views with sz < 9 = 71\n",
      "Done with eta = 9.\n",
      "##############################\n",
      "Time elapsed from last time log: 0.3 seconds\n",
      "Total time elapsed: 249.7 seconds\n",
      "##############################\n",
      "eta = 10.\n",
      "# non-empty views with sz < 10 = 24\n",
      "#nodes in views with sz < 10 = 98\n",
      "Costs computed when eta = 10.\n",
      "##############################\n",
      "Time elapsed from last time log: 0.1 seconds\n",
      "Total time elapsed: 249.8 seconds\n",
      "##############################\n",
      "Remaining #nodes in views with sz < 10 = 80\n",
      "Done with eta = 10.\n",
      "##############################\n",
      "Time elapsed from last time log: 0.1 seconds\n",
      "Total time elapsed: 249.9 seconds\n",
      "##############################\n",
      "Pruning and cleaning up.\n",
      "Done.\n",
      "##############################\n",
      "Time elapsed from last time log: 1.5 seconds\n",
      "Total time elapsed: 251.5 seconds\n",
      "##############################\n",
      "After clustering, max distortion is 1.000000\n",
      "Ambiguous overlaps checked for 0 intermediate views\n",
      "Ambiguous overlaps checked for 109 intermediate views\n",
      "Ambiguous overlaps checked for 218 intermediate views\n",
      "Ambiguous overlaps checked for 327 intermediate views\n",
      "Ambiguous overlaps checked for 436 points\n",
      "Seq of intermediate views and their predecessors computed.\n",
      "No. of connected components = 1\n",
      "Computing initial embedding using: sequential algorithm\n",
      "##############################\n",
      "Time elapsed from last time log: 4.6 seconds\n",
      "Total time elapsed: 4.6 seconds\n",
      "##############################\n",
      "Initial alignment of 109 views completed\n",
      "Initial alignment of 218 views completed\n",
      "Initial alignment of 327 views completed\n",
      "Embedding initialized.\n",
      "##############################\n",
      "Time elapsed from last time log: 0.5 seconds\n",
      "Total time elapsed: 5.2 seconds\n",
      "##############################\n"
     ]
    },
    {
     "data": {
      "image/png": "[encoded data removed]",
      "text/plain": [
       "<Figure size 432x288 with 1 Axes>"
      ]
     },
     "metadata": {},
     "output_type": "display_data"
    },
    {
     "data": {
      "text/plain": [
       "<Figure size 432x288 with 0 Axes>"
      ]
     },
     "metadata": {},
     "output_type": "display_data"
    },
    {
     "name": "stdout",
     "output_type": "stream",
     "text": [
      "Refining with retraction algorithm for 100 iterations.\n",
      "Refinement iteration: 0\n",
      "##############################\n",
      "Time elapsed from last time log: 0.0 seconds\n",
      "Total time elapsed: 14.7 seconds\n",
      "##############################\n",
      "Computing Pseudoinverse of a matrix of L of size 10663\n",
      "Descent starts\n",
      "Done.\n",
      "##############################\n",
      "Time elapsed from last time log: 24.5 seconds\n",
      "Total time elapsed: 39.2 seconds\n",
      "##############################\n"
     ]
    },
    {
     "data": {
      "image/png": "[encoded data removed]",
      "text/plain": [
       "<Figure size 432x288 with 1 Axes>"
      ]
     },
     "metadata": {},
     "output_type": "display_data"
    },
    {
     "data": {
      "text/plain": [
       "<Figure size 432x288 with 0 Axes>"
      ]
     },
     "metadata": {},
     "output_type": "display_data"
    },
    {
     "name": "stdout",
     "output_type": "stream",
     "text": [
      "Refining with retraction algorithm for 100 iterations.\n",
      "Refinement iteration: 1\n",
      "##############################\n",
      "Time elapsed from last time log: 0.0 seconds\n",
      "Total time elapsed: 46.5 seconds\n",
      "##############################\n",
      "Computing Pseudoinverse of a matrix of L of size 10663\n",
      "Descent starts\n",
      "Done.\n",
      "##############################\n",
      "Time elapsed from last time log: 43.9 seconds\n",
      "Total time elapsed: 90.4 seconds\n",
      "##############################\n"
     ]
    },
    {
     "data": {
      "image/png": "[encoded data removed]",
      "text/plain": [
       "<Figure size 432x288 with 1 Axes>"
      ]
     },
     "metadata": {},
     "output_type": "display_data"
    },
    {
     "data": {
      "text/plain": [
       "<Figure size 432x288 with 0 Axes>"
      ]
     },
     "metadata": {},
     "output_type": "display_data"
    },
    {
     "name": "stdout",
     "output_type": "stream",
     "text": [
      "Refining with retraction algorithm for 100 iterations.\n",
      "Refinement iteration: 2\n",
      "##############################\n",
      "Time elapsed from last time log: 0.0 seconds\n",
      "Total time elapsed: 96.2 seconds\n",
      "##############################\n",
      "Computing Pseudoinverse of a matrix of L of size 10663\n",
      "Descent starts\n",
      "Done.\n",
      "##############################\n",
      "Time elapsed from last time log: 31.7 seconds\n",
      "Total time elapsed: 127.9 seconds\n",
      "##############################\n"
     ]
    },
    {
     "data": {
      "image/png": "[encoded data removed]",
      "text/plain": [
       "<Figure size 432x288 with 1 Axes>"
      ]
     },
     "metadata": {},
     "output_type": "display_data"
    },
    {
     "data": {
      "text/plain": [
       "<Figure size 432x288 with 0 Axes>"
      ]
     },
     "metadata": {},
     "output_type": "display_data"
    },
    {
     "name": "stdout",
     "output_type": "stream",
     "text": [
      "Refining with retraction algorithm for 100 iterations.\n",
      "Refinement iteration: 3\n",
      "##############################\n",
      "Time elapsed from last time log: 0.0 seconds\n",
      "Total time elapsed: 132.9 seconds\n",
      "##############################\n",
      "Computing Pseudoinverse of a matrix of L of size 10663\n",
      "Descent starts\n",
      "Done.\n",
      "##############################\n",
      "Time elapsed from last time log: 36.9 seconds\n",
      "Total time elapsed: 169.8 seconds\n",
      "##############################\n"
     ]
    },
    {
     "data": {
      "image/png": "[encoded data removed]",
      "text/plain": [
       "<Figure size 432x288 with 1 Axes>"
      ]
     },
     "metadata": {},
     "output_type": "display_data"
    },
    {
     "data": {
      "text/plain": [
       "<Figure size 432x288 with 0 Axes>"
      ]
     },
     "metadata": {},
     "output_type": "display_data"
    },
    {
     "name": "stdout",
     "output_type": "stream",
     "text": [
      "Refining with retraction algorithm for 100 iterations.\n",
      "Refinement iteration: 4\n",
      "##############################\n",
      "Time elapsed from last time log: 0.0 seconds\n",
      "Total time elapsed: 178.8 seconds\n",
      "##############################\n",
      "Computing Pseudoinverse of a matrix of L of size 10663\n",
      "Descent starts\n",
      "Done.\n",
      "##############################\n",
      "Time elapsed from last time log: 73.5 seconds\n",
      "Total time elapsed: 252.3 seconds\n",
      "##############################\n"
     ]
    },
    {
     "data": {
      "image/png": "[encoded data removed]",
      "text/plain": [
       "<Figure size 432x288 with 1 Axes>"
      ]
     },
     "metadata": {},
     "output_type": "display_data"
    },
    {
     "data": {
      "text/plain": [
       "<Figure size 432x288 with 0 Axes>"
      ]
     },
     "metadata": {},
     "output_type": "display_data"
    },
    {
     "name": "stdout",
     "output_type": "stream",
     "text": [
      "Refining with retraction algorithm for 100 iterations.\n",
      "Refinement iteration: 5\n",
      "##############################\n",
      "Time elapsed from last time log: 0.0 seconds\n",
      "Total time elapsed: 260.3 seconds\n",
      "##############################\n",
      "Computing Pseudoinverse of a matrix of L of size 10663\n",
      "Descent starts\n",
      "Done.\n",
      "##############################\n",
      "Time elapsed from last time log: 62.4 seconds\n",
      "Total time elapsed: 322.7 seconds\n",
      "##############################\n"
     ]
    },
    {
     "data": {
      "image/png": "[encoded data removed]",
      "text/plain": [
       "<Figure size 432x288 with 1 Axes>"
      ]
     },
     "metadata": {},
     "output_type": "display_data"
    },
    {
     "data": {
      "text/plain": [
       "<Figure size 432x288 with 0 Axes>"
      ]
     },
     "metadata": {},
     "output_type": "display_data"
    },
    {
     "name": "stdout",
     "output_type": "stream",
     "text": [
      "Refining with retraction algorithm for 100 iterations.\n",
      "Refinement iteration: 6\n",
      "##############################\n",
      "Time elapsed from last time log: 0.0 seconds\n",
      "Total time elapsed: 329.3 seconds\n",
      "##############################\n",
      "Computing Pseudoinverse of a matrix of L of size 10663\n",
      "Descent starts\n",
      "Done.\n",
      "##############################\n",
      "Time elapsed from last time log: 88.0 seconds\n",
      "Total time elapsed: 417.3 seconds\n",
      "##############################\n"
     ]
    },
    {
     "data": {
      "image/png": "[encoded data removed]",
      "text/plain": [
       "<Figure size 432x288 with 1 Axes>"
      ]
     },
     "metadata": {},
     "output_type": "display_data"
    },
    {
     "data": {
      "text/plain": [
       "<Figure size 432x288 with 0 Axes>"
      ]
     },
     "metadata": {},
     "output_type": "display_data"
    },
    {
     "name": "stdout",
     "output_type": "stream",
     "text": [
      "Refining with retraction algorithm for 100 iterations.\n",
      "Refinement iteration: 7\n",
      "##############################\n",
      "Time elapsed from last time log: 0.0 seconds\n",
      "Total time elapsed: 426.5 seconds\n",
      "##############################\n",
      "Computing Pseudoinverse of a matrix of L of size 10663\n",
      "Descent starts\n",
      "Done.\n",
      "##############################\n",
      "Time elapsed from last time log: 72.4 seconds\n",
      "Total time elapsed: 498.9 seconds\n",
      "##############################\n"
     ]
    },
    {
     "data": {
      "image/png": "[encoded data removed]",
      "text/plain": [
       "<Figure size 432x288 with 1 Axes>"
      ]
     },
     "metadata": {},
     "output_type": "display_data"
    },
    {
     "data": {
      "text/plain": [
       "<Figure size 432x288 with 0 Axes>"
      ]
     },
     "metadata": {},
     "output_type": "display_data"
    },
    {
     "name": "stdout",
     "output_type": "stream",
     "text": [
      "Refining with retraction algorithm for 100 iterations.\n",
      "Refinement iteration: 8\n",
      "##############################\n",
      "Time elapsed from last time log: 0.0 seconds\n",
      "Total time elapsed: 507.1 seconds\n",
      "##############################\n",
      "Computing Pseudoinverse of a matrix of L of size 10663\n",
      "Descent starts\n",
      "Done.\n",
      "##############################\n",
      "Time elapsed from last time log: 70.9 seconds\n",
      "Total time elapsed: 578.0 seconds\n",
      "##############################\n"
     ]
    },
    {
     "data": {
      "image/png": "[encoded data removed]",
      "text/plain": [
       "<Figure size 432x288 with 1 Axes>"
      ]
     },
     "metadata": {},
     "output_type": "display_data"
    },
    {
     "data": {
      "text/plain": [
       "<Figure size 432x288 with 0 Axes>"
      ]
     },
     "metadata": {},
     "output_type": "display_data"
    },
    {
     "name": "stdout",
     "output_type": "stream",
     "text": [
      "Refining with retraction algorithm for 100 iterations.\n",
      "Refinement iteration: 9\n",
      "##############################\n",
      "Time elapsed from last time log: 0.0 seconds\n",
      "Total time elapsed: 585.7 seconds\n",
      "##############################\n",
      "Computing Pseudoinverse of a matrix of L of size 10663\n",
      "Descent starts\n",
      "Done.\n",
      "##############################\n",
      "Time elapsed from last time log: 122.8 seconds\n",
      "Total time elapsed: 708.5 seconds\n",
      "##############################\n",
      "Computing error.\n",
      "Computing Pseudoinverse of a matrix of L of size 10663\n",
      "Alignment error: -0.000\n",
      "##############################\n",
      "Time elapsed from last time log: 10.4 seconds\n",
      "Total time elapsed: 719.0 seconds\n",
      "##############################\n"
     ]
    },
    {
     "data": {
      "image/png": "[encoded data removed]",
      "text/plain": [
       "<Figure size 432x288 with 1 Axes>"
      ]
     },
     "metadata": {},
     "output_type": "display_data"
    },
    {
     "data": {
      "text/plain": [
       "<Figure size 432x288 with 0 Axes>"
      ]
     },
     "metadata": {},
     "output_type": "display_data"
    },
    {
     "data": {
      "text/plain": [
       "array([[-0.0788338 ,  1.47821848],\n",
       "       [-0.06889309,  1.47821848],\n",
       "       [-0.05895237,  1.47821848],\n",
       "       ...,\n",
       "       [ 0.03051411, -0.74521607],\n",
       "       [ 0.04045483, -0.74521607],\n",
       "       [ 0.05039554, -0.74521607]])"
      ]
     },
     "execution_count": 7,
     "metadata": {},
     "output_type": "execute_result"
    }
   ],
   "source": [
    "ldle.fit(X=X)"
   ]
  },
  {
   "cell_type": "code",
   "execution_count": 8,
   "id": "c7381785",
   "metadata": {},
   "outputs": [
    {
     "data": {
      "image/png": "[encoded data removed]",
      "text/plain": [
       "<Figure size 432x288 with 1 Axes>"
      ]
     },
     "metadata": {},
     "output_type": "display_data"
    },
    {
     "data": {
      "text/plain": [
       "<Figure size 432x288 with 0 Axes>"
      ]
     },
     "metadata": {},
     "output_type": "display_data"
    }
   ],
   "source": [
    "ldle.GlobalViews.vis_embedding(ldle.GlobalViews.y_final, ldle.vis, ldle.vis_opts,\n",
    "                               ldle.GlobalViews.color_of_pts_on_tear_final,\n",
    "                               title='Final global embedding', )"
   ]
  },
  {
   "cell_type": "code",
   "execution_count": 9,
   "id": "4d630749",
   "metadata": {},
   "outputs": [
    {
     "name": "stdout",
     "output_type": "stream",
     "text": [
      "Saved ../data/pyLDLE2/barbell//ldle.dat\n"
     ]
    }
   ],
   "source": [
    "# save for further visualization\n",
    "import pickle\n",
    "save_path = save_dir_root+'/ldle.dat'\n",
    "with open(save_path, \"wb\") as f:\n",
    "    pickle.dump([X, labelsMat, ldle], f)\n",
    "print('Saved', save_path)"
   ]
  },
  {
   "cell_type": "code",
   "execution_count": null,
   "id": "41ee3a2b",
   "metadata": {},
   "outputs": [],
   "source": []
  }
 ],
 "metadata": {
  "kernelspec": {
   "display_name": "Python 3 (ipykernel)",
   "language": "python",
   "name": "python3"
  },
  "language_info": {
   "codemirror_mode": {
    "name": "ipython",
    "version": 3
   },
   "file_extension": ".py",
   "mimetype": "text/x-python",
   "name": "python",
   "nbconvert_exporter": "python",
   "pygments_lexer": "ipython3",
   "version": "3.9.12"
  }
 },
 "nbformat": 4,
 "nbformat_minor": 5
}
