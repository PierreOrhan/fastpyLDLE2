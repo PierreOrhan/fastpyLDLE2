{
 "cells": [
  {
   "cell_type": "markdown",
   "id": "2bf0f75c",
   "metadata": {},
   "source": [
    "### Barbell"
   ]
  },
  {
   "cell_type": "code",
   "execution_count": 1,
   "id": "ff81deb0",
   "metadata": {
    "execution": {
     "iopub.execute_input": "2022-08-08T20:27:52.559671Z",
     "iopub.status.busy": "2022-08-08T20:27:52.559129Z",
     "iopub.status.idle": "2022-08-08T20:27:53.341127Z",
     "shell.execute_reply": "2022-08-08T20:27:53.340406Z"
    }
   },
   "outputs": [],
   "source": [
    "%matplotlib inline"
   ]
  },
  {
   "cell_type": "code",
   "execution_count": 2,
   "id": "a8d77738",
   "metadata": {
    "execution": {
     "iopub.execute_input": "2022-08-08T20:27:53.344735Z",
     "iopub.status.busy": "2022-08-08T20:27:53.344472Z",
     "iopub.status.idle": "2022-08-08T20:27:53.348019Z",
     "shell.execute_reply": "2022-08-08T20:27:53.347409Z"
    }
   },
   "outputs": [],
   "source": [
    "# Not really required\n",
    "import sys\n",
    "sys.path.insert(0, '../../..')"
   ]
  },
  {
   "cell_type": "code",
   "execution_count": 3,
   "id": "ad5119aa",
   "metadata": {
    "execution": {
     "iopub.execute_input": "2022-08-08T20:27:53.350678Z",
     "iopub.status.busy": "2022-08-08T20:27:53.350334Z",
     "iopub.status.idle": "2022-08-08T20:27:53.886728Z",
     "shell.execute_reply": "2022-08-08T20:27:53.885968Z"
    }
   },
   "outputs": [
    {
     "name": "stdout",
     "output_type": "stream",
     "text": [
      "matplotlib.get_backend() =  module://matplotlib_inline.backend_inline\n"
     ]
    }
   ],
   "source": [
    "from pyLDLE2 import datasets\n",
    "from pyLDLE2 import ldle_"
   ]
  },
  {
   "cell_type": "code",
   "execution_count": 4,
   "id": "777aa611",
   "metadata": {
    "execution": {
     "iopub.execute_input": "2022-08-08T20:27:53.892060Z",
     "iopub.status.busy": "2022-08-08T20:27:53.891814Z",
     "iopub.status.idle": "2022-08-08T20:27:53.896171Z",
     "shell.execute_reply": "2022-08-08T20:27:53.895405Z"
    }
   },
   "outputs": [],
   "source": [
    "save_dir_root = '../data/pyLDLE2/barbell/'"
   ]
  },
  {
   "cell_type": "code",
   "execution_count": 5,
   "id": "55e389bc",
   "metadata": {
    "execution": {
     "iopub.execute_input": "2022-08-08T20:27:53.902275Z",
     "iopub.status.busy": "2022-08-08T20:27:53.901848Z",
     "iopub.status.idle": "2022-08-08T20:27:53.987499Z",
     "shell.execute_reply": "2022-08-08T20:27:53.986634Z"
    }
   },
   "outputs": [
    {
     "name": "stdout",
     "output_type": "stream",
     "text": [
      "X.shape =  (10227, 2)\n"
     ]
    }
   ],
   "source": [
    "X, labelsMat, ddX = datasets.Datasets().barbell()"
   ]
  },
  {
   "cell_type": "code",
   "execution_count": 6,
   "id": "a0e44b81",
   "metadata": {
    "execution": {
     "iopub.execute_input": "2022-08-08T20:27:53.992438Z",
     "iopub.status.busy": "2022-08-08T20:27:53.992073Z",
     "iopub.status.idle": "2022-08-08T20:27:53.999967Z",
     "shell.execute_reply": "2022-08-08T20:27:53.999230Z"
    }
   },
   "outputs": [
    {
     "name": "stdout",
     "output_type": "stream",
     "text": [
      "local_opts['k_nn0'] = 700 is created.\n",
      "Options provided:\n",
      "local_opts:\n",
      "{\n",
      "    \"Atilde_method\": \"LDLE_1\",\n",
      "    \"N\": 100,\n",
      "    \"algo\": \"LTSA\",\n",
      "    \"alpha\": 1,\n",
      "    \"debug\": true,\n",
      "    \"delta\": 0.9,\n",
      "    \"gl_type\": \"unnorm\",\n",
      "    \"k\": 28,\n",
      "    \"k_nn\": 49,\n",
      "    \"k_nn0\": 700,\n",
      "    \"k_tune\": 7,\n",
      "    \"max_iter\": 300,\n",
      "    \"n_proc\": 32,\n",
      "    \"no_gamma\": false,\n",
      "    \"p\": 0.99,\n",
      "    \"pp_n_thresh\": 32,\n",
      "    \"reg\": 0.0,\n",
      "    \"tau\": 50,\n",
      "    \"to_postprocess\": true,\n",
      "    \"verbose\": true\n",
      "}\n",
      "intermed_opts:\n",
      "{\n",
      "    \"algo\": \"best\",\n",
      "    \"debug\": true,\n",
      "    \"eta_max\": 25,\n",
      "    \"eta_min\": 5,\n",
      "    \"len_S_thresh\": 256,\n",
      "    \"local_algo\": \"LTSA\",\n",
      "    \"n_proc\": 32,\n",
      "    \"n_times\": 4,\n",
      "    \"verbose\": true\n",
      "}\n",
      "global_opts:\n",
      "{\n",
      "    \"align_w_parent_only\": true,\n",
      "    \"alpha\": 0.3,\n",
      "    \"color_tear\": true,\n",
      "    \"compute_error\": false,\n",
      "    \"debug\": true,\n",
      "    \"eps\": 1e-08,\n",
      "    \"init_algo_name\": \"procrustes\",\n",
      "    \"k\": 28,\n",
      "    \"main_algo\": \"LDLE\",\n",
      "    \"max_internal_iter\": 100,\n",
      "    \"max_iter\": 20,\n",
      "    \"n_proc\": 32,\n",
      "    \"nu\": 3,\n",
      "    \"refine_algo_name\": \"rgd\",\n",
      "    \"to_tear\": true,\n",
      "    \"verbose\": true,\n",
      "    \"vis_before_init\": false\n",
      "}\n"
     ]
    }
   ],
   "source": [
    "# The supplied options would override the default options\n",
    "ldle = ldle_.LDLE(local_opts={'algo':'LTSA'},\n",
    "                  vis_opts={'c': labelsMat[:,0], 'save_dir': save_dir_root},\n",
    "                  verbose=True, debug=True)"
   ]
  },
  {
   "cell_type": "code",
   "execution_count": 7,
   "id": "7eadfc89",
   "metadata": {
    "execution": {
     "iopub.execute_input": "2022-08-08T20:27:54.003660Z",
     "iopub.status.busy": "2022-08-08T20:27:54.003267Z",
     "iopub.status.idle": "2022-08-08T21:04:48.420738Z",
     "shell.execute_reply": "2022-08-08T21:04:48.419843Z"
    },
    "scrolled": false
   },
   "outputs": [
    {
     "name": "stdout",
     "output_type": "stream",
     "text": [
      "Constructing local views using LTSA\n"
     ]
    },
    {
     "name": "stdout",
     "output_type": "stream",
     "text": [
      "local_param: all 10227 points processed...\n",
      "max distortion is 1.000000\n",
      "Done.\n",
      "##############################\n",
      "Time elapsed from last time log: 1.1 seconds\n",
      "Total time elapsed: 1.1 seconds\n",
      "##############################\n",
      "Posprocessing local parameterizations.\n"
     ]
    },
    {
     "name": "stdout",
     "output_type": "stream",
     "text": [
      "#Param replaced: 7513, max distortion: 1.000000"
     ]
    },
    {
     "name": "stdout",
     "output_type": "stream",
     "text": [
      "\n"
     ]
    },
    {
     "name": "stdout",
     "output_type": "stream",
     "text": [
      "#Param replaced: 414, max distortion: 1.000000"
     ]
    },
    {
     "name": "stdout",
     "output_type": "stream",
     "text": [
      "\n"
     ]
    },
    {
     "name": "stdout",
     "output_type": "stream",
     "text": [
      "#Param replaced: 21, max distortion: 1.000000"
     ]
    },
    {
     "name": "stdout",
     "output_type": "stream",
     "text": [
      "\n"
     ]
    },
    {
     "name": "stdout",
     "output_type": "stream",
     "text": [
      "#Param replaced: 5, max distortion: 1.000000"
     ]
    },
    {
     "name": "stdout",
     "output_type": "stream",
     "text": [
      "\n"
     ]
    },
    {
     "name": "stdout",
     "output_type": "stream",
     "text": [
      "#Param replaced: 0, max distortion: 1.000000"
     ]
    },
    {
     "name": "stdout",
     "output_type": "stream",
     "text": [
      "\n"
     ]
    },
    {
     "name": "stdout",
     "output_type": "stream",
     "text": [
      "Max local distortion after postprocessing: 0.9999999999990001\n",
      "Done.\n",
      "##############################\n",
      "Time elapsed from last time log: 5.1 seconds\n",
      "Total time elapsed: 6.2 seconds\n",
      "##############################\n",
      "Max local distortion = 0.9999999999990001\n"
     ]
    },
    {
     "name": "stdout",
     "output_type": "stream",
     "text": [
      "Constructing intermediate views.\n",
      "eta = 2.\n",
      "#non-empty views with sz < 2 = 10227\n",
      "#nodes in views with sz < 2 = 10227\n"
     ]
    },
    {
     "name": "stdout",
     "output_type": "stream",
     "text": [
      "Costs computed when eta = 2.\n",
      "##############################\n",
      "Time elapsed from last time log: 9.8 seconds\n",
      "Total time elapsed: 10.8 seconds\n",
      "##############################\n"
     ]
    },
    {
     "name": "stdout",
     "output_type": "stream",
     "text": [
      "ctr=9772, total_len_S=302746, avg_len_S=30.981\n",
      "Remaining #nodes in views with sz < 2 = 0\n",
      "Done with eta = 2.\n",
      "##############################\n",
      "Time elapsed from last time log: 2118.3 seconds\n",
      "Total time elapsed: 2129.1 seconds\n",
      "##############################\n",
      "eta = 3.\n",
      "#non-empty views with sz < 3 = 11\n",
      "#nodes in views with sz < 3 = 22\n"
     ]
    },
    {
     "name": "stdout",
     "output_type": "stream",
     "text": [
      "Costs computed when eta = 3.\n",
      "##############################\n",
      "Time elapsed from last time log: 0.6 seconds\n",
      "Total time elapsed: 2129.7 seconds\n",
      "##############################\n",
      "ctr=10, total_len_S=243, avg_len_S=24.300\n",
      "Remaining #nodes in views with sz < 3 = 8\n",
      "Done with eta = 3.\n",
      "##############################\n",
      "Time elapsed from last time log: 0.0 seconds\n",
      "Total time elapsed: 2129.8 seconds\n",
      "##############################\n",
      "eta = 4.\n",
      "#non-empty views with sz < 4 = 11\n",
      "#nodes in views with sz < 4 = 29\n"
     ]
    },
    {
     "name": "stdout",
     "output_type": "stream",
     "text": [
      "Costs computed when eta = 4.\n",
      "##############################\n",
      "Time elapsed from last time log: 0.6 seconds\n",
      "Total time elapsed: 2130.4 seconds\n",
      "##############################\n",
      "ctr=9, total_len_S=227, avg_len_S=25.222\n",
      "Remaining #nodes in views with sz < 4 = 20\n",
      "Done with eta = 4.\n",
      "##############################\n",
      "Time elapsed from last time log: 0.0 seconds\n",
      "Total time elapsed: 2130.4 seconds\n",
      "##############################\n",
      "eta = 5.\n",
      "#non-empty views with sz < 5 = 17\n",
      "#nodes in views with sz < 5 = 56\n"
     ]
    },
    {
     "name": "stdout",
     "output_type": "stream",
     "text": [
      "Costs computed when eta = 5.\n",
      "##############################\n",
      "Time elapsed from last time log: 0.6 seconds\n",
      "Total time elapsed: 2131.0 seconds\n",
      "##############################\n",
      "ctr=4, total_len_S=142, avg_len_S=35.500\n",
      "Remaining #nodes in views with sz < 5 = 52\n",
      "Done with eta = 5.\n",
      "##############################\n",
      "Time elapsed from last time log: 0.0 seconds\n",
      "Total time elapsed: 2131.1 seconds\n",
      "##############################\n",
      "Pruning and cleaning up.\n"
     ]
    },
    {
     "name": "stdout",
     "output_type": "stream",
     "text": [
      "Done.\n",
      "##############################\n",
      "Time elapsed from last time log: 0.7 seconds\n",
      "Total time elapsed: 2131.9 seconds\n",
      "##############################\n",
      "After clustering, max distortion is 1.000000\n",
      "Computing laterations scores for overlaps b/w intermed views\n"
     ]
    },
    {
     "name": "stdout",
     "output_type": "stream",
     "text": [
      "Done\n",
      "##############################\n",
      "Time elapsed from last time log: 0.7 seconds\n",
      "Total time elapsed: 0.7 seconds\n",
      "##############################\n",
      "Computing a lateration.\n",
      "Seq of intermediate views and their predecessors computed.\n",
      "No. of connected components = 1\n",
      "Done.\n",
      "##############################\n",
      "Time elapsed from last time log: 0.0 seconds\n",
      "Total time elapsed: 0.7 seconds\n",
      "##############################\n",
      "Computing initial embedding using: procrustes algorithm\n",
      "##############################\n",
      "Time elapsed from last time log: 0.0 seconds\n",
      "Total time elapsed: 0.7 seconds\n",
      "##############################\n",
      "Initial alignment of 111 views completed\n"
     ]
    },
    {
     "name": "stdout",
     "output_type": "stream",
     "text": [
      "Initial alignment of 222 views completed\n"
     ]
    },
    {
     "name": "stdout",
     "output_type": "stream",
     "text": [
      "Initial alignment of 333 views completed\n"
     ]
    },
    {
     "name": "stdout",
     "output_type": "stream",
     "text": [
      "Initial alignment of 444 views completed\n"
     ]
    },
    {
     "name": "stdout",
     "output_type": "stream",
     "text": [
      "Embedding initialized.\n",
      "##############################\n",
      "Time elapsed from last time log: 0.6 seconds\n",
      "Total time elapsed: 1.3 seconds\n",
      "##############################\n"
     ]
    },
    {
     "data": {
      "image/png": "[encoded data removed]",
      "text/plain": [
       "<Figure size 432x288 with 1 Axes>"
      ]
     },
     "metadata": {},
     "output_type": "display_data"
    },
    {
     "data": {
      "text/plain": [
       "<Figure size 432x288 with 0 Axes>"
      ]
     },
     "metadata": {},
     "output_type": "display_data"
    },
    {
     "name": "stdout",
     "output_type": "stream",
     "text": [
      "Refining with rgd algorithm for 100 iterations.\n",
      "Refinement iteration: 0\n",
      "##############################\n",
      "Time elapsed from last time log: 0.0 seconds\n",
      "Total time elapsed: 2.4 seconds\n",
      "##############################\n"
     ]
    },
    {
     "name": "stdout",
     "output_type": "stream",
     "text": [
      "Computing Pseudoinverse of a matrix of L of size 10227 + 446 multiplied with B\n"
     ]
    },
    {
     "name": "stdout",
     "output_type": "stream",
     "text": [
      "Computing svd\n"
     ]
    },
    {
     "name": "stdout",
     "output_type": "stream",
     "text": [
      "Done\n"
     ]
    },
    {
     "name": "stdout",
     "output_type": "stream",
     "text": [
      "Descent starts\n"
     ]
    },
    {
     "name": "stdout",
     "output_type": "stream",
     "text": [
      "Done.\n",
      "##############################\n",
      "Time elapsed from last time log: 2.9 seconds\n",
      "Total time elapsed: 5.2 seconds\n",
      "##############################\n"
     ]
    },
    {
     "data": {
      "image/png": "[encoded data removed]",
      "text/plain": [
       "<Figure size 432x288 with 1 Axes>"
      ]
     },
     "metadata": {},
     "output_type": "display_data"
    },
    {
     "data": {
      "text/plain": [
       "<Figure size 432x288 with 0 Axes>"
      ]
     },
     "metadata": {},
     "output_type": "display_data"
    },
    {
     "name": "stdout",
     "output_type": "stream",
     "text": [
      "Refining with rgd algorithm for 100 iterations.\n",
      "Refinement iteration: 1\n",
      "##############################\n",
      "Time elapsed from last time log: 0.0 seconds\n",
      "Total time elapsed: 5.8 seconds\n",
      "##############################\n"
     ]
    },
    {
     "name": "stdout",
     "output_type": "stream",
     "text": [
      "Computing Pseudoinverse of a matrix of L of size 10227 + 446 multiplied with B\n"
     ]
    },
    {
     "name": "stdout",
     "output_type": "stream",
     "text": [
      "Computing svd\n"
     ]
    },
    {
     "name": "stdout",
     "output_type": "stream",
     "text": [
      "Done\n"
     ]
    },
    {
     "name": "stdout",
     "output_type": "stream",
     "text": [
      "Descent starts\n"
     ]
    },
    {
     "name": "stdout",
     "output_type": "stream",
     "text": [
      "Done.\n",
      "##############################\n",
      "Time elapsed from last time log: 2.8 seconds\n",
      "Total time elapsed: 8.6 seconds\n",
      "##############################\n"
     ]
    },
    {
     "data": {
      "image/png": "[encoded data removed]",
      "text/plain": [
       "<Figure size 432x288 with 1 Axes>"
      ]
     },
     "metadata": {},
     "output_type": "display_data"
    },
    {
     "data": {
      "text/plain": [
       "<Figure size 432x288 with 0 Axes>"
      ]
     },
     "metadata": {},
     "output_type": "display_data"
    },
    {
     "name": "stdout",
     "output_type": "stream",
     "text": [
      "Refining with rgd algorithm for 100 iterations.\n",
      "Refinement iteration: 2\n",
      "##############################\n",
      "Time elapsed from last time log: 0.0 seconds\n",
      "Total time elapsed: 9.3 seconds\n",
      "##############################\n"
     ]
    },
    {
     "name": "stdout",
     "output_type": "stream",
     "text": [
      "Computing Pseudoinverse of a matrix of L of size 10227 + 446 multiplied with B\n"
     ]
    },
    {
     "name": "stdout",
     "output_type": "stream",
     "text": [
      "Computing svd\n"
     ]
    },
    {
     "name": "stdout",
     "output_type": "stream",
     "text": [
      "Done\n"
     ]
    },
    {
     "name": "stdout",
     "output_type": "stream",
     "text": [
      "Descent starts\n"
     ]
    },
    {
     "name": "stdout",
     "output_type": "stream",
     "text": [
      "Done.\n",
      "##############################\n",
      "Time elapsed from last time log: 3.0 seconds\n",
      "Total time elapsed: 12.2 seconds\n",
      "##############################\n"
     ]
    },
    {
     "data": {
      "image/png": "[encoded data removed]",
      "text/plain": [
       "<Figure size 432x288 with 1 Axes>"
      ]
     },
     "metadata": {},
     "output_type": "display_data"
    },
    {
     "data": {
      "text/plain": [
       "<Figure size 432x288 with 0 Axes>"
      ]
     },
     "metadata": {},
     "output_type": "display_data"
    },
    {
     "name": "stdout",
     "output_type": "stream",
     "text": [
      "Refining with rgd algorithm for 100 iterations.\n",
      "Refinement iteration: 3\n",
      "##############################\n",
      "Time elapsed from last time log: 0.0 seconds\n",
      "Total time elapsed: 12.9 seconds\n",
      "##############################\n"
     ]
    },
    {
     "name": "stdout",
     "output_type": "stream",
     "text": [
      "Computing Pseudoinverse of a matrix of L of size 10227 + 446 multiplied with B\n"
     ]
    },
    {
     "name": "stdout",
     "output_type": "stream",
     "text": [
      "Computing svd\n"
     ]
    },
    {
     "name": "stdout",
     "output_type": "stream",
     "text": [
      "Done\n"
     ]
    },
    {
     "name": "stdout",
     "output_type": "stream",
     "text": [
      "Descent starts\n"
     ]
    },
    {
     "name": "stdout",
     "output_type": "stream",
     "text": [
      "Done.\n",
      "##############################\n",
      "Time elapsed from last time log: 3.0 seconds\n",
      "Total time elapsed: 15.8 seconds\n",
      "##############################\n"
     ]
    },
    {
     "data": {
      "image/png": "[encoded data removed]",
      "text/plain": [
       "<Figure size 432x288 with 1 Axes>"
      ]
     },
     "metadata": {},
     "output_type": "display_data"
    },
    {
     "data": {
      "text/plain": [
       "<Figure size 432x288 with 0 Axes>"
      ]
     },
     "metadata": {},
     "output_type": "display_data"
    },
    {
     "name": "stdout",
     "output_type": "stream",
     "text": [
      "Refining with rgd algorithm for 100 iterations.\n",
      "Refinement iteration: 4\n",
      "##############################\n",
      "Time elapsed from last time log: 0.0 seconds\n",
      "Total time elapsed: 16.5 seconds\n",
      "##############################\n"
     ]
    },
    {
     "name": "stdout",
     "output_type": "stream",
     "text": [
      "Computing Pseudoinverse of a matrix of L of size 10227 + 446 multiplied with B\n"
     ]
    },
    {
     "name": "stdout",
     "output_type": "stream",
     "text": [
      "Computing svd\n"
     ]
    },
    {
     "name": "stdout",
     "output_type": "stream",
     "text": [
      "Done\n"
     ]
    },
    {
     "name": "stdout",
     "output_type": "stream",
     "text": [
      "Descent starts\n"
     ]
    },
    {
     "name": "stdout",
     "output_type": "stream",
     "text": [
      "Done.\n",
      "##############################\n",
      "Time elapsed from last time log: 2.9 seconds\n",
      "Total time elapsed: 19.4 seconds\n",
      "##############################\n"
     ]
    },
    {
     "data": {
      "image/png": "[encoded data removed]",
      "text/plain": [
       "<Figure size 432x288 with 1 Axes>"
      ]
     },
     "metadata": {},
     "output_type": "display_data"
    },
    {
     "data": {
      "text/plain": [
       "<Figure size 432x288 with 0 Axes>"
      ]
     },
     "metadata": {},
     "output_type": "display_data"
    },
    {
     "name": "stdout",
     "output_type": "stream",
     "text": [
      "Refining with rgd algorithm for 100 iterations.\n",
      "Refinement iteration: 5\n",
      "##############################\n",
      "Time elapsed from last time log: 0.0 seconds\n",
      "Total time elapsed: 20.1 seconds\n",
      "##############################\n"
     ]
    },
    {
     "name": "stdout",
     "output_type": "stream",
     "text": [
      "Computing Pseudoinverse of a matrix of L of size 10227 + 446 multiplied with B\n"
     ]
    },
    {
     "name": "stdout",
     "output_type": "stream",
     "text": [
      "Computing svd\n"
     ]
    },
    {
     "name": "stdout",
     "output_type": "stream",
     "text": [
      "Done\n"
     ]
    },
    {
     "name": "stdout",
     "output_type": "stream",
     "text": [
      "Descent starts\n"
     ]
    },
    {
     "name": "stdout",
     "output_type": "stream",
     "text": [
      "Done.\n",
      "##############################\n",
      "Time elapsed from last time log: 2.9 seconds\n",
      "Total time elapsed: 23.0 seconds\n",
      "##############################\n"
     ]
    },
    {
     "data": {
      "image/png": "[encoded data removed]",
      "text/plain": [
       "<Figure size 432x288 with 1 Axes>"
      ]
     },
     "metadata": {},
     "output_type": "display_data"
    },
    {
     "data": {
      "text/plain": [
       "<Figure size 432x288 with 0 Axes>"
      ]
     },
     "metadata": {},
     "output_type": "display_data"
    },
    {
     "name": "stdout",
     "output_type": "stream",
     "text": [
      "Refining with rgd algorithm for 100 iterations.\n",
      "Refinement iteration: 6\n",
      "##############################\n",
      "Time elapsed from last time log: 0.0 seconds\n",
      "Total time elapsed: 23.6 seconds\n",
      "##############################\n"
     ]
    },
    {
     "name": "stdout",
     "output_type": "stream",
     "text": [
      "Computing Pseudoinverse of a matrix of L of size 10227 + 446 multiplied with B\n"
     ]
    },
    {
     "name": "stdout",
     "output_type": "stream",
     "text": [
      "Computing svd\n"
     ]
    },
    {
     "name": "stdout",
     "output_type": "stream",
     "text": [
      "Done\n"
     ]
    },
    {
     "name": "stdout",
     "output_type": "stream",
     "text": [
      "Descent starts\n"
     ]
    },
    {
     "name": "stdout",
     "output_type": "stream",
     "text": [
      "Done.\n",
      "##############################\n",
      "Time elapsed from last time log: 2.8 seconds\n",
      "Total time elapsed: 26.4 seconds\n",
      "##############################\n"
     ]
    },
    {
     "data": {
      "image/png": "[encoded data removed]",
      "text/plain": [
       "<Figure size 432x288 with 1 Axes>"
      ]
     },
     "metadata": {},
     "output_type": "display_data"
    },
    {
     "data": {
      "text/plain": [
       "<Figure size 432x288 with 0 Axes>"
      ]
     },
     "metadata": {},
     "output_type": "display_data"
    },
    {
     "name": "stdout",
     "output_type": "stream",
     "text": [
      "Refining with rgd algorithm for 100 iterations.\n",
      "Refinement iteration: 7\n",
      "##############################\n",
      "Time elapsed from last time log: 0.0 seconds\n",
      "Total time elapsed: 27.1 seconds\n",
      "##############################\n"
     ]
    },
    {
     "name": "stdout",
     "output_type": "stream",
     "text": [
      "Computing Pseudoinverse of a matrix of L of size 10227 + 446 multiplied with B\n"
     ]
    },
    {
     "name": "stdout",
     "output_type": "stream",
     "text": [
      "Computing svd\n"
     ]
    },
    {
     "name": "stdout",
     "output_type": "stream",
     "text": [
      "Done\n"
     ]
    },
    {
     "name": "stdout",
     "output_type": "stream",
     "text": [
      "Descent starts\n"
     ]
    },
    {
     "name": "stdout",
     "output_type": "stream",
     "text": [
      "Done.\n",
      "##############################\n",
      "Time elapsed from last time log: 2.9 seconds\n",
      "Total time elapsed: 29.9 seconds\n",
      "##############################\n"
     ]
    },
    {
     "data": {
      "image/png": "[encoded data removed]",
      "text/plain": [
       "<Figure size 432x288 with 1 Axes>"
      ]
     },
     "metadata": {},
     "output_type": "display_data"
    },
    {
     "data": {
      "text/plain": [
       "<Figure size 432x288 with 0 Axes>"
      ]
     },
     "metadata": {},
     "output_type": "display_data"
    },
    {
     "name": "stdout",
     "output_type": "stream",
     "text": [
      "Refining with rgd algorithm for 100 iterations.\n",
      "Refinement iteration: 8\n",
      "##############################\n",
      "Time elapsed from last time log: 0.0 seconds\n",
      "Total time elapsed: 30.6 seconds\n",
      "##############################\n"
     ]
    },
    {
     "name": "stdout",
     "output_type": "stream",
     "text": [
      "Computing Pseudoinverse of a matrix of L of size 10227 + 446 multiplied with B\n"
     ]
    },
    {
     "name": "stdout",
     "output_type": "stream",
     "text": [
      "Computing svd\n"
     ]
    },
    {
     "name": "stdout",
     "output_type": "stream",
     "text": [
      "Done\n"
     ]
    },
    {
     "name": "stdout",
     "output_type": "stream",
     "text": [
      "Descent starts\n"
     ]
    },
    {
     "name": "stdout",
     "output_type": "stream",
     "text": [
      "Done.\n",
      "##############################\n",
      "Time elapsed from last time log: 2.9 seconds\n",
      "Total time elapsed: 33.5 seconds\n",
      "##############################\n"
     ]
    },
    {
     "data": {
      "image/png": "[encoded data removed]",
      "text/plain": [
       "<Figure size 432x288 with 1 Axes>"
      ]
     },
     "metadata": {},
     "output_type": "display_data"
    },
    {
     "data": {
      "text/plain": [
       "<Figure size 432x288 with 0 Axes>"
      ]
     },
     "metadata": {},
     "output_type": "display_data"
    },
    {
     "name": "stdout",
     "output_type": "stream",
     "text": [
      "Refining with rgd algorithm for 100 iterations.\n",
      "Refinement iteration: 9\n",
      "##############################\n",
      "Time elapsed from last time log: 0.0 seconds\n",
      "Total time elapsed: 34.2 seconds\n",
      "##############################\n"
     ]
    },
    {
     "name": "stdout",
     "output_type": "stream",
     "text": [
      "Computing Pseudoinverse of a matrix of L of size 10227 + 446 multiplied with B\n"
     ]
    },
    {
     "name": "stdout",
     "output_type": "stream",
     "text": [
      "Computing svd\n"
     ]
    },
    {
     "name": "stdout",
     "output_type": "stream",
     "text": [
      "Done\n"
     ]
    },
    {
     "name": "stdout",
     "output_type": "stream",
     "text": [
      "Descent starts\n"
     ]
    },
    {
     "name": "stdout",
     "output_type": "stream",
     "text": [
      "Done.\n",
      "##############################\n",
      "Time elapsed from last time log: 2.9 seconds\n",
      "Total time elapsed: 37.1 seconds\n",
      "##############################\n"
     ]
    },
    {
     "data": {
      "image/png": "[encoded data removed]",
      "text/plain": [
       "<Figure size 432x288 with 1 Axes>"
      ]
     },
     "metadata": {},
     "output_type": "display_data"
    },
    {
     "data": {
      "text/plain": [
       "<Figure size 432x288 with 0 Axes>"
      ]
     },
     "metadata": {},
     "output_type": "display_data"
    },
    {
     "name": "stdout",
     "output_type": "stream",
     "text": [
      "Refining with rgd algorithm for 100 iterations.\n",
      "Refinement iteration: 10\n",
      "##############################\n",
      "Time elapsed from last time log: 0.0 seconds\n",
      "Total time elapsed: 37.8 seconds\n",
      "##############################\n"
     ]
    },
    {
     "name": "stdout",
     "output_type": "stream",
     "text": [
      "Computing Pseudoinverse of a matrix of L of size 10227 + 446 multiplied with B\n"
     ]
    },
    {
     "name": "stdout",
     "output_type": "stream",
     "text": [
      "Computing svd\n"
     ]
    },
    {
     "name": "stdout",
     "output_type": "stream",
     "text": [
      "Done\n"
     ]
    },
    {
     "name": "stdout",
     "output_type": "stream",
     "text": [
      "Descent starts\n"
     ]
    },
    {
     "name": "stdout",
     "output_type": "stream",
     "text": [
      "Done.\n",
      "##############################\n",
      "Time elapsed from last time log: 2.9 seconds\n",
      "Total time elapsed: 40.7 seconds\n",
      "##############################\n"
     ]
    },
    {
     "data": {
      "image/png": "[encoded data removed]",
      "text/plain": [
       "<Figure size 432x288 with 1 Axes>"
      ]
     },
     "metadata": {},
     "output_type": "display_data"
    },
    {
     "data": {
      "text/plain": [
       "<Figure size 432x288 with 0 Axes>"
      ]
     },
     "metadata": {},
     "output_type": "display_data"
    },
    {
     "name": "stdout",
     "output_type": "stream",
     "text": [
      "Refining with rgd algorithm for 100 iterations.\n",
      "Refinement iteration: 11\n",
      "##############################\n",
      "Time elapsed from last time log: 0.0 seconds\n",
      "Total time elapsed: 41.4 seconds\n",
      "##############################\n"
     ]
    },
    {
     "name": "stdout",
     "output_type": "stream",
     "text": [
      "Computing Pseudoinverse of a matrix of L of size 10227 + 446 multiplied with B\n"
     ]
    },
    {
     "name": "stdout",
     "output_type": "stream",
     "text": [
      "Computing svd\n"
     ]
    },
    {
     "name": "stdout",
     "output_type": "stream",
     "text": [
      "Done\n"
     ]
    },
    {
     "name": "stdout",
     "output_type": "stream",
     "text": [
      "Descent starts\n"
     ]
    },
    {
     "name": "stdout",
     "output_type": "stream",
     "text": [
      "Done.\n",
      "##############################\n",
      "Time elapsed from last time log: 2.9 seconds\n",
      "Total time elapsed: 44.3 seconds\n",
      "##############################\n"
     ]
    },
    {
     "data": {
      "image/png": "[encoded data removed]",
      "text/plain": [
       "<Figure size 432x288 with 1 Axes>"
      ]
     },
     "metadata": {},
     "output_type": "display_data"
    },
    {
     "data": {
      "text/plain": [
       "<Figure size 432x288 with 0 Axes>"
      ]
     },
     "metadata": {},
     "output_type": "display_data"
    },
    {
     "name": "stdout",
     "output_type": "stream",
     "text": [
      "Refining with rgd algorithm for 100 iterations.\n",
      "Refinement iteration: 12\n",
      "##############################\n",
      "Time elapsed from last time log: 0.0 seconds\n",
      "Total time elapsed: 45.0 seconds\n",
      "##############################\n"
     ]
    },
    {
     "name": "stdout",
     "output_type": "stream",
     "text": [
      "Computing Pseudoinverse of a matrix of L of size 10227 + 446 multiplied with B\n"
     ]
    },
    {
     "name": "stdout",
     "output_type": "stream",
     "text": [
      "Computing svd\n"
     ]
    },
    {
     "name": "stdout",
     "output_type": "stream",
     "text": [
      "Done\n"
     ]
    },
    {
     "name": "stdout",
     "output_type": "stream",
     "text": [
      "Descent starts\n"
     ]
    },
    {
     "name": "stdout",
     "output_type": "stream",
     "text": [
      "Done.\n",
      "##############################\n",
      "Time elapsed from last time log: 2.8 seconds\n",
      "Total time elapsed: 47.8 seconds\n",
      "##############################\n"
     ]
    },
    {
     "data": {
      "image/png": "[encoded data removed]",
      "text/plain": [
       "<Figure size 432x288 with 1 Axes>"
      ]
     },
     "metadata": {},
     "output_type": "display_data"
    },
    {
     "data": {
      "text/plain": [
       "<Figure size 432x288 with 0 Axes>"
      ]
     },
     "metadata": {},
     "output_type": "display_data"
    },
    {
     "name": "stdout",
     "output_type": "stream",
     "text": [
      "Refining with rgd algorithm for 100 iterations.\n",
      "Refinement iteration: 13\n",
      "##############################\n",
      "Time elapsed from last time log: 0.0 seconds\n",
      "Total time elapsed: 48.4 seconds\n",
      "##############################\n"
     ]
    },
    {
     "name": "stdout",
     "output_type": "stream",
     "text": [
      "Computing Pseudoinverse of a matrix of L of size 10227 + 446 multiplied with B\n"
     ]
    },
    {
     "name": "stdout",
     "output_type": "stream",
     "text": [
      "Computing svd\n"
     ]
    },
    {
     "name": "stdout",
     "output_type": "stream",
     "text": [
      "Done\n"
     ]
    },
    {
     "name": "stdout",
     "output_type": "stream",
     "text": [
      "Descent starts\n"
     ]
    },
    {
     "name": "stdout",
     "output_type": "stream",
     "text": [
      "Done.\n",
      "##############################\n",
      "Time elapsed from last time log: 2.9 seconds\n",
      "Total time elapsed: 51.3 seconds\n",
      "##############################\n"
     ]
    },
    {
     "data": {
      "image/png": "[encoded data removed]",
      "text/plain": [
       "<Figure size 432x288 with 1 Axes>"
      ]
     },
     "metadata": {},
     "output_type": "display_data"
    },
    {
     "data": {
      "text/plain": [
       "<Figure size 432x288 with 0 Axes>"
      ]
     },
     "metadata": {},
     "output_type": "display_data"
    },
    {
     "name": "stdout",
     "output_type": "stream",
     "text": [
      "Refining with rgd algorithm for 100 iterations.\n",
      "Refinement iteration: 14\n",
      "##############################\n",
      "Time elapsed from last time log: 0.0 seconds\n",
      "Total time elapsed: 52.0 seconds\n",
      "##############################\n"
     ]
    },
    {
     "name": "stdout",
     "output_type": "stream",
     "text": [
      "Computing Pseudoinverse of a matrix of L of size 10227 + 446 multiplied with B\n"
     ]
    },
    {
     "name": "stdout",
     "output_type": "stream",
     "text": [
      "Computing svd\n"
     ]
    },
    {
     "name": "stdout",
     "output_type": "stream",
     "text": [
      "Done\n"
     ]
    },
    {
     "name": "stdout",
     "output_type": "stream",
     "text": [
      "Descent starts\n"
     ]
    },
    {
     "name": "stdout",
     "output_type": "stream",
     "text": [
      "Done.\n",
      "##############################\n",
      "Time elapsed from last time log: 2.9 seconds\n",
      "Total time elapsed: 54.9 seconds\n",
      "##############################\n"
     ]
    },
    {
     "data": {
      "image/png": "[encoded data removed]",
      "text/plain": [
       "<Figure size 432x288 with 1 Axes>"
      ]
     },
     "metadata": {},
     "output_type": "display_data"
    },
    {
     "data": {
      "text/plain": [
       "<Figure size 432x288 with 0 Axes>"
      ]
     },
     "metadata": {},
     "output_type": "display_data"
    },
    {
     "name": "stdout",
     "output_type": "stream",
     "text": [
      "Refining with rgd algorithm for 100 iterations.\n",
      "Refinement iteration: 15\n",
      "##############################\n",
      "Time elapsed from last time log: 0.0 seconds\n",
      "Total time elapsed: 55.5 seconds\n",
      "##############################\n"
     ]
    },
    {
     "name": "stdout",
     "output_type": "stream",
     "text": [
      "Computing Pseudoinverse of a matrix of L of size 10227 + 446 multiplied with B\n"
     ]
    },
    {
     "name": "stdout",
     "output_type": "stream",
     "text": [
      "Computing svd\n"
     ]
    },
    {
     "name": "stdout",
     "output_type": "stream",
     "text": [
      "Done\n"
     ]
    },
    {
     "name": "stdout",
     "output_type": "stream",
     "text": [
      "Descent starts\n"
     ]
    },
    {
     "name": "stdout",
     "output_type": "stream",
     "text": [
      "Done.\n",
      "##############################\n",
      "Time elapsed from last time log: 2.9 seconds\n",
      "Total time elapsed: 58.4 seconds\n",
      "##############################\n"
     ]
    },
    {
     "data": {
      "image/png": "[encoded data removed]",
      "text/plain": [
       "<Figure size 432x288 with 1 Axes>"
      ]
     },
     "metadata": {},
     "output_type": "display_data"
    },
    {
     "data": {
      "text/plain": [
       "<Figure size 432x288 with 0 Axes>"
      ]
     },
     "metadata": {},
     "output_type": "display_data"
    },
    {
     "name": "stdout",
     "output_type": "stream",
     "text": [
      "Refining with rgd algorithm for 100 iterations.\n",
      "Refinement iteration: 16\n",
      "##############################\n",
      "Time elapsed from last time log: 0.0 seconds\n",
      "Total time elapsed: 59.0 seconds\n",
      "##############################\n"
     ]
    },
    {
     "name": "stdout",
     "output_type": "stream",
     "text": [
      "Computing Pseudoinverse of a matrix of L of size 10227 + 446 multiplied with B\n"
     ]
    },
    {
     "name": "stdout",
     "output_type": "stream",
     "text": [
      "Computing svd\n"
     ]
    },
    {
     "name": "stdout",
     "output_type": "stream",
     "text": [
      "Done\n"
     ]
    },
    {
     "name": "stdout",
     "output_type": "stream",
     "text": [
      "Descent starts\n"
     ]
    },
    {
     "name": "stdout",
     "output_type": "stream",
     "text": [
      "Done.\n",
      "##############################\n",
      "Time elapsed from last time log: 2.8 seconds\n",
      "Total time elapsed: 61.8 seconds\n",
      "##############################\n"
     ]
    },
    {
     "data": {
      "image/png": "[encoded data removed]",
      "text/plain": [
       "<Figure size 432x288 with 1 Axes>"
      ]
     },
     "metadata": {},
     "output_type": "display_data"
    },
    {
     "data": {
      "text/plain": [
       "<Figure size 432x288 with 0 Axes>"
      ]
     },
     "metadata": {},
     "output_type": "display_data"
    },
    {
     "name": "stdout",
     "output_type": "stream",
     "text": [
      "Refining with rgd algorithm for 100 iterations.\n",
      "Refinement iteration: 17\n",
      "##############################\n",
      "Time elapsed from last time log: 0.0 seconds\n",
      "Total time elapsed: 62.5 seconds\n",
      "##############################\n"
     ]
    },
    {
     "name": "stdout",
     "output_type": "stream",
     "text": [
      "Computing Pseudoinverse of a matrix of L of size 10227 + 446 multiplied with B\n"
     ]
    },
    {
     "name": "stdout",
     "output_type": "stream",
     "text": [
      "Computing svd\n"
     ]
    },
    {
     "name": "stdout",
     "output_type": "stream",
     "text": [
      "Done\n"
     ]
    },
    {
     "name": "stdout",
     "output_type": "stream",
     "text": [
      "Descent starts\n"
     ]
    },
    {
     "name": "stdout",
     "output_type": "stream",
     "text": [
      "Done.\n",
      "##############################\n",
      "Time elapsed from last time log: 2.8 seconds\n",
      "Total time elapsed: 65.3 seconds\n",
      "##############################\n"
     ]
    },
    {
     "data": {
      "image/png": "[encoded data removed]",
      "text/plain": [
       "<Figure size 432x288 with 1 Axes>"
      ]
     },
     "metadata": {},
     "output_type": "display_data"
    },
    {
     "data": {
      "text/plain": [
       "<Figure size 432x288 with 0 Axes>"
      ]
     },
     "metadata": {},
     "output_type": "display_data"
    },
    {
     "name": "stdout",
     "output_type": "stream",
     "text": [
      "Refining with rgd algorithm for 100 iterations.\n",
      "Refinement iteration: 18\n",
      "##############################\n",
      "Time elapsed from last time log: 0.0 seconds\n",
      "Total time elapsed: 66.0 seconds\n",
      "##############################\n"
     ]
    },
    {
     "name": "stdout",
     "output_type": "stream",
     "text": [
      "Computing Pseudoinverse of a matrix of L of size 10227 + 446 multiplied with B\n"
     ]
    },
    {
     "name": "stdout",
     "output_type": "stream",
     "text": [
      "Computing svd\n"
     ]
    },
    {
     "name": "stdout",
     "output_type": "stream",
     "text": [
      "Done\n"
     ]
    },
    {
     "name": "stdout",
     "output_type": "stream",
     "text": [
      "Descent starts\n"
     ]
    },
    {
     "name": "stdout",
     "output_type": "stream",
     "text": [
      "Done.\n",
      "##############################\n",
      "Time elapsed from last time log: 2.8 seconds\n",
      "Total time elapsed: 68.8 seconds\n",
      "##############################\n"
     ]
    },
    {
     "data": {
      "image/png": "[encoded data removed]",
      "text/plain": [
       "<Figure size 432x288 with 1 Axes>"
      ]
     },
     "metadata": {},
     "output_type": "display_data"
    },
    {
     "data": {
      "text/plain": [
       "<Figure size 432x288 with 0 Axes>"
      ]
     },
     "metadata": {},
     "output_type": "display_data"
    },
    {
     "name": "stdout",
     "output_type": "stream",
     "text": [
      "Refining with rgd algorithm for 100 iterations.\n",
      "Refinement iteration: 19\n",
      "##############################\n",
      "Time elapsed from last time log: 0.0 seconds\n",
      "Total time elapsed: 69.5 seconds\n",
      "##############################\n"
     ]
    },
    {
     "name": "stdout",
     "output_type": "stream",
     "text": [
      "Computing Pseudoinverse of a matrix of L of size 10227 + 446 multiplied with B\n"
     ]
    },
    {
     "name": "stdout",
     "output_type": "stream",
     "text": [
      "Computing svd\n"
     ]
    },
    {
     "name": "stdout",
     "output_type": "stream",
     "text": [
      "Done\n"
     ]
    },
    {
     "name": "stdout",
     "output_type": "stream",
     "text": [
      "Descent starts\n"
     ]
    },
    {
     "name": "stdout",
     "output_type": "stream",
     "text": [
      "Done.\n",
      "##############################\n",
      "Time elapsed from last time log: 2.8 seconds\n",
      "Total time elapsed: 72.3 seconds\n",
      "##############################\n",
      "Computing error.\n"
     ]
    },
    {
     "name": "stdout",
     "output_type": "stream",
     "text": [
      "Computing Pseudoinverse of a matrix of L of size 10227 + 446 multiplied with B\n"
     ]
    },
    {
     "name": "stdout",
     "output_type": "stream",
     "text": [
      "Computing svd\n"
     ]
    },
    {
     "name": "stdout",
     "output_type": "stream",
     "text": [
      "Done\n"
     ]
    },
    {
     "name": "stdout",
     "output_type": "stream",
     "text": [
      "Alignment error: -0.000\n",
      "##############################\n",
      "Time elapsed from last time log: 1.2 seconds\n",
      "Total time elapsed: 73.4 seconds\n",
      "##############################\n"
     ]
    },
    {
     "data": {
      "image/png": "[encoded data removed]",
      "text/plain": [
       "<Figure size 432x288 with 1 Axes>"
      ]
     },
     "metadata": {},
     "output_type": "display_data"
    },
    {
     "data": {
      "text/plain": [
       "<Figure size 432x288 with 0 Axes>"
      ]
     },
     "metadata": {},
     "output_type": "display_data"
    },
    {
     "data": {
      "text/plain": [
       "array([[-0.07952575, -1.47564266],\n",
       "       [-0.06958503, -1.47564266],\n",
       "       [-0.05964431, -1.47564266],\n",
       "       ...,\n",
       "       [ 0.02982216,  0.74779189],\n",
       "       [ 0.03976288,  0.74779189],\n",
       "       [ 0.0497036 ,  0.74779189]])"
      ]
     },
     "execution_count": 7,
     "metadata": {},
     "output_type": "execute_result"
    }
   ],
   "source": [
    "ldle.fit(X=X)"
   ]
  },
  {
   "cell_type": "code",
   "execution_count": 8,
   "id": "c7381785",
   "metadata": {
    "execution": {
     "iopub.execute_input": "2022-08-08T21:04:48.427310Z",
     "iopub.status.busy": "2022-08-08T21:04:48.426933Z",
     "iopub.status.idle": "2022-08-08T21:04:48.579846Z",
     "shell.execute_reply": "2022-08-08T21:04:48.579086Z"
    }
   },
   "outputs": [
    {
     "data": {
      "image/png": "[encoded data removed]",
      "text/plain": [
       "<Figure size 432x288 with 1 Axes>"
      ]
     },
     "metadata": {},
     "output_type": "display_data"
    },
    {
     "data": {
      "text/plain": [
       "<Figure size 432x288 with 0 Axes>"
      ]
     },
     "metadata": {},
     "output_type": "display_data"
    }
   ],
   "source": [
    "ldle.GlobalViews.vis_embedding(ldle.GlobalViews.y_final, ldle.vis, ldle.vis_opts,\n",
    "                               ldle.GlobalViews.color_of_pts_on_tear_final,\n",
    "                               title='Final global embedding', )"
   ]
  },
  {
   "cell_type": "code",
   "execution_count": 9,
   "id": "4d630749",
   "metadata": {
    "execution": {
     "iopub.execute_input": "2022-08-08T21:04:48.585065Z",
     "iopub.status.busy": "2022-08-08T21:04:48.584703Z",
     "iopub.status.idle": "2022-08-08T21:04:48.790772Z",
     "shell.execute_reply": "2022-08-08T21:04:48.790101Z"
    }
   },
   "outputs": [
    {
     "name": "stdout",
     "output_type": "stream",
     "text": [
      "Saved ../data/pyLDLE2/barbell//ldle.dat\n"
     ]
    }
   ],
   "source": [
    "# save for further visualization\n",
    "import pickle\n",
    "save_path = save_dir_root+'/ldle.dat'\n",
    "with open(save_path, \"wb\") as f:\n",
    "    pickle.dump([X, labelsMat, ldle], f)\n",
    "print('Saved', save_path)"
   ]
  },
  {
   "cell_type": "code",
   "execution_count": null,
   "id": "41ee3a2b",
   "metadata": {},
   "outputs": [],
   "source": []
  }
 ],
 "metadata": {
  "kernelspec": {
   "display_name": "Python 3 (ipykernel)",
   "language": "python",
   "name": "python3"
  },
  "language_info": {
   "codemirror_mode": {
    "name": "ipython",
    "version": 3
   },
   "file_extension": ".py",
   "mimetype": "text/x-python",
   "name": "python",
   "nbconvert_exporter": "python",
   "pygments_lexer": "ipython3",
   "version": "3.9.12"
  }
 },
 "nbformat": 4,
 "nbformat_minor": 5
}
