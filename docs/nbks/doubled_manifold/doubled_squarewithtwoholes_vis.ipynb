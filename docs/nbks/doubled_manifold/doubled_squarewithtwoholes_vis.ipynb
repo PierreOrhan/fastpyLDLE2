{
 "cells": [
  {
   "cell_type": "code",
   "execution_count": null,
   "id": "8dc87f98",
   "metadata": {},
   "outputs": [],
   "source": [
    "# Not really required\n",
    "import sys\n",
    "sys.path.insert(0, '../..')"
   ]
  },
  {
   "cell_type": "code",
   "execution_count": null,
   "id": "5bac7766",
   "metadata": {},
   "outputs": [],
   "source": [
    "import pickle\n",
    "import numpy as np\n",
    "fpath = '../data/pyLDLE2/doubled_squarewithtwoholes/ldle.dat'\n",
    "with open(fpath, \"rb\") as f:\n",
    "    all_data = pickle.load(f)\n",
    "X, labelsMat, ldle = all_data[:3]"
   ]
  },
  {
   "cell_type": "code",
   "execution_count": null,
   "id": "ac427c72",
   "metadata": {},
   "outputs": [],
   "source": [
    "# In case visualize_ is modified, load\n",
    "# and use the newer version.\n",
    "from pyLDLE2 import visualize_\n",
    "import importlib\n",
    "visualize_ = importlib.reload(visualize_)\n",
    "ldle.vis = visualize_.Visualize(ldle.vis_opts['save_dir'])"
   ]
  },
  {
   "cell_type": "code",
   "execution_count": null,
   "id": "08a3d68b",
   "metadata": {},
   "outputs": [],
   "source": [
    "### Data"
   ]
  },
  {
   "cell_type": "code",
   "execution_count": null,
   "id": "79c27d54",
   "metadata": {},
   "outputs": [],
   "source": [
    "%matplotlib inline\n",
    "ldle.vis.data(X, labelsMat[:,0], figsize=(5,5), s=50, cmap='summer')"
   ]
  },
  {
   "cell_type": "code",
   "execution_count": null,
   "id": "ce9ed7f6",
   "metadata": {},
   "outputs": [],
   "source": [
    "### Eigenvalues"
   ]
  },
  {
   "cell_type": "code",
   "execution_count": null,
   "id": "b1097a09",
   "metadata": {},
   "outputs": [],
   "source": [
    "%matplotlib inline\n",
    "local_algo = ldle.local_opts['algo']\n",
    "if local_algo == 'LDLE':\n",
    "    ldle.vis.eigenvalues(ldle.LocalViews.GL.lmbda, figsize=(5,5))\n",
    "else:\n",
    "    print('Local views were constructed using', local_algo)"
   ]
  },
  {
   "cell_type": "code",
   "execution_count": null,
   "id": "6ad05d95",
   "metadata": {},
   "outputs": [],
   "source": [
    "### Eigenvectors"
   ]
  },
  {
   "cell_type": "code",
   "execution_count": null,
   "id": "dc1eafaf",
   "metadata": {
    "scrolled": false
   },
   "outputs": [],
   "source": [
    "%matplotlib inline\n",
    "local_algo = ldle.local_opts['algo']\n",
    "if local_algo == 'LDLE':\n",
    "    n_eigvevs = 3\n",
    "    for k in range(n_eigvevs):\n",
    "        ldle.vis.eigenvector(X, ldle.LocalViews.GL.phi, k, figsize=(5,5), s=50)\n",
    "else:\n",
    "    print('Local views were constructed using', local_algo)"
   ]
  },
  {
   "cell_type": "code",
   "execution_count": null,
   "id": "d47d17ea",
   "metadata": {},
   "outputs": [],
   "source": [
    "### gamma"
   ]
  },
  {
   "cell_type": "code",
   "execution_count": null,
   "id": "46bbcf8e",
   "metadata": {},
   "outputs": [],
   "source": [
    "%matplotlib inline\n",
    "local_algo = ldle.local_opts['algo']\n",
    "if local_algo == 'LDLE':\n",
    "    if ldle.debug:\n",
    "        n_eigvevs = 3\n",
    "        for k in range(n_eigvevs):\n",
    "            ldle.vis.gamma(X, ldle.LocalViews.gamma,\n",
    "                           int(k*ldle.local_opts['N']/n_eigvevs),\n",
    "                           figsize=(5,5), s=50)\n",
    "    else:\n",
    "        print('ldle.debug is False, thus ldle.LocalViews.gamma is not saved.')\n",
    "else:\n",
    "    print('Local views were constructed using', local_algo)"
   ]
  },
  {
   "cell_type": "code",
   "execution_count": null,
   "id": "013c5c64",
   "metadata": {},
   "outputs": [],
   "source": [
    "### No. of eigenvectors with small gradients at each point - possibly identifies boundary"
   ]
  },
  {
   "cell_type": "code",
   "execution_count": null,
   "id": "b7ae604d",
   "metadata": {},
   "outputs": [],
   "source": [
    "%matplotlib qt\n",
    "local_algo = ldle.local_opts['algo']\n",
    "if local_algo == 'LDLE':\n",
    "    if ldle.debug:\n",
    "        ldle.vis.n_eigvecs_w_grad_lt(X, ldle.LocalViews.IPGE.Atilde)\n",
    "    else:\n",
    "        print('ldle.debug is False, thus ldle.LocalViews.IPGE.Atilde is not saved.')\n",
    "else:\n",
    "    print('Local views were constructed using', local_algo)"
   ]
  },
  {
   "cell_type": "code",
   "execution_count": null,
   "id": "c1ab5621",
   "metadata": {},
   "outputs": [],
   "source": [
    "# Same visualization as above but plots based on the embedding"
   ]
  },
  {
   "cell_type": "code",
   "execution_count": null,
   "id": "e6d2506a",
   "metadata": {},
   "outputs": [],
   "source": [
    "%matplotlib qt\n",
    "local_algo = ldle.local_opts['algo']\n",
    "if local_algo == 'LDLE':\n",
    "    if ldle.debug:\n",
    "        ldle.vis.n_eigvecs_w_grad_lt(ldle.GlobalViews.y_final, ldle.LocalViews.IPGE.Atilde)\n",
    "    else:\n",
    "        print('ldle.debug is False, thus ldle.LocalViews.IPGE.Atilde is not saved.')\n",
    "else:\n",
    "    print('Local views were constructed using', local_algo)"
   ]
  },
  {
   "cell_type": "code",
   "execution_count": null,
   "id": "e6f06c86",
   "metadata": {},
   "outputs": [],
   "source": [
    "### Distortion of local parameterizations without post-processing"
   ]
  },
  {
   "cell_type": "code",
   "execution_count": null,
   "id": "1d4589fc",
   "metadata": {
    "scrolled": false
   },
   "outputs": [],
   "source": [
    "%matplotlib inline\n",
    "import numpy as np\n",
    "local_algo = ldle.local_opts['algo']\n",
    "if local_algo == 'LDLE':\n",
    "    if ldle.debug:\n",
    "        ldle.vis.distortion_boxplot(np.log(ldle.LocalViews.local_param_pre.zeta),\n",
    "                                    title='log(distortion) without postprocessing',\n",
    "                                    figsize=(5,5))\n",
    "    else:\n",
    "        print('ldle.debug is False, thus ldle.LocalViews.local_param_pre is not saved.')\n",
    "else:\n",
    "    ldle.vis.distortion_boxplot(np.log(ldle.LocalViews.local_param_post.zeta),\n",
    "                                title='log(distortion of local views)',\n",
    "                                figsize=(5,5))\n",
    "    if ldle.d <= 3:\n",
    "        ldle.vis.distortion(ldle.GlobalViews.y_final, ldle.LocalViews.local_param_post.zeta,\n",
    "                            'Embedding colored by distortion',\n",
    "                            figsize=(8,8), s=50)"
   ]
  },
  {
   "cell_type": "code",
   "execution_count": null,
   "id": "7e26aac9",
   "metadata": {},
   "outputs": [],
   "source": [
    "### Distortion of local parameterizations with post-processing"
   ]
  },
  {
   "cell_type": "code",
   "execution_count": null,
   "id": "ad2ae009",
   "metadata": {},
   "outputs": [],
   "source": [
    "%matplotlib inline\n",
    "local_algo = ldle.local_opts['algo']\n",
    "if local_algo == 'LDLE':\n",
    "    ldle.vis.distortion_boxplot(np.log(ldle.LocalViews.local_param_post.zeta),\n",
    "                                title='log(distortion)',\n",
    "                                figsize=(5,5))\n",
    "    if ldle.d <= 3:\n",
    "        ldle.vis.distortion(X, ldle.LocalViews.local_param_post.zeta,\n",
    "                            'Embedding colored by distortion',\n",
    "                            figsize=(8,8), s=50)\n",
    "else:\n",
    "    print('Local views were constructed using', local_algo)"
   ]
  },
  {
   "cell_type": "code",
   "execution_count": null,
   "id": "5788a71a",
   "metadata": {},
   "outputs": [],
   "source": [
    "### Double or triple click on the first subplot to choose a point on the data and press any key to quit. Here we visualize: 1. Local views in the ambient and embedding space. 2. Chosen eigenvectors to construct the local parameterization. 3. Deviation of the chosen eigenvectors from being orthogonal and having same length."
   ]
  },
  {
   "cell_type": "code",
   "execution_count": null,
   "id": "ad0f5697",
   "metadata": {},
   "outputs": [],
   "source": [
    "%matplotlib qt\n",
    "local_algo = ldle.local_opts['algo']\n",
    "if local_algo == 'LDLE':\n",
    "    if ldle.debug:\n",
    "        ldle.vis.local_views(X, ldle.LocalViews.GL.phi, ldle.LocalViews.U.toarray(),\n",
    "                             ldle.LocalViews.gamma, ldle.LocalViews.IPGE.Atilde,\n",
    "                             ldle.LocalViews.local_param_post.Psi_gamma,\n",
    "                             ldle.LocalViews.local_param_post.Psi_i,\n",
    "                             ldle.LocalViews.local_param_post.zeta, None)\n",
    "    else:\n",
    "        print('ldle.debug is False, thus intermediary data was not saved.')\n",
    "else:\n",
    "    print('Local views were constructed using', local_algo)"
   ]
  },
  {
   "cell_type": "code",
   "execution_count": null,
   "id": "339b2afd",
   "metadata": {},
   "outputs": [],
   "source": [
    "# Same visualization as above but plots based on the embedding"
   ]
  },
  {
   "cell_type": "code",
   "execution_count": null,
   "id": "717acf6b",
   "metadata": {},
   "outputs": [],
   "source": [
    "%matplotlib qt\n",
    "local_algo = ldle.local_opts['algo']\n",
    "if local_algo == 'LDLE':\n",
    "    if ldle.debug:\n",
    "        ldle.vis.local_views(ldle.GlobalViews.y_final, ldle.LocalViews.GL.phi,\n",
    "                             ldle.LocalViews.U.toarray(),\n",
    "                             ldle.LocalViews.gamma, ldle.LocalViews.IPGE.Atilde,\n",
    "                             ldle.LocalViews.local_param_post.Psi_gamma,\n",
    "                             ldle.LocalViews.local_param_post.Psi_i,\n",
    "                             ldle.LocalViews.local_param_post.zeta, None)\n",
    "    else:\n",
    "        print('ldle.debug is False, thus intermediary data was not saved.')\n",
    "else:\n",
    "    print('Local views were constructed using', local_algo)"
   ]
  },
  {
   "cell_type": "code",
   "execution_count": null,
   "id": "728dd3e2",
   "metadata": {},
   "outputs": [],
   "source": [
    "### Chosen eigenvectors' indices' for local views"
   ]
  },
  {
   "cell_type": "code",
   "execution_count": null,
   "id": "4728f49d",
   "metadata": {},
   "outputs": [],
   "source": [
    "%matplotlib inline\n",
    "local_algo = ldle.local_opts['algo']\n",
    "if local_algo == 'LDLE':\n",
    "    ldle.vis.chosen_eigevec_inds_for_local_views(ldle.GlobalViews.y_final,\n",
    "                                                 ldle.LocalViews.local_param_post.Psi_i,\n",
    "                                                 figsize=(16,8))\n",
    "else:\n",
    "    print('Local views were constructed using', local_algo)"
   ]
  },
  {
   "cell_type": "code",
   "execution_count": null,
   "id": "e02c9192",
   "metadata": {},
   "outputs": [],
   "source": [
    "### Sequence of intermediate views"
   ]
  },
  {
   "cell_type": "code",
   "execution_count": null,
   "id": "07fd00ed",
   "metadata": {},
   "outputs": [],
   "source": [
    "%matplotlib inline\n",
    "if ldle.debug:\n",
    "    ldle.vis.seq_of_intermediate_views(ldle.GlobalViews.y_final, ldle.IntermedViews.c,\n",
    "                                       ldle.GlobalViews.seq_of_intermed_views_in_cluster[0],\n",
    "                                       ldle.GlobalViews.parents_of_intermed_views_in_cluster[0],\n",
    "                                       ldle.IntermedViews.Utilde, figsize=(8,8), s=50, cmap='tab20')\n",
    "else:\n",
    "    print('ldle.debug is False, thus intermediary data was not saved.')"
   ]
  },
  {
   "cell_type": "code",
   "execution_count": null,
   "id": "7108647f",
   "metadata": {},
   "outputs": [],
   "source": [
    "### Distortion of intermediate views"
   ]
  },
  {
   "cell_type": "code",
   "execution_count": null,
   "id": "07282973",
   "metadata": {
    "scrolled": false
   },
   "outputs": [],
   "source": [
    "%matplotlib inline\n",
    "ldle.vis.distortion(ldle.GlobalViews.y_final,\n",
    "                    ldle.IntermedViews.intermed_param.zeta[ldle.IntermedViews.c],\n",
    "                    'Distortion of Intermediate Views', figsize=(8,8), s=50)"
   ]
  },
  {
   "cell_type": "code",
   "execution_count": null,
   "id": "4da67595",
   "metadata": {},
   "outputs": [],
   "source": [
    "%matplotlib inline\n",
    "ldle.vis.distortion_boxplot(np.log(ldle.IntermedViews.intermed_param.zeta),\n",
    "                            title='log(distortion of intermediate views)',\n",
    "                            figsize=(5,5))"
   ]
  },
  {
   "cell_type": "code",
   "execution_count": null,
   "id": "6e3a25d2",
   "metadata": {},
   "outputs": [],
   "source": [
    "### Double or triple click on the first subplot to choose a point on the data and press any key to quit. Here we visualize: 1. Intermediate views in the ambient and embedding space. 2. Chosen eigenvectors to construct the intermediate parameterization. 3. Deviation of the chosen eigenvectors from being orthogonal and having same length."
   ]
  },
  {
   "cell_type": "code",
   "execution_count": null,
   "id": "7774fc65",
   "metadata": {},
   "outputs": [],
   "source": [
    "%matplotlib qt\n",
    "local_algo = ldle.local_opts['algo']\n",
    "if local_algo == 'LDLE':\n",
    "    if ldle.debug:\n",
    "        ldle.vis.intermediate_views(X, ldle.LocalViews.GL.phi, ldle.IntermedViews.Utilde,\n",
    "                                    ldle.LocalViews.gamma, ldle.LocalViews.IPGE.Atilde,\n",
    "                                    ldle.IntermedViews.intermed_param.Psi_gamma,\n",
    "                                    ldle.IntermedViews.intermed_param.Psi_i,\n",
    "                                    ldle.IntermedViews.intermed_param.zeta,\n",
    "                                    ldle.IntermedViews.c)\n",
    "    else:\n",
    "        print('ldle.debug is False, thus intermediary data was not saved.')\n",
    "else:\n",
    "    print('Local views were constructed using', local_algo)"
   ]
  },
  {
   "cell_type": "code",
   "execution_count": null,
   "id": "d03f26ad",
   "metadata": {},
   "outputs": [],
   "source": [
    "# Same visualization as above but plots based on the embedding"
   ]
  },
  {
   "cell_type": "code",
   "execution_count": null,
   "id": "624eb845",
   "metadata": {},
   "outputs": [],
   "source": [
    "%matplotlib qt\n",
    "local_algo = ldle.local_opts['algo']\n",
    "if local_algo == 'LDLE':\n",
    "    if ldle.debug:\n",
    "        ldle.vis.intermediate_views(ldle.GlobalViews.y_final, ldle.LocalViews.GL.phi,\n",
    "                                    ldle.IntermedViews.Utilde,\n",
    "                                    ldle.LocalViews.gamma, ldle.LocalViews.IPGE.Atilde,\n",
    "                                    ldle.IntermedViews.intermed_param.Psi_gamma,\n",
    "                                    ldle.IntermedViews.intermed_param.Psi_i,\n",
    "                                    ldle.IntermedViews.intermed_param.zeta,\n",
    "                                    ldle.IntermedViews.c)\n",
    "    else:\n",
    "        print('ldle.debug is False, thus intermediary data was not saved.')\n",
    "else:\n",
    "    print('Local views were constructed using', local_algo)"
   ]
  },
  {
   "cell_type": "code",
   "execution_count": null,
   "id": "18866e64",
   "metadata": {},
   "outputs": [],
   "source": [
    "### Chosen eigenvectors' indices' for intermediate views "
   ]
  },
  {
   "cell_type": "code",
   "execution_count": null,
   "id": "e0d8a94d",
   "metadata": {},
   "outputs": [],
   "source": [
    "%matplotlib inline\n",
    "local_algo = ldle.local_opts['algo']\n",
    "if local_algo == 'LDLE':\n",
    "    ldle.vis.chosen_eigevec_inds_for_intermediate_views(ldle.GlobalViews.y_final,\n",
    "                                                        ldle.IntermedViews.intermed_param.Psi_i,\n",
    "                                                        ldle.IntermedViews.c, figsize=(16,8))\n",
    "else:\n",
    "    print('Local views were constructed using', local_algo)"
   ]
  },
  {
   "cell_type": "code",
   "execution_count": null,
   "id": "f1ddb572",
   "metadata": {},
   "outputs": [],
   "source": [
    "### initial global embedding"
   ]
  },
  {
   "cell_type": "code",
   "execution_count": null,
   "id": "7cbad320",
   "metadata": {},
   "outputs": [],
   "source": [
    "%matplotlib inline\n",
    "ldle.vis.global_embedding(ldle.GlobalViews.y_init, ldle.vis_opts['c'], ldle.vis_opts['cmap_interior'],\n",
    "                          ldle.GlobalViews.color_of_pts_on_tear_init, ldle.vis_opts['cmap_boundary'],\n",
    "                          'Initial Embedding', figsize=(5,5), s=50)"
   ]
  },
  {
   "cell_type": "code",
   "execution_count": null,
   "id": "1e4de71e",
   "metadata": {},
   "outputs": [],
   "source": [
    "### final global embedding"
   ]
  },
  {
   "cell_type": "code",
   "execution_count": null,
   "id": "6b51cb69",
   "metadata": {},
   "outputs": [],
   "source": [
    "%matplotlib inline\n",
    "ldle.vis.global_embedding(ldle.GlobalViews.y_final, ldle.vis_opts['c'], ldle.vis_opts['cmap_interior'],\n",
    "                          ldle.GlobalViews.color_of_pts_on_tear_final, ldle.vis_opts['cmap_boundary'],\n",
    "                          'Initial Embedding', figsize=(5,5), s=50)"
   ]
  },
  {
   "cell_type": "code",
   "execution_count": null,
   "id": "74caab55",
   "metadata": {},
   "outputs": [],
   "source": []
  }
 ],
 "metadata": {
  "kernelspec": {
   "display_name": "Python 3 (ipykernel)",
   "language": "python",
   "name": "python3"
  },
  "language_info": {
   "codemirror_mode": {
    "name": "ipython",
    "version": 3
   },
   "file_extension": ".py",
   "mimetype": "text/x-python",
   "name": "python",
   "nbconvert_exporter": "python",
   "pygments_lexer": "ipython3",
   "version": "3.8.13"
  }
 },
 "nbformat": 4,
 "nbformat_minor": 5
}
