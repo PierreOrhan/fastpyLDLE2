{
 "cells": [
  {
   "cell_type": "markdown",
   "id": "2bf0f75c",
   "metadata": {},
   "source": [
    "### Rectangle"
   ]
  },
  {
   "cell_type": "code",
   "execution_count": 1,
   "id": "ff81deb0",
   "metadata": {
    "execution": {
     "iopub.execute_input": "2022-07-26T23:55:19.684417Z",
     "iopub.status.busy": "2022-07-26T23:55:19.683938Z",
     "iopub.status.idle": "2022-07-26T23:55:20.235480Z",
     "shell.execute_reply": "2022-07-26T23:55:20.235026Z"
    }
   },
   "outputs": [],
   "source": [
    "%matplotlib inline"
   ]
  },
  {
   "cell_type": "code",
   "execution_count": 2,
   "id": "a8d77738",
   "metadata": {
    "execution": {
     "iopub.execute_input": "2022-07-26T23:55:20.239176Z",
     "iopub.status.busy": "2022-07-26T23:55:20.238947Z",
     "iopub.status.idle": "2022-07-26T23:55:20.241703Z",
     "shell.execute_reply": "2022-07-26T23:55:20.241298Z"
    }
   },
   "outputs": [],
   "source": [
    "# Not really required\n",
    "import sys\n",
    "sys.path.insert(0, '../../..')"
   ]
  },
  {
   "cell_type": "code",
   "execution_count": 3,
   "id": "ad5119aa",
   "metadata": {
    "execution": {
     "iopub.execute_input": "2022-07-26T23:55:20.245568Z",
     "iopub.status.busy": "2022-07-26T23:55:20.245358Z",
     "iopub.status.idle": "2022-07-26T23:55:20.693311Z",
     "shell.execute_reply": "2022-07-26T23:55:20.692861Z"
    }
   },
   "outputs": [
    {
     "name": "stdout",
     "output_type": "stream",
     "text": [
      "matplotlib.get_backend() =  module://matplotlib_inline.backend_inline\n"
     ]
    }
   ],
   "source": [
    "from pyLDLE2 import datasets\n",
    "from pyLDLE2 import ldle_"
   ]
  },
  {
   "cell_type": "code",
   "execution_count": 4,
   "id": "777aa611",
   "metadata": {
    "execution": {
     "iopub.execute_input": "2022-07-26T23:55:20.698405Z",
     "iopub.status.busy": "2022-07-26T23:55:20.697950Z",
     "iopub.status.idle": "2022-07-26T23:55:20.703252Z",
     "shell.execute_reply": "2022-07-26T23:55:20.702124Z"
    }
   },
   "outputs": [],
   "source": [
    "save_dir_root = '../data/pyLDLE2/rectangle/'"
   ]
  },
  {
   "cell_type": "code",
   "execution_count": 5,
   "id": "55e389bc",
   "metadata": {
    "execution": {
     "iopub.execute_input": "2022-07-26T23:55:20.708114Z",
     "iopub.status.busy": "2022-07-26T23:55:20.707676Z",
     "iopub.status.idle": "2022-07-26T23:55:20.856829Z",
     "shell.execute_reply": "2022-07-26T23:55:20.856303Z"
    }
   },
   "outputs": [
    {
     "name": "stdout",
     "output_type": "stream",
     "text": [
      "X.shape =  (10426, 2)\n"
     ]
    }
   ],
   "source": [
    "X, labelsMat, ddX = datasets.Datasets().rectanglegrid()"
   ]
  },
  {
   "cell_type": "code",
   "execution_count": 6,
   "id": "a0e44b81",
   "metadata": {
    "execution": {
     "iopub.execute_input": "2022-07-26T23:55:20.860404Z",
     "iopub.status.busy": "2022-07-26T23:55:20.860204Z",
     "iopub.status.idle": "2022-07-26T23:55:20.864334Z",
     "shell.execute_reply": "2022-07-26T23:55:20.863859Z"
    }
   },
   "outputs": [
    {
     "name": "stdout",
     "output_type": "stream",
     "text": [
      "local_opts['k_nn0'] = 600 is created.\n"
     ]
    }
   ],
   "source": [
    "# The supplied options would override the default options\n",
    "ldle = ldle_.LDLE(local_opts={'algo':'LDLE'},\n",
    "                  vis_opts={'c': labelsMat[:,0], 'save_dir': save_dir_root},\n",
    "                  intermed_opts={'eta_min': 10},\n",
    "                  global_opts={\n",
    "                      'max_iter': 10,\n",
    "                      'init_algo_align_w_parent_only': True # Set this True for low noise\n",
    "                  },\n",
    "                  verbose=True, debug=True)"
   ]
  },
  {
   "cell_type": "code",
   "execution_count": 7,
   "id": "7eadfc89",
   "metadata": {
    "execution": {
     "iopub.execute_input": "2022-07-26T23:55:20.871020Z",
     "iopub.status.busy": "2022-07-26T23:55:20.870590Z",
     "iopub.status.idle": "2022-07-27T00:00:50.971289Z",
     "shell.execute_reply": "2022-07-27T00:00:50.970778Z"
    },
    "scrolled": false
   },
   "outputs": [
    {
     "name": "stdout",
     "output_type": "stream",
     "text": [
      "Constructing unnorm graph Laplacian + its eigendecomposition.\n"
     ]
    },
    {
     "name": "stdout",
     "output_type": "stream",
     "text": [
      "Done.\n",
      "##############################\n",
      "Time elapsed from last time log: 2.3 seconds\n",
      "Total time elapsed: 2.3 seconds\n",
      "##############################\n",
      "Computing Atilde: Inner Prod of Grad of EigFuncs.\n",
      "FEM for Atilde.\n",
      "Atilde: 0 points processed...\n"
     ]
    },
    {
     "name": "stdout",
     "output_type": "stream",
     "text": [
      "Atilde: 2606 points processed...\n"
     ]
    },
    {
     "name": "stdout",
     "output_type": "stream",
     "text": [
      "Atilde: 5212 points processed...\n"
     ]
    },
    {
     "name": "stdout",
     "output_type": "stream",
     "text": [
      "Atilde: 7818 points processed...\n"
     ]
    },
    {
     "name": "stdout",
     "output_type": "stream",
     "text": [
      "Atilde: 10424 points processed...\n",
      "Atilde: all points processed...\n",
      "Done.\n",
      "##############################\n",
      "Time elapsed from last time log: 1.1 seconds\n",
      "Total time elapsed: 3.3 seconds\n",
      "##############################\n",
      "Computing LDLE.\n"
     ]
    },
    {
     "name": "stdout",
     "output_type": "stream",
     "text": [
      "local_param: all 10426 points processed...\n",
      "max distortion is 1672347.668685\n",
      "Done.\n",
      "##############################\n",
      "Time elapsed from last time log: 1.3 seconds\n",
      "Total time elapsed: 4.6 seconds\n",
      "##############################\n",
      "Posprocessing LDLE.\n"
     ]
    },
    {
     "name": "stdout",
     "output_type": "stream",
     "text": [
      "Iter 1, Param replaced: 10016, max distortion: 50.422917\n"
     ]
    },
    {
     "name": "stdout",
     "output_type": "stream",
     "text": [
      "Iter 2, Param replaced: 6255, max distortion: 17.397043\n"
     ]
    },
    {
     "name": "stdout",
     "output_type": "stream",
     "text": [
      "Iter 3, Param replaced: 3164, max distortion: 12.724430\n"
     ]
    },
    {
     "name": "stdout",
     "output_type": "stream",
     "text": [
      "Iter 4, Param replaced: 734, max distortion: 12.570648\n"
     ]
    },
    {
     "name": "stdout",
     "output_type": "stream",
     "text": [
      "Iter 5, Param replaced: 175, max distortion: 12.570648\n"
     ]
    },
    {
     "name": "stdout",
     "output_type": "stream",
     "text": [
      "Iter 6, Param replaced: 35, max distortion: 12.570648\n"
     ]
    },
    {
     "name": "stdout",
     "output_type": "stream",
     "text": [
      "Iter 7, Param replaced: 8, max distortion: 12.570648\n"
     ]
    },
    {
     "name": "stdout",
     "output_type": "stream",
     "text": [
      "Iter 8, Param replaced: 1, max distortion: 12.570648\n"
     ]
    },
    {
     "name": "stdout",
     "output_type": "stream",
     "text": [
      "Iter 9, Param replaced: 0, max distortion: 12.570648\n",
      "Done.\n",
      "##############################\n",
      "Time elapsed from last time log: 17.9 seconds\n",
      "Total time elapsed: 22.5 seconds\n",
      "##############################\n"
     ]
    },
    {
     "name": "stdout",
     "output_type": "stream",
     "text": [
      "Max local distortion = 1.2570648167234292e+01\n",
      "Constructing intermediate views.\n",
      "eta = 2.\n",
      "# non-empty views with sz < 2 = 10426\n",
      "#nodes in views with sz < 2 = 10426\n"
     ]
    },
    {
     "name": "stdout",
     "output_type": "stream",
     "text": [
      "Costs computed when eta = 2.\n",
      "##############################\n",
      "Time elapsed from last time log: 10.9 seconds\n",
      "Total time elapsed: 11.0 seconds\n",
      "##############################\n"
     ]
    },
    {
     "name": "stdout",
     "output_type": "stream",
     "text": [
      "Remaining #nodes in views with sz < 2 = 0\n",
      "Done with eta = 2.\n",
      "##############################\n",
      "Time elapsed from last time log: 135.0 seconds\n",
      "Total time elapsed: 146.0 seconds\n",
      "##############################\n",
      "eta = 3.\n",
      "# non-empty views with sz < 3 = 420\n",
      "#nodes in views with sz < 3 = 840\n"
     ]
    },
    {
     "name": "stdout",
     "output_type": "stream",
     "text": [
      "Costs computed when eta = 3.\n",
      "##############################\n",
      "Time elapsed from last time log: 0.7 seconds\n",
      "Total time elapsed: 146.7 seconds\n",
      "##############################\n"
     ]
    },
    {
     "name": "stdout",
     "output_type": "stream",
     "text": [
      "Remaining #nodes in views with sz < 3 = 0\n",
      "Done with eta = 3.\n",
      "##############################\n",
      "Time elapsed from last time log: 4.2 seconds\n",
      "Total time elapsed: 150.9 seconds\n",
      "##############################\n",
      "eta = 4.\n",
      "# non-empty views with sz < 4 = 360\n",
      "#nodes in views with sz < 4 = 1080\n"
     ]
    },
    {
     "name": "stdout",
     "output_type": "stream",
     "text": [
      "Costs computed when eta = 4.\n",
      "##############################\n",
      "Time elapsed from last time log: 0.8 seconds\n",
      "Total time elapsed: 151.7 seconds\n",
      "##############################\n"
     ]
    },
    {
     "name": "stdout",
     "output_type": "stream",
     "text": [
      "Remaining #nodes in views with sz < 4 = 0\n",
      "Done with eta = 4.\n",
      "##############################\n",
      "Time elapsed from last time log: 9.7 seconds\n",
      "Total time elapsed: 161.4 seconds\n",
      "##############################\n",
      "eta = 5.\n",
      "# non-empty views with sz < 5 = 221\n",
      "#nodes in views with sz < 5 = 884\n"
     ]
    },
    {
     "name": "stdout",
     "output_type": "stream",
     "text": [
      "Costs computed when eta = 5.\n",
      "##############################\n",
      "Time elapsed from last time log: 0.6 seconds\n",
      "Total time elapsed: 162.0 seconds\n",
      "##############################\n"
     ]
    },
    {
     "name": "stdout",
     "output_type": "stream",
     "text": [
      "Remaining #nodes in views with sz < 5 = 0\n",
      "Done with eta = 5.\n",
      "##############################\n",
      "Time elapsed from last time log: 8.6 seconds\n",
      "Total time elapsed: 170.6 seconds\n",
      "##############################\n",
      "eta = 6.\n",
      "# non-empty views with sz < 6 = 186\n",
      "#nodes in views with sz < 6 = 930\n"
     ]
    },
    {
     "name": "stdout",
     "output_type": "stream",
     "text": [
      "Costs computed when eta = 6.\n",
      "##############################\n",
      "Time elapsed from last time log: 0.7 seconds\n",
      "Total time elapsed: 171.2 seconds\n",
      "##############################\n"
     ]
    },
    {
     "name": "stdout",
     "output_type": "stream",
     "text": [
      "Remaining #nodes in views with sz < 6 = 0\n",
      "Done with eta = 6.\n",
      "##############################\n",
      "Time elapsed from last time log: 12.0 seconds\n",
      "Total time elapsed: 183.3 seconds\n",
      "##############################\n",
      "eta = 7.\n",
      "# non-empty views with sz < 7 = 132\n",
      "#nodes in views with sz < 7 = 792\n"
     ]
    },
    {
     "name": "stdout",
     "output_type": "stream",
     "text": [
      "Costs computed when eta = 7.\n",
      "##############################\n",
      "Time elapsed from last time log: 0.5 seconds\n",
      "Total time elapsed: 183.8 seconds\n",
      "##############################\n"
     ]
    },
    {
     "name": "stdout",
     "output_type": "stream",
     "text": [
      "Remaining #nodes in views with sz < 7 = 0\n",
      "Done with eta = 7.\n",
      "##############################\n",
      "Time elapsed from last time log: 9.6 seconds\n",
      "Total time elapsed: 193.3 seconds\n",
      "##############################\n",
      "eta = 8.\n",
      "# non-empty views with sz < 8 = 100\n",
      "#nodes in views with sz < 8 = 700\n"
     ]
    },
    {
     "name": "stdout",
     "output_type": "stream",
     "text": [
      "Costs computed when eta = 8.\n",
      "##############################\n",
      "Time elapsed from last time log: 0.5 seconds\n",
      "Total time elapsed: 193.9 seconds\n",
      "##############################\n"
     ]
    },
    {
     "name": "stdout",
     "output_type": "stream",
     "text": [
      "Remaining #nodes in views with sz < 8 = 0\n",
      "Done with eta = 8.\n",
      "##############################\n",
      "Time elapsed from last time log: 9.1 seconds\n",
      "Total time elapsed: 203.0 seconds\n",
      "##############################\n",
      "eta = 9.\n",
      "# non-empty views with sz < 9 = 87\n",
      "#nodes in views with sz < 9 = 696\n"
     ]
    },
    {
     "name": "stdout",
     "output_type": "stream",
     "text": [
      "Costs computed when eta = 9.\n",
      "##############################\n",
      "Time elapsed from last time log: 0.4 seconds\n",
      "Total time elapsed: 203.4 seconds\n",
      "##############################\n"
     ]
    },
    {
     "name": "stdout",
     "output_type": "stream",
     "text": [
      "Remaining #nodes in views with sz < 9 = 0\n",
      "Done with eta = 9.\n",
      "##############################\n",
      "Time elapsed from last time log: 10.8 seconds\n",
      "Total time elapsed: 214.2 seconds\n",
      "##############################\n",
      "eta = 10.\n",
      "# non-empty views with sz < 10 = 60\n",
      "#nodes in views with sz < 10 = 540\n"
     ]
    },
    {
     "name": "stdout",
     "output_type": "stream",
     "text": [
      "Costs computed when eta = 10.\n",
      "##############################\n",
      "Time elapsed from last time log: 0.4 seconds\n",
      "Total time elapsed: 214.7 seconds\n",
      "##############################\n"
     ]
    },
    {
     "name": "stdout",
     "output_type": "stream",
     "text": [
      "Remaining #nodes in views with sz < 10 = 0\n",
      "Done with eta = 10.\n",
      "##############################\n",
      "Time elapsed from last time log: 9.7 seconds\n",
      "Total time elapsed: 224.4 seconds\n",
      "##############################\n",
      "Pruning and cleaning up.\n"
     ]
    },
    {
     "name": "stdout",
     "output_type": "stream",
     "text": [
      "Done.\n",
      "##############################\n",
      "Time elapsed from last time log: 0.5 seconds\n",
      "Total time elapsed: 224.9 seconds\n",
      "##############################\n",
      "After clustering, max distortion is 12.123315\n"
     ]
    },
    {
     "name": "stdout",
     "output_type": "stream",
     "text": [
      "Ambiguous overlaps checked for 0 intermediate views\n",
      "Ambiguous overlaps checked for 154 intermediate views\n",
      "Ambiguous overlaps checked for 308 intermediate views\n"
     ]
    },
    {
     "name": "stdout",
     "output_type": "stream",
     "text": [
      "Ambiguous overlaps checked for 462 intermediate views\n",
      "Ambiguous overlaps checked for 616 intermediate views\n",
      "Ambiguous overlaps checked for 619 points\n",
      "Seq of intermediate views and their predecessors computed.\n",
      "No. of connected components = 1\n",
      "Computing initial embedding using: sequential algorithm\n",
      "##############################\n",
      "Time elapsed from last time log: 2.4 seconds\n",
      "Total time elapsed: 2.4 seconds\n",
      "##############################\n"
     ]
    },
    {
     "name": "stdout",
     "output_type": "stream",
     "text": [
      "Initial alignment of 154 views completed\n"
     ]
    },
    {
     "name": "stdout",
     "output_type": "stream",
     "text": [
      "Initial alignment of 308 views completed\n"
     ]
    },
    {
     "name": "stdout",
     "output_type": "stream",
     "text": [
      "Initial alignment of 462 views completed\n"
     ]
    },
    {
     "name": "stdout",
     "output_type": "stream",
     "text": [
      "Initial alignment of 616 views completed\n"
     ]
    },
    {
     "name": "stdout",
     "output_type": "stream",
     "text": [
      "Embedding initialized.\n",
      "##############################\n",
      "Time elapsed from last time log: 0.2 seconds\n",
      "Total time elapsed: 2.7 seconds\n",
      "##############################\n"
     ]
    },
    {
     "data": {
      "image/png": "[encoded data removed]",
      "text/plain": [
       "<Figure size 432x288 with 1 Axes>"
      ]
     },
     "metadata": {},
     "output_type": "display_data"
    },
    {
     "data": {
      "text/plain": [
       "<Figure size 432x288 with 0 Axes>"
      ]
     },
     "metadata": {},
     "output_type": "display_data"
    },
    {
     "name": "stdout",
     "output_type": "stream",
     "text": [
      "Refining with retraction algorithm for 100 iterations.\n",
      "Refinement iteration: 0\n",
      "##############################\n",
      "Time elapsed from last time log: 0.0 seconds\n",
      "Total time elapsed: 11.2 seconds\n",
      "##############################\n",
      "Computing Pseudoinverse of a matrix of L of size 11045 multiplied with B\n"
     ]
    },
    {
     "name": "stdout",
     "output_type": "stream",
     "text": [
      "Descent starts\n"
     ]
    },
    {
     "name": "stdout",
     "output_type": "stream",
     "text": [
      "Done.\n",
      "##############################\n",
      "Time elapsed from last time log: 2.2 seconds\n",
      "Total time elapsed: 13.5 seconds\n",
      "##############################\n"
     ]
    },
    {
     "data": {
      "image/png": "[encoded data removed]",
      "text/plain": [
       "<Figure size 432x288 with 1 Axes>"
      ]
     },
     "metadata": {},
     "output_type": "display_data"
    },
    {
     "data": {
      "text/plain": [
       "<Figure size 432x288 with 0 Axes>"
      ]
     },
     "metadata": {},
     "output_type": "display_data"
    },
    {
     "name": "stdout",
     "output_type": "stream",
     "text": [
      "Refining with retraction algorithm for 100 iterations.\n",
      "Refinement iteration: 1\n",
      "##############################\n",
      "Time elapsed from last time log: 0.0 seconds\n",
      "Total time elapsed: 17.9 seconds\n",
      "##############################\n",
      "Computing Pseudoinverse of a matrix of L of size 11045 multiplied with B\n"
     ]
    },
    {
     "name": "stdout",
     "output_type": "stream",
     "text": [
      "Descent starts\n"
     ]
    },
    {
     "name": "stdout",
     "output_type": "stream",
     "text": [
      "Done.\n",
      "##############################\n",
      "Time elapsed from last time log: 2.1 seconds\n",
      "Total time elapsed: 19.9 seconds\n",
      "##############################\n"
     ]
    },
    {
     "data": {
      "image/png": "[encoded data removed]",
      "text/plain": [
       "<Figure size 432x288 with 1 Axes>"
      ]
     },
     "metadata": {},
     "output_type": "display_data"
    },
    {
     "data": {
      "text/plain": [
       "<Figure size 432x288 with 0 Axes>"
      ]
     },
     "metadata": {},
     "output_type": "display_data"
    },
    {
     "name": "stdout",
     "output_type": "stream",
     "text": [
      "Refining with retraction algorithm for 100 iterations.\n",
      "Refinement iteration: 2\n",
      "##############################\n",
      "Time elapsed from last time log: 0.0 seconds\n",
      "Total time elapsed: 24.4 seconds\n",
      "##############################\n",
      "Computing Pseudoinverse of a matrix of L of size 11045 multiplied with B\n"
     ]
    },
    {
     "name": "stdout",
     "output_type": "stream",
     "text": [
      "Descent starts\n"
     ]
    },
    {
     "name": "stdout",
     "output_type": "stream",
     "text": [
      "Done.\n",
      "##############################\n",
      "Time elapsed from last time log: 2.0 seconds\n",
      "Total time elapsed: 26.4 seconds\n",
      "##############################\n"
     ]
    },
    {
     "data": {
      "image/png": "[encoded data removed]",
      "text/plain": [
       "<Figure size 432x288 with 1 Axes>"
      ]
     },
     "metadata": {},
     "output_type": "display_data"
    },
    {
     "data": {
      "text/plain": [
       "<Figure size 432x288 with 0 Axes>"
      ]
     },
     "metadata": {},
     "output_type": "display_data"
    },
    {
     "name": "stdout",
     "output_type": "stream",
     "text": [
      "Refining with retraction algorithm for 100 iterations.\n",
      "Refinement iteration: 3\n",
      "##############################\n",
      "Time elapsed from last time log: 0.0 seconds\n",
      "Total time elapsed: 30.8 seconds\n",
      "##############################\n",
      "Computing Pseudoinverse of a matrix of L of size 11045 multiplied with B\n"
     ]
    },
    {
     "name": "stdout",
     "output_type": "stream",
     "text": [
      "Descent starts\n"
     ]
    },
    {
     "name": "stdout",
     "output_type": "stream",
     "text": [
      "Done.\n",
      "##############################\n",
      "Time elapsed from last time log: 2.0 seconds\n",
      "Total time elapsed: 32.8 seconds\n",
      "##############################\n"
     ]
    },
    {
     "data": {
      "image/png": "[encoded data removed]",
      "text/plain": [
       "<Figure size 432x288 with 1 Axes>"
      ]
     },
     "metadata": {},
     "output_type": "display_data"
    },
    {
     "data": {
      "text/plain": [
       "<Figure size 432x288 with 0 Axes>"
      ]
     },
     "metadata": {},
     "output_type": "display_data"
    },
    {
     "name": "stdout",
     "output_type": "stream",
     "text": [
      "Refining with retraction algorithm for 100 iterations.\n",
      "Refinement iteration: 4\n",
      "##############################\n",
      "Time elapsed from last time log: 0.0 seconds\n",
      "Total time elapsed: 37.4 seconds\n",
      "##############################\n",
      "Computing Pseudoinverse of a matrix of L of size 11045 multiplied with B\n"
     ]
    },
    {
     "name": "stdout",
     "output_type": "stream",
     "text": [
      "Descent starts\n"
     ]
    },
    {
     "name": "stdout",
     "output_type": "stream",
     "text": [
      "Done.\n",
      "##############################\n",
      "Time elapsed from last time log: 2.0 seconds\n",
      "Total time elapsed: 39.5 seconds\n",
      "##############################\n"
     ]
    },
    {
     "data": {
      "image/png": "[encoded data removed]",
      "text/plain": [
       "<Figure size 432x288 with 1 Axes>"
      ]
     },
     "metadata": {},
     "output_type": "display_data"
    },
    {
     "data": {
      "text/plain": [
       "<Figure size 432x288 with 0 Axes>"
      ]
     },
     "metadata": {},
     "output_type": "display_data"
    },
    {
     "name": "stdout",
     "output_type": "stream",
     "text": [
      "Refining with retraction algorithm for 100 iterations.\n",
      "Refinement iteration: 5\n",
      "##############################\n",
      "Time elapsed from last time log: 0.0 seconds\n",
      "Total time elapsed: 43.9 seconds\n",
      "##############################\n",
      "Computing Pseudoinverse of a matrix of L of size 11045 multiplied with B\n"
     ]
    },
    {
     "name": "stdout",
     "output_type": "stream",
     "text": [
      "Descent starts\n"
     ]
    },
    {
     "name": "stdout",
     "output_type": "stream",
     "text": [
      "Done.\n",
      "##############################\n",
      "Time elapsed from last time log: 2.0 seconds\n",
      "Total time elapsed: 45.8 seconds\n",
      "##############################\n"
     ]
    },
    {
     "data": {
      "image/png": "[encoded data removed]",
      "text/plain": [
       "<Figure size 432x288 with 1 Axes>"
      ]
     },
     "metadata": {},
     "output_type": "display_data"
    },
    {
     "data": {
      "text/plain": [
       "<Figure size 432x288 with 0 Axes>"
      ]
     },
     "metadata": {},
     "output_type": "display_data"
    },
    {
     "name": "stdout",
     "output_type": "stream",
     "text": [
      "Refining with retraction algorithm for 100 iterations.\n",
      "Refinement iteration: 6\n",
      "##############################\n",
      "Time elapsed from last time log: 0.0 seconds\n",
      "Total time elapsed: 50.1 seconds\n",
      "##############################\n",
      "Computing Pseudoinverse of a matrix of L of size 11045 multiplied with B\n"
     ]
    },
    {
     "name": "stdout",
     "output_type": "stream",
     "text": [
      "Descent starts\n"
     ]
    },
    {
     "name": "stdout",
     "output_type": "stream",
     "text": [
      "Done.\n",
      "##############################\n",
      "Time elapsed from last time log: 2.0 seconds\n",
      "Total time elapsed: 52.1 seconds\n",
      "##############################\n"
     ]
    },
    {
     "data": {
      "image/png": "[encoded data removed]",
      "text/plain": [
       "<Figure size 432x288 with 1 Axes>"
      ]
     },
     "metadata": {},
     "output_type": "display_data"
    },
    {
     "data": {
      "text/plain": [
       "<Figure size 432x288 with 0 Axes>"
      ]
     },
     "metadata": {},
     "output_type": "display_data"
    },
    {
     "name": "stdout",
     "output_type": "stream",
     "text": [
      "Refining with retraction algorithm for 100 iterations.\n",
      "Refinement iteration: 7\n",
      "##############################\n",
      "Time elapsed from last time log: 0.0 seconds\n",
      "Total time elapsed: 56.5 seconds\n",
      "##############################\n",
      "Computing Pseudoinverse of a matrix of L of size 11045 multiplied with B\n"
     ]
    },
    {
     "name": "stdout",
     "output_type": "stream",
     "text": [
      "Descent starts\n"
     ]
    },
    {
     "name": "stdout",
     "output_type": "stream",
     "text": [
      "Done.\n",
      "##############################\n",
      "Time elapsed from last time log: 1.9 seconds\n",
      "Total time elapsed: 58.3 seconds\n",
      "##############################\n"
     ]
    },
    {
     "data": {
      "image/png": "[encoded data removed]",
      "text/plain": [
       "<Figure size 432x288 with 1 Axes>"
      ]
     },
     "metadata": {},
     "output_type": "display_data"
    },
    {
     "data": {
      "text/plain": [
       "<Figure size 432x288 with 0 Axes>"
      ]
     },
     "metadata": {},
     "output_type": "display_data"
    },
    {
     "name": "stdout",
     "output_type": "stream",
     "text": [
      "Refining with retraction algorithm for 100 iterations.\n",
      "Refinement iteration: 8\n",
      "##############################\n",
      "Time elapsed from last time log: 0.0 seconds\n",
      "Total time elapsed: 62.7 seconds\n",
      "##############################\n",
      "Computing Pseudoinverse of a matrix of L of size 11045 multiplied with B\n"
     ]
    },
    {
     "name": "stdout",
     "output_type": "stream",
     "text": [
      "Descent starts\n"
     ]
    },
    {
     "name": "stdout",
     "output_type": "stream",
     "text": [
      "Done.\n",
      "##############################\n",
      "Time elapsed from last time log: 2.1 seconds\n",
      "Total time elapsed: 64.8 seconds\n",
      "##############################\n"
     ]
    },
    {
     "data": {
      "image/png": "[encoded data removed]",
      "text/plain": [
       "<Figure size 432x288 with 1 Axes>"
      ]
     },
     "metadata": {},
     "output_type": "display_data"
    },
    {
     "data": {
      "text/plain": [
       "<Figure size 432x288 with 0 Axes>"
      ]
     },
     "metadata": {},
     "output_type": "display_data"
    },
    {
     "name": "stdout",
     "output_type": "stream",
     "text": [
      "Refining with retraction algorithm for 100 iterations.\n",
      "Refinement iteration: 9\n",
      "##############################\n",
      "Time elapsed from last time log: 0.0 seconds\n",
      "Total time elapsed: 69.2 seconds\n",
      "##############################\n",
      "Computing Pseudoinverse of a matrix of L of size 11045 multiplied with B\n"
     ]
    },
    {
     "name": "stdout",
     "output_type": "stream",
     "text": [
      "Descent starts\n"
     ]
    },
    {
     "name": "stdout",
     "output_type": "stream",
     "text": [
      "Done.\n",
      "##############################\n",
      "Time elapsed from last time log: 2.1 seconds\n",
      "Total time elapsed: 71.3 seconds\n",
      "##############################\n",
      "Computing error.\n",
      "Computing Pseudoinverse of a matrix of L of size 11045 multiplied with B\n"
     ]
    },
    {
     "name": "stdout",
     "output_type": "stream",
     "text": [
      "Alignment error: 1.650\n",
      "##############################\n",
      "Time elapsed from last time log: 0.9 seconds\n",
      "Total time elapsed: 72.2 seconds\n",
      "##############################\n"
     ]
    },
    {
     "data": {
      "image/png": "[encoded data removed]",
      "text/plain": [
       "<Figure size 432x288 with 1 Axes>"
      ]
     },
     "metadata": {},
     "output_type": "display_data"
    },
    {
     "data": {
      "text/plain": [
       "<Figure size 432x288 with 0 Axes>"
      ]
     },
     "metadata": {},
     "output_type": "display_data"
    },
    {
     "data": {
      "text/plain": [
       "array([[-0.93791065, -1.6391724 ],\n",
       "       [-0.93929393, -1.63709249],\n",
       "       [-0.9416977 , -1.63334646],\n",
       "       ...,\n",
       "       [ 1.07477522,  1.52772116],\n",
       "       [ 1.07096394,  1.5318663 ],\n",
       "       [ 1.06879979,  1.53416119]])"
      ]
     },
     "execution_count": 7,
     "metadata": {},
     "output_type": "execute_result"
    }
   ],
   "source": [
    "ldle.fit(X=X)"
   ]
  },
  {
   "cell_type": "code",
   "execution_count": 8,
   "id": "c7381785",
   "metadata": {
    "execution": {
     "iopub.execute_input": "2022-07-27T00:00:50.973887Z",
     "iopub.status.busy": "2022-07-27T00:00:50.973760Z",
     "iopub.status.idle": "2022-07-27T00:00:51.081517Z",
     "shell.execute_reply": "2022-07-27T00:00:51.081049Z"
    }
   },
   "outputs": [
    {
     "data": {
      "image/png": "[encoded data removed]",
      "text/plain": [
       "<Figure size 432x288 with 1 Axes>"
      ]
     },
     "metadata": {},
     "output_type": "display_data"
    },
    {
     "data": {
      "text/plain": [
       "<Figure size 432x288 with 0 Axes>"
      ]
     },
     "metadata": {},
     "output_type": "display_data"
    }
   ],
   "source": [
    "ldle.GlobalViews.vis_embedding(ldle.GlobalViews.y_final, ldle.vis, ldle.vis_opts,\n",
    "                               ldle.GlobalViews.color_of_pts_on_tear_final,\n",
    "                               title='Final global embedding', )"
   ]
  },
  {
   "cell_type": "code",
   "execution_count": 9,
   "id": "4d630749",
   "metadata": {
    "execution": {
     "iopub.execute_input": "2022-07-27T00:00:51.086454Z",
     "iopub.status.busy": "2022-07-27T00:00:51.086014Z",
     "iopub.status.idle": "2022-07-27T00:00:52.488953Z",
     "shell.execute_reply": "2022-07-27T00:00:52.488002Z"
    }
   },
   "outputs": [
    {
     "name": "stdout",
     "output_type": "stream",
     "text": [
      "Saved ../data/pyLDLE2/rectangle//ldle.dat\n"
     ]
    }
   ],
   "source": [
    "# save for further visualization\n",
    "import pickle\n",
    "save_path = save_dir_root+'/ldle.dat'\n",
    "with open(save_path, \"wb\") as f:\n",
    "    pickle.dump([X, labelsMat, ldle], f)\n",
    "print('Saved', save_path)"
   ]
  },
  {
   "cell_type": "code",
   "execution_count": null,
   "id": "41ee3a2b",
   "metadata": {},
   "outputs": [],
   "source": []
  }
 ],
 "metadata": {
  "kernelspec": {
   "display_name": "Python 3 (ipykernel)",
   "language": "python",
   "name": "python3"
  },
  "language_info": {
   "codemirror_mode": {
    "name": "ipython",
    "version": 3
   },
   "file_extension": ".py",
   "mimetype": "text/x-python",
   "name": "python",
   "nbconvert_exporter": "python",
   "pygments_lexer": "ipython3",
   "version": "3.9.12"
  }
 },
 "nbformat": 4,
 "nbformat_minor": 5
}
