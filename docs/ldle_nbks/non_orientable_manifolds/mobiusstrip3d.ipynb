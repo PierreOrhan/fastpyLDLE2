{
 "cells": [
  {
   "cell_type": "markdown",
   "id": "ea14231b",
   "metadata": {},
   "source": [
    "### Mobius strip"
   ]
  },
  {
   "cell_type": "code",
   "execution_count": 1,
   "id": "4eed02d3",
   "metadata": {
    "execution": {
     "iopub.execute_input": "2022-07-28T21:18:18.833468Z",
     "iopub.status.busy": "2022-07-28T21:18:18.832967Z",
     "iopub.status.idle": "2022-07-28T21:18:19.361116Z",
     "shell.execute_reply": "2022-07-28T21:18:19.360646Z"
    }
   },
   "outputs": [],
   "source": [
    "%matplotlib inline"
   ]
  },
  {
   "cell_type": "code",
   "execution_count": 2,
   "id": "a8d77738",
   "metadata": {
    "execution": {
     "iopub.execute_input": "2022-07-28T21:18:19.365660Z",
     "iopub.status.busy": "2022-07-28T21:18:19.365420Z",
     "iopub.status.idle": "2022-07-28T21:18:19.368252Z",
     "shell.execute_reply": "2022-07-28T21:18:19.367811Z"
    }
   },
   "outputs": [],
   "source": [
    "# Not really required\n",
    "import sys\n",
    "sys.path.insert(0, '../../..')"
   ]
  },
  {
   "cell_type": "code",
   "execution_count": 3,
   "id": "ad5119aa",
   "metadata": {
    "execution": {
     "iopub.execute_input": "2022-07-28T21:18:19.372557Z",
     "iopub.status.busy": "2022-07-28T21:18:19.372351Z",
     "iopub.status.idle": "2022-07-28T21:18:19.800238Z",
     "shell.execute_reply": "2022-07-28T21:18:19.799785Z"
    }
   },
   "outputs": [
    {
     "name": "stdout",
     "output_type": "stream",
     "text": [
      "matplotlib.get_backend() =  module://matplotlib_inline.backend_inline\n"
     ]
    }
   ],
   "source": [
    "from pyLDLE2 import datasets\n",
    "from pyLDLE2 import ldle_"
   ]
  },
  {
   "cell_type": "code",
   "execution_count": 4,
   "id": "777aa611",
   "metadata": {
    "execution": {
     "iopub.execute_input": "2022-07-28T21:18:19.805106Z",
     "iopub.status.busy": "2022-07-28T21:18:19.804881Z",
     "iopub.status.idle": "2022-07-28T21:18:19.807396Z",
     "shell.execute_reply": "2022-07-28T21:18:19.807015Z"
    }
   },
   "outputs": [],
   "source": [
    "save_dir_root = '../data/pyLDLE2/mobiusstrip3d/'"
   ]
  },
  {
   "cell_type": "code",
   "execution_count": 5,
   "id": "55e389bc",
   "metadata": {
    "execution": {
     "iopub.execute_input": "2022-07-28T21:18:19.811601Z",
     "iopub.status.busy": "2022-07-28T21:18:19.811438Z",
     "iopub.status.idle": "2022-07-28T21:18:19.816088Z",
     "shell.execute_reply": "2022-07-28T21:18:19.815621Z"
    }
   },
   "outputs": [
    {
     "name": "stdout",
     "output_type": "stream",
     "text": [
      "X.shape =  (10580, 3)\n"
     ]
    }
   ],
   "source": [
    "X, labelsMat, ddX = datasets.Datasets().mobiusstrip3d()"
   ]
  },
  {
   "cell_type": "code",
   "execution_count": 6,
   "id": "a0e44b81",
   "metadata": {
    "execution": {
     "iopub.execute_input": "2022-07-28T21:18:19.819829Z",
     "iopub.status.busy": "2022-07-28T21:18:19.819583Z",
     "iopub.status.idle": "2022-07-28T21:18:19.824144Z",
     "shell.execute_reply": "2022-07-28T21:18:19.823463Z"
    }
   },
   "outputs": [
    {
     "name": "stdout",
     "output_type": "stream",
     "text": [
      "local_opts['k_nn0'] = 875 is created.\n"
     ]
    }
   ],
   "source": [
    "# The supplied options would override the default options\n",
    "ldle = ldle_.LDLE(local_opts={'algo':'LDLE'},\n",
    "                  vis_opts={'c': labelsMat[:,0], 'save_dir': save_dir_root},\n",
    "                  intermed_opts={'eta_min': 10},\n",
    "                  global_opts={\n",
    "                      'max_iter': 10,\n",
    "                      'init_algo_align_w_parent_only': True # Set this True for low noise\n",
    "                  },\n",
    "                  verbose=True, debug=True)"
   ]
  },
  {
   "cell_type": "code",
   "execution_count": 7,
   "id": "7eadfc89",
   "metadata": {
    "execution": {
     "iopub.execute_input": "2022-07-28T21:18:19.828827Z",
     "iopub.status.busy": "2022-07-28T21:18:19.828529Z",
     "iopub.status.idle": "2022-07-28T21:24:53.168980Z",
     "shell.execute_reply": "2022-07-28T21:24:53.168533Z"
    },
    "scrolled": false
   },
   "outputs": [
    {
     "name": "stdout",
     "output_type": "stream",
     "text": [
      "Constructing unnorm graph Laplacian + its eigendecomposition.\n"
     ]
    },
    {
     "name": "stdout",
     "output_type": "stream",
     "text": [
      "Done.\n",
      "##############################\n",
      "Time elapsed from last time log: 3.1 seconds\n",
      "Total time elapsed: 3.1 seconds\n",
      "##############################\n",
      "Computing Atilde: Inner Prod of Grad of EigFuncs.\n",
      "FEM for Atilde.\n",
      "Atilde: 0 points processed...\n"
     ]
    },
    {
     "name": "stdout",
     "output_type": "stream",
     "text": [
      "Atilde: 2645 points processed...\n",
      "Atilde: 5290 points processed...\n"
     ]
    },
    {
     "name": "stdout",
     "output_type": "stream",
     "text": [
      "Atilde: 7935 points processed...\n"
     ]
    },
    {
     "name": "stdout",
     "output_type": "stream",
     "text": [
      "Atilde: all points processed...\n",
      "Done.\n",
      "##############################\n",
      "Time elapsed from last time log: 0.8 seconds\n",
      "Total time elapsed: 3.9 seconds\n",
      "##############################\n",
      "Computing LDLE.\n"
     ]
    },
    {
     "name": "stdout",
     "output_type": "stream",
     "text": [
      "local_param: all 10580 points processed...\n",
      "max distortion is 2182.919490\n",
      "Done.\n",
      "##############################\n",
      "Time elapsed from last time log: 1.3 seconds\n",
      "Total time elapsed: 5.2 seconds\n",
      "##############################\n",
      "Posprocessing local parameterizations.\n"
     ]
    },
    {
     "name": "stdout",
     "output_type": "stream",
     "text": [
      "#Param replaced: 10326, max distortion: 51.009552"
     ]
    },
    {
     "name": "stdout",
     "output_type": "stream",
     "text": [
      "\n"
     ]
    },
    {
     "name": "stdout",
     "output_type": "stream",
     "text": [
      "#Param replaced: 6091, max distortion: 31.486783"
     ]
    },
    {
     "name": "stdout",
     "output_type": "stream",
     "text": [
      "\n"
     ]
    },
    {
     "name": "stdout",
     "output_type": "stream",
     "text": [
      "#Param replaced: 3709, max distortion: 22.096328"
     ]
    },
    {
     "name": "stdout",
     "output_type": "stream",
     "text": [
      "\n"
     ]
    },
    {
     "name": "stdout",
     "output_type": "stream",
     "text": [
      "#Param replaced: 1470, max distortion: 19.139444"
     ]
    },
    {
     "name": "stdout",
     "output_type": "stream",
     "text": [
      "\n"
     ]
    },
    {
     "name": "stdout",
     "output_type": "stream",
     "text": [
      "#Param replaced: 231, max distortion: 19.139444"
     ]
    },
    {
     "name": "stdout",
     "output_type": "stream",
     "text": [
      "\n"
     ]
    },
    {
     "name": "stdout",
     "output_type": "stream",
     "text": [
      "#Param replaced: 6, max distortion: 19.139444"
     ]
    },
    {
     "name": "stdout",
     "output_type": "stream",
     "text": [
      "\n"
     ]
    },
    {
     "name": "stdout",
     "output_type": "stream",
     "text": [
      "#Param replaced: 0, max distortion: 19.139444"
     ]
    },
    {
     "name": "stdout",
     "output_type": "stream",
     "text": [
      "\n"
     ]
    },
    {
     "name": "stdout",
     "output_type": "stream",
     "text": [
      "Max local distortion after postprocessing: 1.913944381449954e+01\n",
      "Done.\n",
      "##############################\n",
      "Time elapsed from last time log: 12.5 seconds\n",
      "Total time elapsed: 17.7 seconds\n",
      "##############################\n"
     ]
    },
    {
     "name": "stdout",
     "output_type": "stream",
     "text": [
      "Max local distortion = 19.13944381449954\n",
      "Constructing intermediate views.\n",
      "eta = 2.\n",
      "# non-empty views with sz < 2 = 10580\n",
      "#nodes in views with sz < 2 = 10580\n"
     ]
    },
    {
     "name": "stdout",
     "output_type": "stream",
     "text": [
      "Costs computed when eta = 2.\n",
      "##############################\n",
      "Time elapsed from last time log: 20.1 seconds\n",
      "Total time elapsed: 20.2 seconds\n",
      "##############################\n"
     ]
    },
    {
     "name": "stdout",
     "output_type": "stream",
     "text": [
      "Remaining #nodes in views with sz < 2 = 0\n",
      "Done with eta = 2.\n",
      "##############################\n",
      "Time elapsed from last time log: 176.7 seconds\n",
      "Total time elapsed: 197.0 seconds\n",
      "##############################\n",
      "eta = 3.\n",
      "# non-empty views with sz < 3 = 430\n",
      "#nodes in views with sz < 3 = 860\n"
     ]
    },
    {
     "name": "stdout",
     "output_type": "stream",
     "text": [
      "Costs computed when eta = 3.\n",
      "##############################\n",
      "Time elapsed from last time log: 1.2 seconds\n",
      "Total time elapsed: 198.2 seconds\n",
      "##############################\n"
     ]
    },
    {
     "name": "stdout",
     "output_type": "stream",
     "text": [
      "Remaining #nodes in views with sz < 3 = 0\n",
      "Done with eta = 3.\n",
      "##############################\n",
      "Time elapsed from last time log: 9.1 seconds\n",
      "Total time elapsed: 207.3 seconds\n",
      "##############################\n",
      "eta = 4.\n",
      "# non-empty views with sz < 4 = 338\n",
      "#nodes in views with sz < 4 = 1014\n"
     ]
    },
    {
     "name": "stdout",
     "output_type": "stream",
     "text": [
      "Costs computed when eta = 4.\n",
      "##############################\n",
      "Time elapsed from last time log: 1.3 seconds\n",
      "Total time elapsed: 208.5 seconds\n",
      "##############################\n"
     ]
    },
    {
     "name": "stdout",
     "output_type": "stream",
     "text": [
      "Remaining #nodes in views with sz < 4 = 0\n",
      "Done with eta = 4.\n",
      "##############################\n",
      "Time elapsed from last time log: 18.0 seconds\n",
      "Total time elapsed: 226.5 seconds\n",
      "##############################\n",
      "eta = 5.\n",
      "# non-empty views with sz < 5 = 229\n",
      "#nodes in views with sz < 5 = 916\n"
     ]
    },
    {
     "name": "stdout",
     "output_type": "stream",
     "text": [
      "Costs computed when eta = 5.\n",
      "##############################\n",
      "Time elapsed from last time log: 1.2 seconds\n",
      "Total time elapsed: 227.7 seconds\n",
      "##############################\n"
     ]
    },
    {
     "name": "stdout",
     "output_type": "stream",
     "text": [
      "Remaining #nodes in views with sz < 5 = 0\n",
      "Done with eta = 5.\n",
      "##############################\n",
      "Time elapsed from last time log: 17.2 seconds\n",
      "Total time elapsed: 244.9 seconds\n",
      "##############################\n",
      "eta = 6.\n",
      "# non-empty views with sz < 6 = 167\n",
      "#nodes in views with sz < 6 = 835\n"
     ]
    },
    {
     "name": "stdout",
     "output_type": "stream",
     "text": [
      "Costs computed when eta = 6.\n",
      "##############################\n",
      "Time elapsed from last time log: 1.0 seconds\n",
      "Total time elapsed: 245.9 seconds\n",
      "##############################\n"
     ]
    },
    {
     "name": "stdout",
     "output_type": "stream",
     "text": [
      "Remaining #nodes in views with sz < 6 = 0\n",
      "Done with eta = 6.\n",
      "##############################\n",
      "Time elapsed from last time log: 20.7 seconds\n",
      "Total time elapsed: 266.6 seconds\n",
      "##############################\n",
      "eta = 7.\n",
      "# non-empty views with sz < 7 = 129\n",
      "#nodes in views with sz < 7 = 774\n"
     ]
    },
    {
     "name": "stdout",
     "output_type": "stream",
     "text": [
      "Costs computed when eta = 7.\n",
      "##############################\n",
      "Time elapsed from last time log: 0.8 seconds\n",
      "Total time elapsed: 267.4 seconds\n",
      "##############################\n"
     ]
    },
    {
     "name": "stdout",
     "output_type": "stream",
     "text": [
      "Remaining #nodes in views with sz < 7 = 0\n",
      "Done with eta = 7.\n",
      "##############################\n",
      "Time elapsed from last time log: 18.3 seconds\n",
      "Total time elapsed: 285.7 seconds\n",
      "##############################\n",
      "eta = 8.\n",
      "# non-empty views with sz < 8 = 112\n",
      "#nodes in views with sz < 8 = 784\n"
     ]
    },
    {
     "name": "stdout",
     "output_type": "stream",
     "text": [
      "Costs computed when eta = 8.\n",
      "##############################\n",
      "Time elapsed from last time log: 1.0 seconds\n",
      "Total time elapsed: 286.7 seconds\n",
      "##############################\n"
     ]
    },
    {
     "name": "stdout",
     "output_type": "stream",
     "text": [
      "Remaining #nodes in views with sz < 8 = 0\n",
      "Done with eta = 8.\n",
      "##############################\n",
      "Time elapsed from last time log: 20.2 seconds\n",
      "Total time elapsed: 306.9 seconds\n",
      "##############################\n",
      "eta = 9.\n",
      "# non-empty views with sz < 9 = 72\n",
      "#nodes in views with sz < 9 = 576\n"
     ]
    },
    {
     "name": "stdout",
     "output_type": "stream",
     "text": [
      "Costs computed when eta = 9.\n",
      "##############################\n",
      "Time elapsed from last time log: 0.7 seconds\n",
      "Total time elapsed: 307.5 seconds\n",
      "##############################\n"
     ]
    },
    {
     "name": "stdout",
     "output_type": "stream",
     "text": [
      "Remaining #nodes in views with sz < 9 = 0\n",
      "Done with eta = 9.\n",
      "##############################\n",
      "Time elapsed from last time log: 14.1 seconds\n",
      "Total time elapsed: 321.6 seconds\n",
      "##############################\n",
      "eta = 10.\n",
      "# non-empty views with sz < 10 = 51\n",
      "#nodes in views with sz < 10 = 459\n"
     ]
    },
    {
     "name": "stdout",
     "output_type": "stream",
     "text": [
      "Costs computed when eta = 10.\n",
      "##############################\n",
      "Time elapsed from last time log: 0.8 seconds\n",
      "Total time elapsed: 322.4 seconds\n",
      "##############################\n"
     ]
    },
    {
     "name": "stdout",
     "output_type": "stream",
     "text": [
      "Remaining #nodes in views with sz < 10 = 0\n",
      "Done with eta = 10.\n",
      "##############################\n",
      "Time elapsed from last time log: 12.5 seconds\n",
      "Total time elapsed: 334.9 seconds\n",
      "##############################\n",
      "Pruning and cleaning up.\n"
     ]
    },
    {
     "name": "stdout",
     "output_type": "stream",
     "text": [
      "Done.\n",
      "##############################\n",
      "Time elapsed from last time log: 0.5 seconds\n",
      "Total time elapsed: 335.4 seconds\n",
      "##############################\n",
      "After clustering, max distortion is 66.582606\n",
      "Ambiguous overlaps checked for 0 intermediate views\n"
     ]
    },
    {
     "name": "stdout",
     "output_type": "stream",
     "text": [
      "Ambiguous overlaps checked for 152 intermediate views\n"
     ]
    },
    {
     "name": "stdout",
     "output_type": "stream",
     "text": [
      "Ambiguous overlaps checked for 304 intermediate views\n"
     ]
    },
    {
     "name": "stdout",
     "output_type": "stream",
     "text": [
      "Ambiguous overlaps checked for 456 intermediate views\n"
     ]
    },
    {
     "name": "stdout",
     "output_type": "stream",
     "text": [
      "Ambiguous overlaps checked for 608 intermediate views\n",
      "Ambiguous overlaps checked for 611 points\n",
      "Seq of intermediate views and their predecessors computed.\n",
      "No. of connected components = 1\n",
      "Computing initial embedding using: sequential algorithm\n",
      "##############################\n",
      "Time elapsed from last time log: 2.6 seconds\n",
      "Total time elapsed: 2.6 seconds\n",
      "##############################\n",
      "Initial alignment of 152 views completed\n"
     ]
    },
    {
     "name": "stdout",
     "output_type": "stream",
     "text": [
      "Initial alignment of 304 views completed\n"
     ]
    },
    {
     "name": "stdout",
     "output_type": "stream",
     "text": [
      "Initial alignment of 456 views completed\n"
     ]
    },
    {
     "name": "stdout",
     "output_type": "stream",
     "text": [
      "Initial alignment of 608 views completed\n"
     ]
    },
    {
     "name": "stdout",
     "output_type": "stream",
     "text": [
      "Embedding initialized.\n",
      "##############################\n",
      "Time elapsed from last time log: 0.5 seconds\n",
      "Total time elapsed: 3.1 seconds\n",
      "##############################\n"
     ]
    },
    {
     "data": {
      "image/png": "[encoded data removed]",
      "text/plain": [
       "<Figure size 432x288 with 1 Axes>"
      ]
     },
     "metadata": {},
     "output_type": "display_data"
    },
    {
     "data": {
      "text/plain": [
       "<Figure size 432x288 with 0 Axes>"
      ]
     },
     "metadata": {},
     "output_type": "display_data"
    },
    {
     "name": "stdout",
     "output_type": "stream",
     "text": [
      "Refining with retraction algorithm for 100 iterations.\n",
      "Refinement iteration: 0\n",
      "##############################\n",
      "Time elapsed from last time log: 0.0 seconds\n",
      "Total time elapsed: 4.3 seconds\n",
      "##############################\n"
     ]
    },
    {
     "name": "stdout",
     "output_type": "stream",
     "text": [
      "Computing Pseudoinverse of a matrix of L of size 11191 multiplied with B\n"
     ]
    },
    {
     "name": "stdout",
     "output_type": "stream",
     "text": [
      "Descent starts\n"
     ]
    },
    {
     "name": "stdout",
     "output_type": "stream",
     "text": [
      "Done.\n",
      "##############################\n",
      "Time elapsed from last time log: 2.1 seconds\n",
      "Total time elapsed: 6.4 seconds\n",
      "##############################\n"
     ]
    },
    {
     "data": {
      "image/png": "[encoded data removed]",
      "text/plain": [
       "<Figure size 432x288 with 1 Axes>"
      ]
     },
     "metadata": {},
     "output_type": "display_data"
    },
    {
     "data": {
      "text/plain": [
       "<Figure size 432x288 with 0 Axes>"
      ]
     },
     "metadata": {},
     "output_type": "display_data"
    },
    {
     "name": "stdout",
     "output_type": "stream",
     "text": [
      "Refining with retraction algorithm for 100 iterations.\n",
      "Refinement iteration: 1\n",
      "##############################\n",
      "Time elapsed from last time log: 0.0 seconds\n",
      "Total time elapsed: 7.1 seconds\n",
      "##############################\n"
     ]
    },
    {
     "name": "stdout",
     "output_type": "stream",
     "text": [
      "Computing Pseudoinverse of a matrix of L of size 11191 multiplied with B\n"
     ]
    },
    {
     "name": "stdout",
     "output_type": "stream",
     "text": [
      "Descent starts\n"
     ]
    },
    {
     "name": "stdout",
     "output_type": "stream",
     "text": [
      "Done.\n",
      "##############################\n",
      "Time elapsed from last time log: 2.1 seconds\n",
      "Total time elapsed: 9.2 seconds\n",
      "##############################\n"
     ]
    },
    {
     "data": {
      "image/png": "[encoded data removed]",
      "text/plain": [
       "<Figure size 432x288 with 1 Axes>"
      ]
     },
     "metadata": {},
     "output_type": "display_data"
    },
    {
     "data": {
      "text/plain": [
       "<Figure size 432x288 with 0 Axes>"
      ]
     },
     "metadata": {},
     "output_type": "display_data"
    },
    {
     "name": "stdout",
     "output_type": "stream",
     "text": [
      "Refining with retraction algorithm for 100 iterations.\n",
      "Refinement iteration: 2\n",
      "##############################\n",
      "Time elapsed from last time log: 0.0 seconds\n",
      "Total time elapsed: 9.9 seconds\n",
      "##############################\n"
     ]
    },
    {
     "name": "stdout",
     "output_type": "stream",
     "text": [
      "Computing Pseudoinverse of a matrix of L of size 11191 multiplied with B\n"
     ]
    },
    {
     "name": "stdout",
     "output_type": "stream",
     "text": [
      "Descent starts\n"
     ]
    },
    {
     "name": "stdout",
     "output_type": "stream",
     "text": [
      "Done.\n",
      "##############################\n",
      "Time elapsed from last time log: 2.2 seconds\n",
      "Total time elapsed: 12.1 seconds\n",
      "##############################\n"
     ]
    },
    {
     "data": {
      "image/png": "[encoded data removed]",
      "text/plain": [
       "<Figure size 432x288 with 1 Axes>"
      ]
     },
     "metadata": {},
     "output_type": "display_data"
    },
    {
     "data": {
      "text/plain": [
       "<Figure size 432x288 with 0 Axes>"
      ]
     },
     "metadata": {},
     "output_type": "display_data"
    },
    {
     "name": "stdout",
     "output_type": "stream",
     "text": [
      "Refining with retraction algorithm for 100 iterations.\n",
      "Refinement iteration: 3\n",
      "##############################\n",
      "Time elapsed from last time log: 0.0 seconds\n",
      "Total time elapsed: 12.6 seconds\n",
      "##############################\n"
     ]
    },
    {
     "name": "stdout",
     "output_type": "stream",
     "text": [
      "Computing Pseudoinverse of a matrix of L of size 11191 multiplied with B\n"
     ]
    },
    {
     "name": "stdout",
     "output_type": "stream",
     "text": [
      "Descent starts\n"
     ]
    },
    {
     "name": "stdout",
     "output_type": "stream",
     "text": [
      "Done.\n",
      "##############################\n",
      "Time elapsed from last time log: 2.1 seconds\n",
      "Total time elapsed: 14.8 seconds\n",
      "##############################\n"
     ]
    },
    {
     "data": {
      "image/png": "[encoded data removed]",
      "text/plain": [
       "<Figure size 432x288 with 1 Axes>"
      ]
     },
     "metadata": {},
     "output_type": "display_data"
    },
    {
     "data": {
      "text/plain": [
       "<Figure size 432x288 with 0 Axes>"
      ]
     },
     "metadata": {},
     "output_type": "display_data"
    },
    {
     "name": "stdout",
     "output_type": "stream",
     "text": [
      "Refining with retraction algorithm for 100 iterations.\n",
      "Refinement iteration: 4\n",
      "##############################\n",
      "Time elapsed from last time log: 0.0 seconds\n",
      "Total time elapsed: 15.4 seconds\n",
      "##############################\n"
     ]
    },
    {
     "name": "stdout",
     "output_type": "stream",
     "text": [
      "Computing Pseudoinverse of a matrix of L of size 11191 multiplied with B\n"
     ]
    },
    {
     "name": "stdout",
     "output_type": "stream",
     "text": [
      "Descent starts\n"
     ]
    },
    {
     "name": "stdout",
     "output_type": "stream",
     "text": [
      "Done.\n",
      "##############################\n",
      "Time elapsed from last time log: 2.1 seconds\n",
      "Total time elapsed: 17.5 seconds\n",
      "##############################\n"
     ]
    },
    {
     "data": {
      "image/png": "[encoded data removed]",
      "text/plain": [
       "<Figure size 432x288 with 1 Axes>"
      ]
     },
     "metadata": {},
     "output_type": "display_data"
    },
    {
     "data": {
      "text/plain": [
       "<Figure size 432x288 with 0 Axes>"
      ]
     },
     "metadata": {},
     "output_type": "display_data"
    },
    {
     "name": "stdout",
     "output_type": "stream",
     "text": [
      "Refining with retraction algorithm for 100 iterations.\n",
      "Refinement iteration: 5\n",
      "##############################\n",
      "Time elapsed from last time log: 0.0 seconds\n",
      "Total time elapsed: 18.2 seconds\n",
      "##############################\n"
     ]
    },
    {
     "name": "stdout",
     "output_type": "stream",
     "text": [
      "Computing Pseudoinverse of a matrix of L of size 11191 multiplied with B\n"
     ]
    },
    {
     "name": "stdout",
     "output_type": "stream",
     "text": [
      "Descent starts\n"
     ]
    },
    {
     "name": "stdout",
     "output_type": "stream",
     "text": [
      "Done.\n",
      "##############################\n",
      "Time elapsed from last time log: 2.1 seconds\n",
      "Total time elapsed: 20.3 seconds\n",
      "##############################\n"
     ]
    },
    {
     "data": {
      "image/png": "[encoded data removed]",
      "text/plain": [
       "<Figure size 432x288 with 1 Axes>"
      ]
     },
     "metadata": {},
     "output_type": "display_data"
    },
    {
     "data": {
      "text/plain": [
       "<Figure size 432x288 with 0 Axes>"
      ]
     },
     "metadata": {},
     "output_type": "display_data"
    },
    {
     "name": "stdout",
     "output_type": "stream",
     "text": [
      "Refining with retraction algorithm for 100 iterations.\n",
      "Refinement iteration: 6\n",
      "##############################\n",
      "Time elapsed from last time log: 0.0 seconds\n",
      "Total time elapsed: 21.0 seconds\n",
      "##############################\n"
     ]
    },
    {
     "name": "stdout",
     "output_type": "stream",
     "text": [
      "Computing Pseudoinverse of a matrix of L of size 11191 multiplied with B\n"
     ]
    },
    {
     "name": "stdout",
     "output_type": "stream",
     "text": [
      "Descent starts\n"
     ]
    },
    {
     "name": "stdout",
     "output_type": "stream",
     "text": [
      "Done.\n",
      "##############################\n",
      "Time elapsed from last time log: 2.2 seconds\n",
      "Total time elapsed: 23.2 seconds\n",
      "##############################\n"
     ]
    },
    {
     "data": {
      "image/png": "[encoded data removed]",
      "text/plain": [
       "<Figure size 432x288 with 1 Axes>"
      ]
     },
     "metadata": {},
     "output_type": "display_data"
    },
    {
     "data": {
      "text/plain": [
       "<Figure size 432x288 with 0 Axes>"
      ]
     },
     "metadata": {},
     "output_type": "display_data"
    },
    {
     "name": "stdout",
     "output_type": "stream",
     "text": [
      "Refining with retraction algorithm for 100 iterations.\n",
      "Refinement iteration: 7\n",
      "##############################\n",
      "Time elapsed from last time log: 0.0 seconds\n",
      "Total time elapsed: 23.9 seconds\n",
      "##############################\n"
     ]
    },
    {
     "name": "stdout",
     "output_type": "stream",
     "text": [
      "Computing Pseudoinverse of a matrix of L of size 11191 multiplied with B\n"
     ]
    },
    {
     "name": "stdout",
     "output_type": "stream",
     "text": [
      "Descent starts\n"
     ]
    },
    {
     "name": "stdout",
     "output_type": "stream",
     "text": [
      "Done.\n",
      "##############################\n",
      "Time elapsed from last time log: 2.1 seconds\n",
      "Total time elapsed: 26.0 seconds\n",
      "##############################\n"
     ]
    },
    {
     "data": {
      "image/png": "[encoded data removed]",
      "text/plain": [
       "<Figure size 432x288 with 1 Axes>"
      ]
     },
     "metadata": {},
     "output_type": "display_data"
    },
    {
     "data": {
      "text/plain": [
       "<Figure size 432x288 with 0 Axes>"
      ]
     },
     "metadata": {},
     "output_type": "display_data"
    },
    {
     "name": "stdout",
     "output_type": "stream",
     "text": [
      "Refining with retraction algorithm for 100 iterations.\n",
      "Refinement iteration: 8\n",
      "##############################\n",
      "Time elapsed from last time log: 0.0 seconds\n",
      "Total time elapsed: 26.6 seconds\n",
      "##############################\n"
     ]
    },
    {
     "name": "stdout",
     "output_type": "stream",
     "text": [
      "Computing Pseudoinverse of a matrix of L of size 11191 multiplied with B\n"
     ]
    },
    {
     "name": "stdout",
     "output_type": "stream",
     "text": [
      "Descent starts\n"
     ]
    },
    {
     "name": "stdout",
     "output_type": "stream",
     "text": [
      "Done.\n",
      "##############################\n",
      "Time elapsed from last time log: 2.1 seconds\n",
      "Total time elapsed: 28.7 seconds\n",
      "##############################\n"
     ]
    },
    {
     "data": {
      "image/png": "[encoded data removed]",
      "text/plain": [
       "<Figure size 432x288 with 1 Axes>"
      ]
     },
     "metadata": {},
     "output_type": "display_data"
    },
    {
     "data": {
      "text/plain": [
       "<Figure size 432x288 with 0 Axes>"
      ]
     },
     "metadata": {},
     "output_type": "display_data"
    },
    {
     "name": "stdout",
     "output_type": "stream",
     "text": [
      "Refining with retraction algorithm for 100 iterations.\n",
      "Refinement iteration: 9\n",
      "##############################\n",
      "Time elapsed from last time log: 0.0 seconds\n",
      "Total time elapsed: 29.3 seconds\n",
      "##############################\n"
     ]
    },
    {
     "name": "stdout",
     "output_type": "stream",
     "text": [
      "Computing Pseudoinverse of a matrix of L of size 11191 multiplied with B\n"
     ]
    },
    {
     "name": "stdout",
     "output_type": "stream",
     "text": [
      "Descent starts\n"
     ]
    },
    {
     "name": "stdout",
     "output_type": "stream",
     "text": [
      "Done.\n",
      "##############################\n",
      "Time elapsed from last time log: 2.2 seconds\n",
      "Total time elapsed: 31.5 seconds\n",
      "##############################\n",
      "Computing error.\n",
      "Computing Pseudoinverse of a matrix of L of size 11191 multiplied with B\n"
     ]
    },
    {
     "name": "stdout",
     "output_type": "stream",
     "text": [
      "Alignment error: 113.210\n",
      "##############################\n",
      "Time elapsed from last time log: 1.0 seconds\n",
      "Total time elapsed: 32.5 seconds\n",
      "##############################\n"
     ]
    },
    {
     "data": {
      "image/png": "[encoded data removed]",
      "text/plain": [
       "<Figure size 432x288 with 1 Axes>"
      ]
     },
     "metadata": {},
     "output_type": "display_data"
    },
    {
     "data": {
      "text/plain": [
       "<Figure size 432x288 with 0 Axes>"
      ]
     },
     "metadata": {},
     "output_type": "display_data"
    },
    {
     "data": {
      "text/plain": [
       "array([[1.25631897, 0.11135179],\n",
       "       [1.25729059, 0.11126308],\n",
       "       [1.24780598, 0.10952089],\n",
       "       ...,\n",
       "       [1.25729274, 0.09150916],\n",
       "       [1.27287318, 0.09794353],\n",
       "       [1.2688254 , 0.09931061]])"
      ]
     },
     "execution_count": 7,
     "metadata": {},
     "output_type": "execute_result"
    }
   ],
   "source": [
    "ldle.fit(X=X)"
   ]
  },
  {
   "cell_type": "code",
   "execution_count": 8,
   "id": "c7381785",
   "metadata": {
    "execution": {
     "iopub.execute_input": "2022-07-28T21:24:53.173739Z",
     "iopub.status.busy": "2022-07-28T21:24:53.173465Z",
     "iopub.status.idle": "2022-07-28T21:24:53.299224Z",
     "shell.execute_reply": "2022-07-28T21:24:53.298808Z"
    }
   },
   "outputs": [
    {
     "data": {
      "image/png": "[encoded data removed]",
      "text/plain": [
       "<Figure size 432x288 with 1 Axes>"
      ]
     },
     "metadata": {},
     "output_type": "display_data"
    },
    {
     "data": {
      "text/plain": [
       "<Figure size 432x288 with 0 Axes>"
      ]
     },
     "metadata": {},
     "output_type": "display_data"
    }
   ],
   "source": [
    "ldle.GlobalViews.vis_embedding(ldle.GlobalViews.y_final, ldle.vis, ldle.vis_opts,\n",
    "                               ldle.GlobalViews.color_of_pts_on_tear_final,\n",
    "                               title='Final global embedding', )"
   ]
  },
  {
   "cell_type": "code",
   "execution_count": 9,
   "id": "4d630749",
   "metadata": {
    "execution": {
     "iopub.execute_input": "2022-07-28T21:24:53.303006Z",
     "iopub.status.busy": "2022-07-28T21:24:53.302792Z",
     "iopub.status.idle": "2022-07-28T21:24:54.808722Z",
     "shell.execute_reply": "2022-07-28T21:24:54.807199Z"
    }
   },
   "outputs": [
    {
     "name": "stdout",
     "output_type": "stream",
     "text": [
      "Saved ../data/pyLDLE2/mobiusstrip3d//ldle.dat\n"
     ]
    }
   ],
   "source": [
    "# save for further visualization\n",
    "import pickle\n",
    "save_path = save_dir_root+'/ldle.dat'\n",
    "with open(save_path, \"wb\") as f:\n",
    "    pickle.dump([X, labelsMat, ldle], f)\n",
    "print('Saved', save_path)"
   ]
  },
  {
   "cell_type": "code",
   "execution_count": null,
   "id": "bd9da676",
   "metadata": {},
   "outputs": [],
   "source": []
  }
 ],
 "metadata": {
  "kernelspec": {
   "display_name": "Python 3 (ipykernel)",
   "language": "python",
   "name": "python3"
  },
  "language_info": {
   "codemirror_mode": {
    "name": "ipython",
    "version": 3
   },
   "file_extension": ".py",
   "mimetype": "text/x-python",
   "name": "python",
   "nbconvert_exporter": "python",
   "pygments_lexer": "ipython3",
   "version": "3.9.12"
  }
 },
 "nbformat": 4,
 "nbformat_minor": 5
}
