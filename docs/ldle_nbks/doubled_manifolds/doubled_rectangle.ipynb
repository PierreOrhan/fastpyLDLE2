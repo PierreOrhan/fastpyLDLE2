{
 "cells": [
  {
   "cell_type": "markdown",
   "id": "2bf0f75c",
   "metadata": {},
   "source": [
    "### Doubled rectangle"
   ]
  },
  {
   "cell_type": "code",
   "execution_count": 1,
   "id": "ff81deb0",
   "metadata": {
    "execution": {
     "iopub.execute_input": "2022-08-08T17:19:42.290979Z",
     "iopub.status.busy": "2022-08-08T17:19:42.290352Z",
     "iopub.status.idle": "2022-08-08T17:19:42.865130Z",
     "shell.execute_reply": "2022-08-08T17:19:42.864401Z"
    }
   },
   "outputs": [],
   "source": [
    "%matplotlib inline"
   ]
  },
  {
   "cell_type": "code",
   "execution_count": 2,
   "id": "a8d77738",
   "metadata": {
    "execution": {
     "iopub.execute_input": "2022-08-08T17:19:42.870763Z",
     "iopub.status.busy": "2022-08-08T17:19:42.870464Z",
     "iopub.status.idle": "2022-08-08T17:19:42.874304Z",
     "shell.execute_reply": "2022-08-08T17:19:42.873532Z"
    }
   },
   "outputs": [],
   "source": [
    "# Not really required\n",
    "import sys\n",
    "sys.path.insert(0, '../../..')"
   ]
  },
  {
   "cell_type": "code",
   "execution_count": 3,
   "id": "ad5119aa",
   "metadata": {
    "execution": {
     "iopub.execute_input": "2022-08-08T17:19:42.878179Z",
     "iopub.status.busy": "2022-08-08T17:19:42.878045Z",
     "iopub.status.idle": "2022-08-08T17:19:43.369626Z",
     "shell.execute_reply": "2022-08-08T17:19:43.368905Z"
    }
   },
   "outputs": [
    {
     "name": "stdout",
     "output_type": "stream",
     "text": [
      "matplotlib.get_backend() =  module://matplotlib_inline.backend_inline\n"
     ]
    }
   ],
   "source": [
    "from pyLDLE2 import datasets\n",
    "from pyLDLE2 import buml_, util_"
   ]
  },
  {
   "cell_type": "code",
   "execution_count": 4,
   "id": "777aa611",
   "metadata": {
    "execution": {
     "iopub.execute_input": "2022-08-08T17:19:43.375455Z",
     "iopub.status.busy": "2022-08-08T17:19:43.375082Z",
     "iopub.status.idle": "2022-08-08T17:19:43.379417Z",
     "shell.execute_reply": "2022-08-08T17:19:43.378603Z"
    }
   },
   "outputs": [],
   "source": [
    "save_dir_root = '../data/pyLDLE2/doubled_rectangle/'"
   ]
  },
  {
   "cell_type": "code",
   "execution_count": 5,
   "id": "55e389bc",
   "metadata": {
    "execution": {
     "iopub.execute_input": "2022-08-08T17:19:43.383660Z",
     "iopub.status.busy": "2022-08-08T17:19:43.383259Z",
     "iopub.status.idle": "2022-08-08T17:19:43.529556Z",
     "shell.execute_reply": "2022-08-08T17:19:43.528855Z"
    }
   },
   "outputs": [
    {
     "name": "stdout",
     "output_type": "stream",
     "text": [
      "X.shape =  (10426, 2)\n"
     ]
    }
   ],
   "source": [
    "X, labelsMat, ddX = datasets.Datasets().rectanglegrid()"
   ]
  },
  {
   "cell_type": "code",
   "execution_count": 6,
   "id": "a0e44b81",
   "metadata": {
    "execution": {
     "iopub.execute_input": "2022-08-08T17:19:43.532623Z",
     "iopub.status.busy": "2022-08-08T17:19:43.532487Z",
     "iopub.status.idle": "2022-08-08T17:19:43.538752Z",
     "shell.execute_reply": "2022-08-08T17:19:43.537790Z"
    }
   },
   "outputs": [
    {
     "name": "stdout",
     "output_type": "stream",
     "text": [
      "local_opts['k_nn0'] = 700 is created.\n",
      "Options provided:\n",
      "local_opts:\n",
      "{\n",
      "    \"Atilde_method\": \"LDLE_1\",\n",
      "    \"N\": 100,\n",
      "    \"U_method\": \"k_nn\",\n",
      "    \"algo\": \"LDLE\",\n",
      "    \"alpha\": 1,\n",
      "    \"debug\": true,\n",
      "    \"delta\": 0.9,\n",
      "    \"gl_type\": \"unnorm\",\n",
      "    \"k\": 28,\n",
      "    \"k_nn\": 49,\n",
      "    \"k_nn0\": 700,\n",
      "    \"k_tune\": 7,\n",
      "    \"lambda1_decay\": 0.75,\n",
      "    \"lambda1_init\": 8,\n",
      "    \"lambda1_min\": 0.001,\n",
      "    \"max_iter\": 300,\n",
      "    \"max_sparsity\": 0.9,\n",
      "    \"metric\": \"euclidean\",\n",
      "    \"n_proc\": 32,\n",
      "    \"p\": 0.99,\n",
      "    \"power\": 5,\n",
      "    \"pp_n_thresh\": 32,\n",
      "    \"radius\": 0.5,\n",
      "    \"reg\": 0.0,\n",
      "    \"scale_by\": \"gamma\",\n",
      "    \"tau\": 50,\n",
      "    \"to_postprocess\": true,\n",
      "    \"verbose\": true\n",
      "}\n",
      "intermed_opts:\n",
      "{\n",
      "    \"algo\": \"best\",\n",
      "    \"debug\": true,\n",
      "    \"eta_max\": 25,\n",
      "    \"eta_min\": 5,\n",
      "    \"len_S_thresh\": 256,\n",
      "    \"local_algo\": \"LDLE\",\n",
      "    \"metric\": \"euclidean\",\n",
      "    \"n_proc\": 32,\n",
      "    \"n_times\": 4,\n",
      "    \"verbose\": true\n",
      "}\n",
      "global_opts:\n",
      "{\n",
      "    \"add_dim\": false,\n",
      "    \"align_transform\": \"rigid\",\n",
      "    \"align_w_parent_only\": true,\n",
      "    \"alpha\": 0.3,\n",
      "    \"beta\": {\n",
      "        \"align\": null,\n",
      "        \"repel\": 1\n",
      "    },\n",
      "    \"color_tear\": true,\n",
      "    \"compute_error\": false,\n",
      "    \"debug\": true,\n",
      "    \"eps\": 1e-08,\n",
      "    \"err_tol\": 0.0001,\n",
      "    \"far_off_points_type\": \"reuse_fixed\",\n",
      "    \"init_algo_name\": \"procrustes\",\n",
      "    \"k\": 28,\n",
      "    \"max_internal_iter\": 100,\n",
      "    \"max_iter\": 20,\n",
      "    \"metric\": \"euclidean\",\n",
      "    \"n_proc\": 32,\n",
      "    \"n_repel\": 0,\n",
      "    \"nu\": 3,\n",
      "    \"patience\": 5,\n",
      "    \"refine_algo_name\": \"rgd\",\n",
      "    \"repel_by\": 0.0,\n",
      "    \"to_tear\": true,\n",
      "    \"verbose\": true,\n",
      "    \"vis_before_init\": false\n",
      "}\n"
     ]
    }
   ],
   "source": [
    "# The supplied options would override the default options\n",
    "buml_obj = buml_.BUML(local_opts={'algo':'LDLE'},\n",
    "                      intermed_opts={'eta_min': 5, 'algo': 'best'},\n",
    "                      vis_opts={'c': labelsMat[:,0], 'save_dir': save_dir_root},\n",
    "                      verbose=True, debug=True)"
   ]
  },
  {
   "cell_type": "code",
   "execution_count": 7,
   "id": "7eadfc89",
   "metadata": {
    "execution": {
     "iopub.execute_input": "2022-08-08T17:19:43.542754Z",
     "iopub.status.busy": "2022-08-08T17:19:43.542366Z",
     "iopub.status.idle": "2022-08-08T17:27:23.415864Z",
     "shell.execute_reply": "2022-08-08T17:27:23.415149Z"
    },
    "scrolled": true
   },
   "outputs": [
    {
     "name": "stdout",
     "output_type": "stream",
     "text": [
      "Doubling manifold.\n",
      "No. of points on the boundary = 850\n"
     ]
    },
    {
     "name": "stderr",
     "output_type": "stream",
     "text": [
      "/home/dhruv/anaconda3/lib/python3.9/site-packages/sklearn/neighbors/_base.py:234: EfficiencyWarning: Precomputed sparse input was not sorted by row values. Use the function sklearn.neighbors.sort_graph_by_row_values to sort the input by row values, with warn_when_not_sorted=False to remove this warning.\n",
      "  warnings.warn(\n"
     ]
    },
    {
     "name": "stdout",
     "output_type": "stream",
     "text": [
      "Done.\n",
      "##############################\n",
      "Time elapsed from last time log: 51.5 seconds\n",
      "Total time elapsed: 51.6 seconds\n",
      "##############################\n",
      "Computing local views using LDLE\n",
      "Constructing unnorm graph Laplacian + its eigendecomposition.\n",
      "Done.\n",
      "##############################\n",
      "Time elapsed from last time log: 27.8 seconds\n",
      "Total time elapsed: 27.8 seconds\n",
      "##############################\n",
      "Computing Atilde: Inner Prod of Grad of EigFuncs.\n",
      "FEM for Atilde.\n",
      "Atilde: 0 points processed...\n",
      "Atilde: 5000 points processed...\n",
      "Atilde: 10000 points processed...\n",
      "Atilde: 15000 points processed...\n",
      "Atilde: 20000 points processed...\n",
      "Atilde: all points processed...\n",
      "Done.\n",
      "##############################\n",
      "Time elapsed from last time log: 2.7 seconds\n",
      "Total time elapsed: 30.6 seconds\n",
      "##############################\n",
      "Computing LDLE.\n",
      "local_param: all 20002 points processed...\n",
      "max distortion is 9381.184125\n",
      "Done.\n",
      "##############################\n",
      "Time elapsed from last time log: 4.7 seconds\n",
      "Total time elapsed: 35.5 seconds\n",
      "##############################\n",
      "Posprocessing local parameterizations.\n",
      "#Param replaced: 18996, max distortion: 109.610941\n",
      "#Param replaced: 9173, max distortion: 43.570953\n",
      "#Param replaced: 2408, max distortion: 43.570953\n",
      "#Param replaced: 614, max distortion: 43.570953\n",
      "#Param replaced: 122, max distortion: 43.570953\n",
      "#Param replaced: 12, max distortion: 43.570953\n",
      "#Param replaced: 2, max distortion: 43.570953\n",
      "#Param replaced: 1, max distortion: 43.570953\n",
      "#Param replaced: 0, max distortion: 43.570953\n",
      "Max local distortion after postprocessing: 43.57095345105517\n",
      "Done.\n",
      "##############################\n",
      "Time elapsed from last time log: 22.6 seconds\n",
      "Total time elapsed: 58.1 seconds\n",
      "##############################\n",
      "Halving objects.\n",
      "Done.\n",
      "##############################\n",
      "Time elapsed from last time log: 13.2 seconds\n",
      "Total time elapsed: 75.1 seconds\n",
      "##############################\n",
      "Max local distortion = 37.40180870899774\n",
      "Constructing intermediate views.\n",
      "eta = 2.\n",
      "#non-empty views with sz < 2 = 10426\n",
      "#nodes in views with sz < 2 = 10426\n"
     ]
    },
    {
     "name": "stderr",
     "output_type": "stream",
     "text": [
      "/home/dhruv/codebase/pyLDLE2/docs/ldle_nbks/doubled_manifolds/../../../pyLDLE2/intermed_views_.py:122: VisibleDeprecationWarning: Creating an ndarray from ragged nested sequences (which is a list-or-tuple of lists-or-tuples-or ndarrays with different lengths or shapes) is deprecated. If you meant to do this, you must specify 'dtype=object' when creating the ndarray.\n",
      "  neigh_ind = np.array(neigh_ind)\n"
     ]
    },
    {
     "name": "stdout",
     "output_type": "stream",
     "text": [
      "Costs computed when eta = 2.\n",
      "##############################\n",
      "Time elapsed from last time log: 8.1 seconds\n",
      "Total time elapsed: 8.9 seconds\n",
      "##############################\n",
      "ctr=7830, total_len_S=45891, avg_len_S=5.861\n",
      "Remaining #nodes in views with sz < 2 = 0\n",
      "Done with eta = 2.\n",
      "##############################\n",
      "Time elapsed from last time log: 167.3 seconds\n",
      "Total time elapsed: 176.2 seconds\n",
      "##############################\n",
      "eta = 3.\n",
      "#non-empty views with sz < 3 = 857\n",
      "#nodes in views with sz < 3 = 1714\n",
      "Costs computed when eta = 3.\n",
      "##############################\n",
      "Time elapsed from last time log: 2.9 seconds\n",
      "Total time elapsed: 179.2 seconds\n",
      "##############################\n",
      "ctr=1412, total_len_S=25714, avg_len_S=18.211\n",
      "Remaining #nodes in views with sz < 3 = 0\n",
      "Done with eta = 3.\n",
      "##############################\n",
      "Time elapsed from last time log: 33.0 seconds\n",
      "Total time elapsed: 212.2 seconds\n",
      "##############################\n",
      "eta = 4.\n",
      "#non-empty views with sz < 4 = 388\n",
      "#nodes in views with sz < 4 = 1164\n",
      "Costs computed when eta = 4.\n",
      "##############################\n",
      "Time elapsed from last time log: 2.7 seconds\n",
      "Total time elapsed: 214.9 seconds\n",
      "##############################\n",
      "ctr=1029, total_len_S=27142, avg_len_S=26.377\n",
      "Remaining #nodes in views with sz < 4 = 0\n",
      "Done with eta = 4.\n",
      "##############################\n",
      "Time elapsed from last time log: 23.6 seconds\n",
      "Total time elapsed: 238.5 seconds\n",
      "##############################\n",
      "eta = 5.\n",
      "#non-empty views with sz < 5 = 376\n",
      "#nodes in views with sz < 5 = 1504\n",
      "Costs computed when eta = 5.\n",
      "##############################\n",
      "Time elapsed from last time log: 4.1 seconds\n",
      "Total time elapsed: 242.5 seconds\n",
      "##############################\n",
      "ctr=1268, total_len_S=41182, avg_len_S=32.478\n",
      "Remaining #nodes in views with sz < 5 = 0\n",
      "Done with eta = 5.\n",
      "##############################\n",
      "Time elapsed from last time log: 41.1 seconds\n",
      "Total time elapsed: 283.6 seconds\n",
      "##############################\n",
      "Pruning and cleaning up.\n",
      "Done.\n",
      "##############################\n",
      "Time elapsed from last time log: 0.9 seconds\n",
      "Total time elapsed: 284.6 seconds\n",
      "##############################\n",
      "After clustering, max distortion is 19.790537\n",
      "Using rigid transforms for alignment.\n",
      "Computing laterations scores for overlaps b/w intermed views\n",
      "Done\n",
      "##############################\n",
      "Time elapsed from last time log: 4.0 seconds\n",
      "Total time elapsed: 4.0 seconds\n",
      "##############################\n",
      "Computing a lateration.\n",
      "Seq of intermediate views and their predecessors computed.\n",
      "No. of connected components = 1\n",
      "Done.\n",
      "##############################\n",
      "Time elapsed from last time log: 0.0 seconds\n",
      "Total time elapsed: 4.0 seconds\n",
      "##############################\n",
      "Computing initial embedding using: procrustes algorithm\n",
      "##############################\n",
      "Time elapsed from last time log: 0.0 seconds\n",
      "Total time elapsed: 4.0 seconds\n",
      "##############################\n",
      "Initial alignment of 311 views completed\n",
      "Initial alignment of 622 views completed\n",
      "Initial alignment of 933 views completed\n",
      "Initial alignment of 1244 views completed\n",
      "Embedding initialized.\n",
      "##############################\n",
      "Time elapsed from last time log: 3.9 seconds\n",
      "Total time elapsed: 7.9 seconds\n",
      "##############################\n"
     ]
    },
    {
     "data": {
      "image/png": "[encoded data removed]",
      "text/plain": [
       "<Figure size 432x288 with 1 Axes>"
      ]
     },
     "metadata": {},
     "output_type": "display_data"
    },
    {
     "name": "stdout",
     "output_type": "stream",
     "text": [
      "Refining with rgd algorithm for 100 iterations.\n",
      "Refinement iteration: 0\n",
      "##############################\n",
      "Time elapsed from last time log: 0.0 seconds\n",
      "Total time elapsed: 12.9 seconds\n",
      "##############################\n",
      "min and max weights: 1.0 1.0\n",
      "Computing Pseudoinverse of a matrix of L of size 10426 + 1247 multiplied with B\n",
      "Computing svd\n",
      "Done\n",
      "Descent starts\n",
      "Done.\n",
      "##############################\n",
      "Time elapsed from last time log: 11.8 seconds\n",
      "Total time elapsed: 24.7 seconds\n",
      "##############################\n"
     ]
    },
    {
     "data": {
      "image/png": "[encoded data removed]",
      "text/plain": [
       "<Figure size 432x288 with 1 Axes>"
      ]
     },
     "metadata": {},
     "output_type": "display_data"
    },
    {
     "name": "stdout",
     "output_type": "stream",
     "text": [
      "Refining with rgd algorithm for 100 iterations.\n",
      "Refinement iteration: 1\n",
      "##############################\n",
      "Time elapsed from last time log: 0.0 seconds\n",
      "Total time elapsed: 30.0 seconds\n",
      "##############################\n",
      "min and max weights: 1.0 1.0\n",
      "Computing Pseudoinverse of a matrix of L of size 10426 + 1247 multiplied with B\n",
      "Computing svd\n",
      "Done\n",
      "Descent starts\n",
      "Done.\n",
      "##############################\n",
      "Time elapsed from last time log: 12.0 seconds\n",
      "Total time elapsed: 42.0 seconds\n",
      "##############################\n"
     ]
    },
    {
     "data": {
      "image/png": "[encoded data removed]",
      "text/plain": [
       "<Figure size 432x288 with 1 Axes>"
      ]
     },
     "metadata": {},
     "output_type": "display_data"
    },
    {
     "name": "stdout",
     "output_type": "stream",
     "text": [
      "Refining with rgd algorithm for 100 iterations.\n",
      "Refinement iteration: 2\n",
      "##############################\n",
      "Time elapsed from last time log: 0.0 seconds\n",
      "Total time elapsed: 44.4 seconds\n",
      "##############################\n",
      "min and max weights: 1.0 1.0\n",
      "Computing Pseudoinverse of a matrix of L of size 10426 + 1247 multiplied with B\n",
      "Computing svd\n",
      "Done\n",
      "Descent starts\n",
      "Done.\n",
      "##############################\n",
      "Time elapsed from last time log: 12.2 seconds\n",
      "Total time elapsed: 56.5 seconds\n",
      "##############################\n"
     ]
    },
    {
     "data": {
      "image/png": "[encoded data removed]",
      "text/plain": [
       "<Figure size 432x288 with 1 Axes>"
      ]
     },
     "metadata": {},
     "output_type": "display_data"
    },
    {
     "name": "stdout",
     "output_type": "stream",
     "text": [
      "Refining with rgd algorithm for 100 iterations.\n",
      "Refinement iteration: 3\n",
      "##############################\n",
      "Time elapsed from last time log: 0.0 seconds\n",
      "Total time elapsed: 58.7 seconds\n",
      "##############################\n",
      "min and max weights: 1.0 1.0\n",
      "Computing Pseudoinverse of a matrix of L of size 10426 + 1247 multiplied with B\n",
      "Computing svd\n",
      "Done\n",
      "Descent starts\n",
      "Done.\n",
      "##############################\n",
      "Time elapsed from last time log: 11.1 seconds\n",
      "Total time elapsed: 69.9 seconds\n",
      "##############################\n"
     ]
    },
    {
     "data": {
      "image/png": "[encoded data removed]",
      "text/plain": [
       "<Figure size 432x288 with 1 Axes>"
      ]
     },
     "metadata": {},
     "output_type": "display_data"
    },
    {
     "name": "stdout",
     "output_type": "stream",
     "text": [
      "Refining with rgd algorithm for 100 iterations.\n",
      "Refinement iteration: 4\n",
      "##############################\n",
      "Time elapsed from last time log: 0.0 seconds\n",
      "Total time elapsed: 71.3 seconds\n",
      "##############################\n",
      "min and max weights: 1.0 1.0\n",
      "Computing Pseudoinverse of a matrix of L of size 10426 + 1247 multiplied with B\n",
      "Computing svd\n",
      "Done\n",
      "Descent starts\n",
      "Done.\n",
      "##############################\n",
      "Time elapsed from last time log: 11.5 seconds\n",
      "Total time elapsed: 82.9 seconds\n",
      "##############################\n"
     ]
    },
    {
     "data": {
      "image/png": "[encoded data removed]",
      "text/plain": [
       "<Figure size 432x288 with 1 Axes>"
      ]
     },
     "metadata": {},
     "output_type": "display_data"
    },
    {
     "name": "stdout",
     "output_type": "stream",
     "text": [
      "Refining with rgd algorithm for 100 iterations.\n",
      "Refinement iteration: 5\n",
      "##############################\n",
      "Time elapsed from last time log: 0.0 seconds\n",
      "Total time elapsed: 84.6 seconds\n",
      "##############################\n",
      "min and max weights: 1.0 1.0\n",
      "Computing Pseudoinverse of a matrix of L of size 10426 + 1247 multiplied with B\n",
      "Computing svd\n",
      "Done\n",
      "Descent starts\n",
      "Done.\n",
      "##############################\n",
      "Time elapsed from last time log: 10.2 seconds\n",
      "Total time elapsed: 94.8 seconds\n",
      "##############################\n"
     ]
    },
    {
     "data": {
      "image/png": "[encoded data removed]",
      "text/plain": [
       "<Figure size 432x288 with 1 Axes>"
      ]
     },
     "metadata": {},
     "output_type": "display_data"
    },
    {
     "name": "stdout",
     "output_type": "stream",
     "text": [
      "Refining with rgd algorithm for 100 iterations.\n",
      "Refinement iteration: 6\n",
      "##############################\n",
      "Time elapsed from last time log: 0.0 seconds\n",
      "Total time elapsed: 96.3 seconds\n",
      "##############################\n",
      "min and max weights: 1.0 1.0\n",
      "Computing Pseudoinverse of a matrix of L of size 10426 + 1247 multiplied with B\n",
      "Computing svd\n",
      "Done\n",
      "Descent starts\n",
      "Done.\n",
      "##############################\n",
      "Time elapsed from last time log: 11.0 seconds\n",
      "Total time elapsed: 107.3 seconds\n",
      "##############################\n"
     ]
    },
    {
     "data": {
      "image/png": "[encoded data removed]",
      "text/plain": [
       "<Figure size 432x288 with 1 Axes>"
      ]
     },
     "metadata": {},
     "output_type": "display_data"
    },
    {
     "name": "stdout",
     "output_type": "stream",
     "text": [
      "Refining with rgd algorithm for 100 iterations.\n",
      "Refinement iteration: 7\n",
      "##############################\n",
      "Time elapsed from last time log: 0.0 seconds\n",
      "Total time elapsed: 109.2 seconds\n",
      "##############################\n",
      "min and max weights: 1.0 1.0\n",
      "Computing Pseudoinverse of a matrix of L of size 10426 + 1247 multiplied with B\n",
      "Computing svd\n",
      "Done\n",
      "Descent starts\n",
      "Done.\n",
      "##############################\n",
      "Time elapsed from last time log: 9.3 seconds\n",
      "Total time elapsed: 118.5 seconds\n",
      "##############################\n"
     ]
    },
    {
     "data": {
      "image/png": "[encoded data removed]",
      "text/plain": [
       "<Figure size 432x288 with 1 Axes>"
      ]
     },
     "metadata": {},
     "output_type": "display_data"
    },
    {
     "name": "stdout",
     "output_type": "stream",
     "text": [
      "Refining with rgd algorithm for 100 iterations.\n",
      "Refinement iteration: 8\n",
      "##############################\n",
      "Time elapsed from last time log: 0.0 seconds\n",
      "Total time elapsed: 120.1 seconds\n",
      "##############################\n",
      "min and max weights: 1.0 1.0\n",
      "Computing Pseudoinverse of a matrix of L of size 10426 + 1247 multiplied with B\n",
      "Computing svd\n",
      "Done\n",
      "Descent starts\n",
      "Done.\n",
      "##############################\n",
      "Time elapsed from last time log: 10.6 seconds\n",
      "Total time elapsed: 130.7 seconds\n",
      "##############################\n"
     ]
    },
    {
     "data": {
      "image/png": "[encoded data removed]",
      "text/plain": [
       "<Figure size 432x288 with 1 Axes>"
      ]
     },
     "metadata": {},
     "output_type": "display_data"
    },
    {
     "name": "stdout",
     "output_type": "stream",
     "text": [
      "Refining with rgd algorithm for 100 iterations.\n",
      "Refinement iteration: 9\n",
      "##############################\n",
      "Time elapsed from last time log: 0.0 seconds\n",
      "Total time elapsed: 132.4 seconds\n",
      "##############################\n",
      "min and max weights: 1.0 1.0\n",
      "Computing Pseudoinverse of a matrix of L of size 10426 + 1247 multiplied with B\n",
      "Computing svd\n",
      "Done\n",
      "Descent starts\n",
      "Done.\n",
      "##############################\n",
      "Time elapsed from last time log: 10.4 seconds\n",
      "Total time elapsed: 142.8 seconds\n",
      "##############################\n"
     ]
    },
    {
     "data": {
      "image/png": "[encoded data removed]",
      "text/plain": [
       "<Figure size 432x288 with 1 Axes>"
      ]
     },
     "metadata": {},
     "output_type": "display_data"
    },
    {
     "name": "stdout",
     "output_type": "stream",
     "text": [
      "Refining with rgd algorithm for 100 iterations.\n",
      "Refinement iteration: 10\n",
      "##############################\n",
      "Time elapsed from last time log: 0.0 seconds\n",
      "Total time elapsed: 144.4 seconds\n",
      "##############################\n",
      "min and max weights: 1.0 1.0\n",
      "Computing Pseudoinverse of a matrix of L of size 10426 + 1247 multiplied with B\n",
      "Computing svd\n",
      "Done\n",
      "Descent starts\n",
      "Done.\n",
      "##############################\n",
      "Time elapsed from last time log: 11.5 seconds\n",
      "Total time elapsed: 155.9 seconds\n",
      "##############################\n"
     ]
    },
    {
     "data": {
      "image/png": "[encoded data removed]",
      "text/plain": [
       "<Figure size 432x288 with 1 Axes>"
      ]
     },
     "metadata": {},
     "output_type": "display_data"
    },
    {
     "name": "stdout",
     "output_type": "stream",
     "text": [
      "Refining with rgd algorithm for 100 iterations.\n",
      "Refinement iteration: 11\n",
      "##############################\n",
      "Time elapsed from last time log: 0.0 seconds\n",
      "Total time elapsed: 157.4 seconds\n",
      "##############################\n",
      "min and max weights: 1.0 1.0\n",
      "Computing Pseudoinverse of a matrix of L of size 10426 + 1247 multiplied with B\n",
      "Computing svd\n",
      "Done\n",
      "Descent starts\n",
      "Done.\n",
      "##############################\n",
      "Time elapsed from last time log: 9.5 seconds\n",
      "Total time elapsed: 167.0 seconds\n",
      "##############################\n"
     ]
    },
    {
     "data": {
      "image/png": "[encoded data removed]",
      "text/plain": [
       "<Figure size 432x288 with 1 Axes>"
      ]
     },
     "metadata": {},
     "output_type": "display_data"
    },
    {
     "name": "stdout",
     "output_type": "stream",
     "text": [
      "Refining with rgd algorithm for 100 iterations.\n",
      "Refinement iteration: 12\n",
      "##############################\n",
      "Time elapsed from last time log: 0.0 seconds\n",
      "Total time elapsed: 169.4 seconds\n",
      "##############################\n",
      "min and max weights: 1.0 1.0\n",
      "Computing Pseudoinverse of a matrix of L of size 10426 + 1247 multiplied with B\n",
      "Computing svd\n",
      "Done\n",
      "Descent starts\n",
      "Done.\n",
      "##############################\n",
      "Time elapsed from last time log: 9.7 seconds\n",
      "Total time elapsed: 179.0 seconds\n",
      "##############################\n"
     ]
    },
    {
     "data": {
      "image/png": "[encoded data removed]",
      "text/plain": [
       "<Figure size 432x288 with 1 Axes>"
      ]
     },
     "metadata": {},
     "output_type": "display_data"
    },
    {
     "name": "stdout",
     "output_type": "stream",
     "text": [
      "Refining with rgd algorithm for 100 iterations.\n",
      "Refinement iteration: 13\n",
      "##############################\n",
      "Time elapsed from last time log: 0.0 seconds\n",
      "Total time elapsed: 180.6 seconds\n",
      "##############################\n",
      "min and max weights: 1.0 1.0\n",
      "Computing Pseudoinverse of a matrix of L of size 10426 + 1247 multiplied with B\n",
      "Computing svd\n",
      "Done\n",
      "Descent starts\n",
      "Done.\n",
      "##############################\n",
      "Time elapsed from last time log: 11.8 seconds\n",
      "Total time elapsed: 192.4 seconds\n",
      "##############################\n"
     ]
    },
    {
     "data": {
      "image/png": "[encoded data removed]",
      "text/plain": [
       "<Figure size 432x288 with 1 Axes>"
      ]
     },
     "metadata": {},
     "output_type": "display_data"
    },
    {
     "name": "stdout",
     "output_type": "stream",
     "text": [
      "Refining with rgd algorithm for 100 iterations.\n",
      "Refinement iteration: 14\n",
      "##############################\n",
      "Time elapsed from last time log: 0.0 seconds\n",
      "Total time elapsed: 193.8 seconds\n",
      "##############################\n",
      "min and max weights: 1.0 1.0\n",
      "Computing Pseudoinverse of a matrix of L of size 10426 + 1247 multiplied with B\n",
      "Computing svd\n",
      "Done\n",
      "Descent starts\n",
      "Done.\n",
      "##############################\n",
      "Time elapsed from last time log: 10.5 seconds\n",
      "Total time elapsed: 204.2 seconds\n",
      "##############################\n"
     ]
    },
    {
     "data": {
      "image/png": "[encoded data removed]",
      "text/plain": [
       "<Figure size 432x288 with 1 Axes>"
      ]
     },
     "metadata": {},
     "output_type": "display_data"
    },
    {
     "name": "stdout",
     "output_type": "stream",
     "text": [
      "Refining with rgd algorithm for 100 iterations.\n",
      "Refinement iteration: 15\n",
      "##############################\n",
      "Time elapsed from last time log: 0.0 seconds\n",
      "Total time elapsed: 205.4 seconds\n",
      "##############################\n",
      "min and max weights: 1.0 1.0\n",
      "Computing Pseudoinverse of a matrix of L of size 10426 + 1247 multiplied with B\n",
      "Computing svd\n",
      "Done\n",
      "Descent starts\n",
      "Done.\n",
      "##############################\n",
      "Time elapsed from last time log: 8.7 seconds\n",
      "Total time elapsed: 214.1 seconds\n",
      "##############################\n"
     ]
    },
    {
     "data": {
      "image/png": "[encoded data removed]",
      "text/plain": [
       "<Figure size 432x288 with 1 Axes>"
      ]
     },
     "metadata": {},
     "output_type": "display_data"
    },
    {
     "name": "stdout",
     "output_type": "stream",
     "text": [
      "Refining with rgd algorithm for 100 iterations.\n",
      "Refinement iteration: 16\n",
      "##############################\n",
      "Time elapsed from last time log: 0.0 seconds\n",
      "Total time elapsed: 216.0 seconds\n",
      "##############################\n",
      "min and max weights: 1.0 1.0\n",
      "Computing Pseudoinverse of a matrix of L of size 10426 + 1247 multiplied with B\n",
      "Computing svd\n",
      "Done\n",
      "Descent starts\n",
      "Done.\n",
      "##############################\n",
      "Time elapsed from last time log: 10.1 seconds\n",
      "Total time elapsed: 226.1 seconds\n",
      "##############################\n"
     ]
    },
    {
     "data": {
      "image/png": "[encoded data removed]",
      "text/plain": [
       "<Figure size 432x288 with 1 Axes>"
      ]
     },
     "metadata": {},
     "output_type": "display_data"
    },
    {
     "name": "stdout",
     "output_type": "stream",
     "text": [
      "Refining with rgd algorithm for 100 iterations.\n",
      "Refinement iteration: 17\n",
      "##############################\n",
      "Time elapsed from last time log: 0.0 seconds\n",
      "Total time elapsed: 228.0 seconds\n",
      "##############################\n",
      "min and max weights: 1.0 1.0\n",
      "Computing Pseudoinverse of a matrix of L of size 10426 + 1247 multiplied with B\n",
      "Computing svd\n",
      "Done\n",
      "Descent starts\n",
      "Done.\n",
      "##############################\n",
      "Time elapsed from last time log: 12.0 seconds\n",
      "Total time elapsed: 240.0 seconds\n",
      "##############################\n"
     ]
    },
    {
     "data": {
      "image/png": "[encoded data removed]",
      "text/plain": [
       "<Figure size 432x288 with 1 Axes>"
      ]
     },
     "metadata": {},
     "output_type": "display_data"
    },
    {
     "name": "stdout",
     "output_type": "stream",
     "text": [
      "Refining with rgd algorithm for 100 iterations.\n",
      "Refinement iteration: 18\n",
      "##############################\n",
      "Time elapsed from last time log: 0.0 seconds\n",
      "Total time elapsed: 241.3 seconds\n",
      "##############################\n",
      "min and max weights: 1.0 1.0\n",
      "Computing Pseudoinverse of a matrix of L of size 10426 + 1247 multiplied with B\n",
      "Computing svd\n",
      "Done\n",
      "Descent starts\n",
      "Done.\n",
      "##############################\n",
      "Time elapsed from last time log: 10.5 seconds\n",
      "Total time elapsed: 251.8 seconds\n",
      "##############################\n"
     ]
    },
    {
     "data": {
      "image/png": "[encoded data removed]",
      "text/plain": [
       "<Figure size 432x288 with 1 Axes>"
      ]
     },
     "metadata": {},
     "output_type": "display_data"
    },
    {
     "name": "stdout",
     "output_type": "stream",
     "text": [
      "Refining with rgd algorithm for 100 iterations.\n",
      "Refinement iteration: 19\n",
      "##############################\n",
      "Time elapsed from last time log: 0.0 seconds\n",
      "Total time elapsed: 253.1 seconds\n",
      "##############################\n",
      "min and max weights: 1.0 1.0\n",
      "Computing Pseudoinverse of a matrix of L of size 10426 + 1247 multiplied with B\n",
      "Computing svd\n",
      "Done\n",
      "Descent starts\n",
      "Done.\n",
      "##############################\n",
      "Time elapsed from last time log: 9.5 seconds\n",
      "Total time elapsed: 262.6 seconds\n",
      "##############################\n",
      "Computing error.\n",
      "min and max weights: 1.0 1.0\n",
      "Computing Pseudoinverse of a matrix of L of size 10426 + 1247 multiplied with B\n",
      "Computing svd\n",
      "Done\n",
      "Alignment error: 0.370483\n",
      "##############################\n",
      "Time elapsed from last time log: 5.7 seconds\n",
      "Total time elapsed: 268.3 seconds\n",
      "##############################\n"
     ]
    },
    {
     "data": {
      "image/png": "[encoded data removed]",
      "text/plain": [
       "<Figure size 432x288 with 1 Axes>"
      ]
     },
     "metadata": {},
     "output_type": "display_data"
    },
    {
     "data": {
      "text/plain": [
       "array([[ 1.93393004, -0.51848314],\n",
       "       [ 1.93313452, -0.51662419],\n",
       "       [ 1.93271255, -0.50748877],\n",
       "       ...,\n",
       "       [-2.10476818,  0.24094101],\n",
       "       [-2.10441794,  0.24323213],\n",
       "       [-2.10799855,  0.24136359]])"
      ]
     },
     "execution_count": 7,
     "metadata": {},
     "output_type": "execute_result"
    }
   ],
   "source": [
    "buml_obj.fit(X=X, ddX=ddX)"
   ]
  },
  {
   "cell_type": "code",
   "execution_count": 8,
   "id": "c7381785",
   "metadata": {
    "execution": {
     "iopub.execute_input": "2022-08-08T17:27:23.423330Z",
     "iopub.status.busy": "2022-08-08T17:27:23.422850Z",
     "iopub.status.idle": "2022-08-08T17:27:23.555614Z",
     "shell.execute_reply": "2022-08-08T17:27:23.554893Z"
    }
   },
   "outputs": [
    {
     "data": {
      "image/png": "[encoded data removed]",
      "text/plain": [
       "<Figure size 432x288 with 1 Axes>"
      ]
     },
     "metadata": {},
     "output_type": "display_data"
    }
   ],
   "source": [
    "buml_obj.GlobalViews.vis_embedding(buml_obj.GlobalViews.y_final, buml_obj.vis, buml_obj.vis_opts,\n",
    "                                   buml_obj.GlobalViews.color_of_pts_on_tear_final,\n",
    "                                   title='Final global embedding', )"
   ]
  },
  {
   "cell_type": "code",
   "execution_count": 9,
   "id": "4d630749",
   "metadata": {
    "execution": {
     "iopub.execute_input": "2022-08-08T17:27:23.559511Z",
     "iopub.status.busy": "2022-08-08T17:27:23.559172Z",
     "iopub.status.idle": "2022-08-08T17:27:27.905934Z",
     "shell.execute_reply": "2022-08-08T17:27:27.904930Z"
    }
   },
   "outputs": [],
   "source": [
    "util_.save(save_dir_root, 'ldle.dat', [X, labelsMat, buml_obj])"
   ]
  },
  {
   "cell_type": "code",
   "execution_count": null,
   "id": "41ee3a2b",
   "metadata": {},
   "outputs": [],
   "source": []
  }
 ],
 "metadata": {
  "kernelspec": {
   "display_name": "Python 3 (ipykernel)",
   "language": "python",
   "name": "python3"
  },
  "language_info": {
   "codemirror_mode": {
    "name": "ipython",
    "version": 3
   },
   "file_extension": ".py",
   "mimetype": "text/x-python",
   "name": "python",
   "nbconvert_exporter": "python",
   "pygments_lexer": "ipython3",
   "version": "3.9.12"
  }
 },
 "nbformat": 4,
 "nbformat_minor": 5
}
