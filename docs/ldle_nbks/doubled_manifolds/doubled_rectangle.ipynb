{
 "cells": [
  {
   "cell_type": "markdown",
   "id": "2bf0f75c",
   "metadata": {},
   "source": [
    "### Doubled rectangle"
   ]
  },
  {
   "cell_type": "code",
   "execution_count": 1,
   "id": "ff81deb0",
   "metadata": {
    "execution": {
     "iopub.execute_input": "2022-08-02T23:45:22.633733Z",
     "iopub.status.busy": "2022-08-02T23:45:22.633252Z",
     "iopub.status.idle": "2022-08-02T23:45:23.913681Z",
     "shell.execute_reply": "2022-08-02T23:45:23.911866Z"
    }
   },
   "outputs": [],
   "source": [
    "%matplotlib inline"
   ]
  },
  {
   "cell_type": "code",
   "execution_count": 2,
   "id": "a8d77738",
   "metadata": {
    "execution": {
     "iopub.execute_input": "2022-08-02T23:45:23.921759Z",
     "iopub.status.busy": "2022-08-02T23:45:23.921406Z",
     "iopub.status.idle": "2022-08-02T23:45:23.928401Z",
     "shell.execute_reply": "2022-08-02T23:45:23.926089Z"
    }
   },
   "outputs": [],
   "source": [
    "# Not really required\n",
    "import sys\n",
    "sys.path.insert(0, '../../..')"
   ]
  },
  {
   "cell_type": "code",
   "execution_count": 3,
   "id": "ad5119aa",
   "metadata": {
    "execution": {
     "iopub.execute_input": "2022-08-02T23:45:23.934031Z",
     "iopub.status.busy": "2022-08-02T23:45:23.932775Z",
     "iopub.status.idle": "2022-08-02T23:45:25.057171Z",
     "shell.execute_reply": "2022-08-02T23:45:25.056351Z"
    }
   },
   "outputs": [
    {
     "name": "stdout",
     "output_type": "stream",
     "text": [
      "matplotlib.get_backend() =  module://matplotlib_inline.backend_inline\n"
     ]
    }
   ],
   "source": [
    "from pyLDLE2 import datasets\n",
    "from pyLDLE2 import ldle_"
   ]
  },
  {
   "cell_type": "code",
   "execution_count": 4,
   "id": "777aa611",
   "metadata": {
    "execution": {
     "iopub.execute_input": "2022-08-02T23:45:25.061484Z",
     "iopub.status.busy": "2022-08-02T23:45:25.061085Z",
     "iopub.status.idle": "2022-08-02T23:45:25.066097Z",
     "shell.execute_reply": "2022-08-02T23:45:25.065053Z"
    }
   },
   "outputs": [],
   "source": [
    "save_dir_root = '../data/pyLDLE2/doubled_rectangle/'"
   ]
  },
  {
   "cell_type": "code",
   "execution_count": 5,
   "id": "55e389bc",
   "metadata": {
    "execution": {
     "iopub.execute_input": "2022-08-02T23:45:25.070956Z",
     "iopub.status.busy": "2022-08-02T23:45:25.070750Z",
     "iopub.status.idle": "2022-08-02T23:45:25.349478Z",
     "shell.execute_reply": "2022-08-02T23:45:25.348391Z"
    }
   },
   "outputs": [
    {
     "name": "stdout",
     "output_type": "stream",
     "text": [
      "X.shape =  (10426, 2)\n"
     ]
    }
   ],
   "source": [
    "X, labelsMat, ddX = datasets.Datasets().rectanglegrid()"
   ]
  },
  {
   "cell_type": "code",
   "execution_count": 6,
   "id": "a0e44b81",
   "metadata": {
    "execution": {
     "iopub.execute_input": "2022-08-02T23:45:25.355515Z",
     "iopub.status.busy": "2022-08-02T23:45:25.355121Z",
     "iopub.status.idle": "2022-08-02T23:45:25.364762Z",
     "shell.execute_reply": "2022-08-02T23:45:25.363420Z"
    }
   },
   "outputs": [
    {
     "name": "stdout",
     "output_type": "stream",
     "text": [
      "local_opts['k_nn0'] = 700 is created.\n",
      "Options provided:\n",
      "local_opts:\n",
      "{\n",
      "    \"Atilde_method\": \"LDLE_1\",\n",
      "    \"N\": 100,\n",
      "    \"algo\": \"LDLE\",\n",
      "    \"delta\": 0.9,\n",
      "    \"gl_type\": \"unnorm\",\n",
      "    \"k\": 28,\n",
      "    \"k_nn\": 49,\n",
      "    \"k_nn0\": 700,\n",
      "    \"k_tune\": 7,\n",
      "    \"n_proc\": 32,\n",
      "    \"no_gamma\": false,\n",
      "    \"p\": 0.99,\n",
      "    \"pp_n_thresh\": 32,\n",
      "    \"tau\": 50,\n",
      "    \"to_postprocess\": true\n",
      "}\n",
      "intermed_opts:\n",
      "{\n",
      "    \"algo\": \"best\",\n",
      "    \"eta_max\": 25,\n",
      "    \"eta_min\": 5,\n",
      "    \"len_S_thresh\": 256,\n",
      "    \"local_algo\": \"LDLE\",\n",
      "    \"n_proc\": 32,\n",
      "    \"n_times\": 4\n",
      "}\n",
      "global_opts:\n",
      "{\n",
      "    \"color_tear\": true,\n",
      "    \"compute_error\": false,\n",
      "    \"init_algo_align_w_parent_only\": true,\n",
      "    \"init_algo_name\": \"procrustes\",\n",
      "    \"k\": 28,\n",
      "    \"main_algo\": \"LDLE\",\n",
      "    \"max_iter\": 20,\n",
      "    \"n_proc\": 32,\n",
      "    \"nu\": 3,\n",
      "    \"refine_algo_alpha\": 0.3,\n",
      "    \"refine_algo_max_internal_iter\": 100,\n",
      "    \"refine_algo_name\": \"rgd\",\n",
      "    \"to_tear\": true,\n",
      "    \"vis_before_init\": false\n",
      "}\n"
     ]
    }
   ],
   "source": [
    "# The supplied options would override the default options\n",
    "ldle = ldle_.LDLE(local_opts={'algo':'LDLE'},\n",
    "                  intermed_opts={'eta_min': 5, 'algo': 'best'},\n",
    "                  vis_opts={'c': labelsMat[:,0], 'save_dir': save_dir_root},\n",
    "                  verbose=True, debug=True)"
   ]
  },
  {
   "cell_type": "code",
   "execution_count": 7,
   "id": "7eadfc89",
   "metadata": {
    "execution": {
     "iopub.execute_input": "2022-08-02T23:45:25.371156Z",
     "iopub.status.busy": "2022-08-02T23:45:25.370097Z",
     "iopub.status.idle": "2022-08-03T00:08:31.029056Z",
     "shell.execute_reply": "2022-08-03T00:08:31.023357Z"
    },
    "scrolled": false
   },
   "outputs": [
    {
     "name": "stdout",
     "output_type": "stream",
     "text": [
      "Doubling manifold.\n",
      "No. of points on the boundary = 850\n"
     ]
    },
    {
     "name": "stderr",
     "output_type": "stream",
     "text": [
      "/home/dhruv/anaconda3/lib/python3.9/site-packages/sklearn/neighbors/_base.py:199: EfficiencyWarning: Precomputed sparse input was not sorted by data.\n",
      "  warnings.warn(\n"
     ]
    },
    {
     "name": "stdout",
     "output_type": "stream",
     "text": [
      "Done.\n",
      "##############################\n",
      "Time elapsed from last time log: 82.4 seconds\n",
      "Total time elapsed: 82.4 seconds\n",
      "##############################\n"
     ]
    },
    {
     "name": "stdout",
     "output_type": "stream",
     "text": [
      "Constructing unnorm graph Laplacian + its eigendecomposition.\n"
     ]
    },
    {
     "name": "stdout",
     "output_type": "stream",
     "text": [
      "Done.\n",
      "##############################\n",
      "Time elapsed from last time log: 58.0 seconds\n",
      "Total time elapsed: 58.0 seconds\n",
      "##############################\n",
      "Computing Atilde: Inner Prod of Grad of EigFuncs.\n",
      "FEM for Atilde.\n",
      "Atilde: 0 points processed...\n"
     ]
    },
    {
     "name": "stdout",
     "output_type": "stream",
     "text": [
      "Atilde: 5000 points processed...\n"
     ]
    },
    {
     "name": "stdout",
     "output_type": "stream",
     "text": [
      "Atilde: 10000 points processed...\n"
     ]
    },
    {
     "name": "stdout",
     "output_type": "stream",
     "text": [
      "Atilde: 15000 points processed...\n"
     ]
    },
    {
     "name": "stdout",
     "output_type": "stream",
     "text": [
      "Atilde: 20000 points processed...\n",
      "Atilde: all points processed...\n",
      "Done.\n",
      "##############################\n",
      "Time elapsed from last time log: 34.6 seconds\n",
      "Total time elapsed: 92.7 seconds\n",
      "##############################\n",
      "Computing LDLE.\n"
     ]
    },
    {
     "name": "stdout",
     "output_type": "stream",
     "text": [
      "local_param: all 20002 points processed...\n",
      "max distortion is 31070.447812\n",
      "Done.\n",
      "##############################\n",
      "Time elapsed from last time log: 5.0 seconds\n",
      "Total time elapsed: 97.8 seconds\n",
      "##############################\n",
      "Posprocessing local parameterizations.\n"
     ]
    },
    {
     "name": "stdout",
     "output_type": "stream",
     "text": [
      "#Param replaced: 18993, max distortion: 109.500428"
     ]
    },
    {
     "name": "stdout",
     "output_type": "stream",
     "text": [
      "\n"
     ]
    },
    {
     "name": "stdout",
     "output_type": "stream",
     "text": [
      "#Param replaced: 9177, max distortion: 42.838568"
     ]
    },
    {
     "name": "stdout",
     "output_type": "stream",
     "text": [
      "\n"
     ]
    },
    {
     "name": "stdout",
     "output_type": "stream",
     "text": [
      "#Param replaced: 2405, max distortion: 42.838568"
     ]
    },
    {
     "name": "stdout",
     "output_type": "stream",
     "text": [
      "\n"
     ]
    },
    {
     "name": "stdout",
     "output_type": "stream",
     "text": [
      "#Param replaced: 605, max distortion: 42.838568"
     ]
    },
    {
     "name": "stdout",
     "output_type": "stream",
     "text": [
      "\n"
     ]
    },
    {
     "name": "stdout",
     "output_type": "stream",
     "text": [
      "#Param replaced: 120, max distortion: 42.838568"
     ]
    },
    {
     "name": "stdout",
     "output_type": "stream",
     "text": [
      "\n"
     ]
    },
    {
     "name": "stdout",
     "output_type": "stream",
     "text": [
      "#Param replaced: 11, max distortion: 42.838568"
     ]
    },
    {
     "name": "stdout",
     "output_type": "stream",
     "text": [
      "\n"
     ]
    },
    {
     "name": "stdout",
     "output_type": "stream",
     "text": [
      "#Param replaced: 2, max distortion: 42.838568"
     ]
    },
    {
     "name": "stdout",
     "output_type": "stream",
     "text": [
      "\n"
     ]
    },
    {
     "name": "stdout",
     "output_type": "stream",
     "text": [
      "#Param replaced: 1, max distortion: 42.838568"
     ]
    },
    {
     "name": "stdout",
     "output_type": "stream",
     "text": [
      "\n"
     ]
    },
    {
     "name": "stdout",
     "output_type": "stream",
     "text": [
      "#Param replaced: 0, max distortion: 42.838568"
     ]
    },
    {
     "name": "stdout",
     "output_type": "stream",
     "text": [
      "\n"
     ]
    },
    {
     "name": "stdout",
     "output_type": "stream",
     "text": [
      "Max local distortion after postprocessing: 4.283856764255447e+01\n",
      "Done.\n",
      "##############################\n",
      "Time elapsed from last time log: 26.3 seconds\n",
      "Total time elapsed: 124.1 seconds\n",
      "##############################\n"
     ]
    },
    {
     "name": "stdout",
     "output_type": "stream",
     "text": [
      "Halving objects.\n"
     ]
    },
    {
     "name": "stdout",
     "output_type": "stream",
     "text": [
      "Done.\n",
      "##############################\n",
      "Time elapsed from last time log: 18.4 seconds\n",
      "Total time elapsed: 166.6 seconds\n",
      "##############################\n",
      "Max local distortion = 37.401837929333865\n"
     ]
    },
    {
     "name": "stdout",
     "output_type": "stream",
     "text": [
      "Constructing intermediate views.\n",
      "eta = 2.\n",
      "# non-empty views with sz < 2 = 10426\n",
      "#nodes in views with sz < 2 = 10426\n"
     ]
    },
    {
     "name": "stderr",
     "output_type": "stream",
     "text": [
      "/home/dhruv/codebase/pyLDLE2/docs/ldle_nbks/doubled_manifolds/../../../pyLDLE2/intermed_views_.py:122: VisibleDeprecationWarning: Creating an ndarray from ragged nested sequences (which is a list-or-tuple of lists-or-tuples-or ndarrays with different lengths or shapes) is deprecated. If you meant to do this, you must specify 'dtype=object' when creating the ndarray.\n",
      "  neigh_ind = np.array(neigh_ind)\n"
     ]
    },
    {
     "name": "stdout",
     "output_type": "stream",
     "text": [
      "Costs computed when eta = 2.\n",
      "##############################\n",
      "Time elapsed from last time log: 17.2 seconds\n",
      "Total time elapsed: 18.8 seconds\n",
      "##############################\n"
     ]
    },
    {
     "name": "stdout",
     "output_type": "stream",
     "text": [
      "Remaining #nodes in views with sz < 2 = 0\n",
      "Done with eta = 2.\n",
      "##############################\n",
      "Time elapsed from last time log: 277.3 seconds\n",
      "Total time elapsed: 296.1 seconds\n",
      "##############################\n",
      "eta = 3.\n",
      "# non-empty views with sz < 3 = 844\n",
      "#nodes in views with sz < 3 = 1688\n"
     ]
    },
    {
     "name": "stdout",
     "output_type": "stream",
     "text": [
      "Costs computed when eta = 3.\n",
      "##############################\n",
      "Time elapsed from last time log: 7.8 seconds\n",
      "Total time elapsed: 303.9 seconds\n",
      "##############################\n"
     ]
    },
    {
     "name": "stdout",
     "output_type": "stream",
     "text": [
      "Remaining #nodes in views with sz < 3 = 0\n",
      "Done with eta = 3.\n",
      "##############################\n",
      "Time elapsed from last time log: 68.9 seconds\n",
      "Total time elapsed: 372.8 seconds\n",
      "##############################\n",
      "eta = 4.\n",
      "# non-empty views with sz < 4 = 386\n",
      "#nodes in views with sz < 4 = 1158\n"
     ]
    },
    {
     "name": "stdout",
     "output_type": "stream",
     "text": [
      "Costs computed when eta = 4.\n",
      "##############################\n",
      "Time elapsed from last time log: 5.8 seconds\n",
      "Total time elapsed: 378.7 seconds\n",
      "##############################\n"
     ]
    },
    {
     "name": "stdout",
     "output_type": "stream",
     "text": [
      "Remaining #nodes in views with sz < 4 = 0\n",
      "Done with eta = 4.\n",
      "##############################\n",
      "Time elapsed from last time log: 43.2 seconds\n",
      "Total time elapsed: 421.8 seconds\n",
      "##############################\n",
      "eta = 5.\n",
      "# non-empty views with sz < 5 = 368\n",
      "#nodes in views with sz < 5 = 1472\n"
     ]
    },
    {
     "name": "stdout",
     "output_type": "stream",
     "text": [
      "Costs computed when eta = 5.\n",
      "##############################\n",
      "Time elapsed from last time log: 8.7 seconds\n",
      "Total time elapsed: 430.5 seconds\n",
      "##############################\n"
     ]
    },
    {
     "name": "stdout",
     "output_type": "stream",
     "text": [
      "Remaining #nodes in views with sz < 5 = 0\n",
      "Done with eta = 5.\n",
      "##############################\n",
      "Time elapsed from last time log: 74.0 seconds\n",
      "Total time elapsed: 504.6 seconds\n",
      "##############################\n",
      "Pruning and cleaning up.\n"
     ]
    },
    {
     "name": "stdout",
     "output_type": "stream",
     "text": [
      "Done.\n",
      "##############################\n",
      "Time elapsed from last time log: 2.1 seconds\n",
      "Total time elapsed: 506.7 seconds\n",
      "##############################\n",
      "After clustering, max distortion is 19.788094\n",
      "Ambiguous overlaps checked for 0 intermediate views\n"
     ]
    },
    {
     "name": "stdout",
     "output_type": "stream",
     "text": [
      "Ambiguous overlaps checked for 313 intermediate views\n"
     ]
    },
    {
     "name": "stdout",
     "output_type": "stream",
     "text": [
      "Ambiguous overlaps checked for 626 intermediate views\n"
     ]
    },
    {
     "name": "stdout",
     "output_type": "stream",
     "text": [
      "Ambiguous overlaps checked for 939 intermediate views\n"
     ]
    },
    {
     "name": "stdout",
     "output_type": "stream",
     "text": [
      "Ambiguous overlaps checked for 1252 intermediate views\n",
      "Ambiguous overlaps checked for 1254 points\n",
      "Seq of intermediate views and their predecessors computed.\n",
      "No. of connected components = 1\n",
      "Computing initial embedding using: procrustes algorithm\n",
      "##############################\n",
      "Time elapsed from last time log: 17.0 seconds\n",
      "Total time elapsed: 17.0 seconds\n",
      "##############################\n"
     ]
    },
    {
     "name": "stdout",
     "output_type": "stream",
     "text": [
      "Initial alignment of 313 views completed\n"
     ]
    },
    {
     "name": "stdout",
     "output_type": "stream",
     "text": [
      "Initial alignment of 626 views completed\n"
     ]
    },
    {
     "name": "stdout",
     "output_type": "stream",
     "text": [
      "Initial alignment of 939 views completed\n"
     ]
    },
    {
     "name": "stdout",
     "output_type": "stream",
     "text": [
      "Initial alignment of 1252 views completed\n"
     ]
    },
    {
     "name": "stdout",
     "output_type": "stream",
     "text": [
      "Embedding initialized.\n",
      "##############################\n",
      "Time elapsed from last time log: 3.1 seconds\n",
      "Total time elapsed: 20.0 seconds\n",
      "##############################\n"
     ]
    },
    {
     "data": {
      "image/png": "[encoded data removed]",
      "text/plain": [
       "<Figure size 432x288 with 1 Axes>"
      ]
     },
     "metadata": {},
     "output_type": "display_data"
    },
    {
     "data": {
      "text/plain": [
       "<Figure size 432x288 with 0 Axes>"
      ]
     },
     "metadata": {},
     "output_type": "display_data"
    },
    {
     "name": "stdout",
     "output_type": "stream",
     "text": [
      "Refining with rgd algorithm for 100 iterations.\n",
      "Refinement iteration: 0\n",
      "##############################\n",
      "Time elapsed from last time log: 0.0 seconds\n",
      "Total time elapsed: 23.2 seconds\n",
      "##############################\n"
     ]
    },
    {
     "name": "stdout",
     "output_type": "stream",
     "text": [
      "Computing Pseudoinverse of a matrix of L of size 11680 multiplied with B\n"
     ]
    },
    {
     "name": "stdout",
     "output_type": "stream",
     "text": [
      "Descent starts\n"
     ]
    },
    {
     "name": "stdout",
     "output_type": "stream",
     "text": [
      "Done.\n",
      "##############################\n",
      "Time elapsed from last time log: 26.4 seconds\n",
      "Total time elapsed: 49.5 seconds\n",
      "##############################\n"
     ]
    },
    {
     "data": {
      "image/png": "[encoded data removed]",
      "text/plain": [
       "<Figure size 432x288 with 1 Axes>"
      ]
     },
     "metadata": {},
     "output_type": "display_data"
    },
    {
     "data": {
      "text/plain": [
       "<Figure size 432x288 with 0 Axes>"
      ]
     },
     "metadata": {},
     "output_type": "display_data"
    },
    {
     "name": "stdout",
     "output_type": "stream",
     "text": [
      "Refining with rgd algorithm for 100 iterations.\n",
      "Refinement iteration: 1\n",
      "##############################\n",
      "Time elapsed from last time log: 0.0 seconds\n",
      "Total time elapsed: 51.8 seconds\n",
      "##############################\n"
     ]
    },
    {
     "name": "stdout",
     "output_type": "stream",
     "text": [
      "Computing Pseudoinverse of a matrix of L of size 11680 multiplied with B\n"
     ]
    },
    {
     "name": "stdout",
     "output_type": "stream",
     "text": [
      "Descent starts\n"
     ]
    },
    {
     "name": "stdout",
     "output_type": "stream",
     "text": [
      "Done.\n",
      "##############################\n",
      "Time elapsed from last time log: 28.8 seconds\n",
      "Total time elapsed: 80.6 seconds\n",
      "##############################\n"
     ]
    },
    {
     "data": {
      "image/png": "[encoded data removed]",
      "text/plain": [
       "<Figure size 432x288 with 1 Axes>"
      ]
     },
     "metadata": {},
     "output_type": "display_data"
    },
    {
     "data": {
      "text/plain": [
       "<Figure size 432x288 with 0 Axes>"
      ]
     },
     "metadata": {},
     "output_type": "display_data"
    },
    {
     "name": "stdout",
     "output_type": "stream",
     "text": [
      "Refining with rgd algorithm for 100 iterations.\n",
      "Refinement iteration: 2\n",
      "##############################\n",
      "Time elapsed from last time log: 0.0 seconds\n",
      "Total time elapsed: 82.3 seconds\n",
      "##############################\n"
     ]
    },
    {
     "name": "stdout",
     "output_type": "stream",
     "text": [
      "Computing Pseudoinverse of a matrix of L of size 11680 multiplied with B\n"
     ]
    },
    {
     "name": "stdout",
     "output_type": "stream",
     "text": [
      "Descent starts\n"
     ]
    },
    {
     "name": "stdout",
     "output_type": "stream",
     "text": [
      "Done.\n",
      "##############################\n",
      "Time elapsed from last time log: 30.9 seconds\n",
      "Total time elapsed: 113.2 seconds\n",
      "##############################\n"
     ]
    },
    {
     "data": {
      "image/png": "[encoded data removed]",
      "text/plain": [
       "<Figure size 432x288 with 1 Axes>"
      ]
     },
     "metadata": {},
     "output_type": "display_data"
    },
    {
     "data": {
      "text/plain": [
       "<Figure size 432x288 with 0 Axes>"
      ]
     },
     "metadata": {},
     "output_type": "display_data"
    },
    {
     "name": "stdout",
     "output_type": "stream",
     "text": [
      "Refining with rgd algorithm for 100 iterations.\n",
      "Refinement iteration: 3\n",
      "##############################\n",
      "Time elapsed from last time log: 0.0 seconds\n",
      "Total time elapsed: 115.0 seconds\n",
      "##############################\n"
     ]
    },
    {
     "name": "stdout",
     "output_type": "stream",
     "text": [
      "Computing Pseudoinverse of a matrix of L of size 11680 multiplied with B\n"
     ]
    },
    {
     "name": "stdout",
     "output_type": "stream",
     "text": [
      "Descent starts\n"
     ]
    },
    {
     "name": "stdout",
     "output_type": "stream",
     "text": [
      "Done.\n",
      "##############################\n",
      "Time elapsed from last time log: 24.3 seconds\n",
      "Total time elapsed: 139.3 seconds\n",
      "##############################\n"
     ]
    },
    {
     "data": {
      "image/png": "[encoded data removed]",
      "text/plain": [
       "<Figure size 432x288 with 1 Axes>"
      ]
     },
     "metadata": {},
     "output_type": "display_data"
    },
    {
     "data": {
      "text/plain": [
       "<Figure size 432x288 with 0 Axes>"
      ]
     },
     "metadata": {},
     "output_type": "display_data"
    },
    {
     "name": "stdout",
     "output_type": "stream",
     "text": [
      "Refining with rgd algorithm for 100 iterations.\n",
      "Refinement iteration: 4\n",
      "##############################\n",
      "Time elapsed from last time log: 0.0 seconds\n",
      "Total time elapsed: 141.4 seconds\n",
      "##############################\n"
     ]
    },
    {
     "name": "stdout",
     "output_type": "stream",
     "text": [
      "Computing Pseudoinverse of a matrix of L of size 11680 multiplied with B\n"
     ]
    },
    {
     "name": "stdout",
     "output_type": "stream",
     "text": [
      "Descent starts\n"
     ]
    },
    {
     "name": "stdout",
     "output_type": "stream",
     "text": [
      "Done.\n",
      "##############################\n",
      "Time elapsed from last time log: 22.1 seconds\n",
      "Total time elapsed: 163.5 seconds\n",
      "##############################\n"
     ]
    },
    {
     "data": {
      "image/png": "[encoded data removed]",
      "text/plain": [
       "<Figure size 432x288 with 1 Axes>"
      ]
     },
     "metadata": {},
     "output_type": "display_data"
    },
    {
     "data": {
      "text/plain": [
       "<Figure size 432x288 with 0 Axes>"
      ]
     },
     "metadata": {},
     "output_type": "display_data"
    },
    {
     "name": "stdout",
     "output_type": "stream",
     "text": [
      "Refining with rgd algorithm for 100 iterations.\n",
      "Refinement iteration: 5\n",
      "##############################\n",
      "Time elapsed from last time log: 0.0 seconds\n",
      "Total time elapsed: 165.9 seconds\n",
      "##############################\n"
     ]
    },
    {
     "name": "stdout",
     "output_type": "stream",
     "text": [
      "Computing Pseudoinverse of a matrix of L of size 11680 multiplied with B\n"
     ]
    },
    {
     "name": "stdout",
     "output_type": "stream",
     "text": [
      "Descent starts\n"
     ]
    },
    {
     "name": "stdout",
     "output_type": "stream",
     "text": [
      "Done.\n",
      "##############################\n",
      "Time elapsed from last time log: 29.7 seconds\n",
      "Total time elapsed: 195.6 seconds\n",
      "##############################\n"
     ]
    },
    {
     "data": {
      "image/png": "[encoded data removed]",
      "text/plain": [
       "<Figure size 432x288 with 1 Axes>"
      ]
     },
     "metadata": {},
     "output_type": "display_data"
    },
    {
     "data": {
      "text/plain": [
       "<Figure size 432x288 with 0 Axes>"
      ]
     },
     "metadata": {},
     "output_type": "display_data"
    },
    {
     "name": "stdout",
     "output_type": "stream",
     "text": [
      "Refining with rgd algorithm for 100 iterations.\n",
      "Refinement iteration: 6\n",
      "##############################\n",
      "Time elapsed from last time log: 0.0 seconds\n",
      "Total time elapsed: 197.5 seconds\n",
      "##############################\n"
     ]
    },
    {
     "name": "stdout",
     "output_type": "stream",
     "text": [
      "Computing Pseudoinverse of a matrix of L of size 11680 multiplied with B\n"
     ]
    },
    {
     "name": "stdout",
     "output_type": "stream",
     "text": [
      "Descent starts\n"
     ]
    },
    {
     "name": "stdout",
     "output_type": "stream",
     "text": [
      "Done.\n",
      "##############################\n",
      "Time elapsed from last time log: 24.8 seconds\n",
      "Total time elapsed: 222.3 seconds\n",
      "##############################\n"
     ]
    },
    {
     "data": {
      "image/png": "[encoded data removed]",
      "text/plain": [
       "<Figure size 432x288 with 1 Axes>"
      ]
     },
     "metadata": {},
     "output_type": "display_data"
    },
    {
     "data": {
      "text/plain": [
       "<Figure size 432x288 with 0 Axes>"
      ]
     },
     "metadata": {},
     "output_type": "display_data"
    },
    {
     "name": "stdout",
     "output_type": "stream",
     "text": [
      "Refining with rgd algorithm for 100 iterations.\n",
      "Refinement iteration: 7\n",
      "##############################\n",
      "Time elapsed from last time log: 0.0 seconds\n",
      "Total time elapsed: 224.2 seconds\n",
      "##############################\n"
     ]
    },
    {
     "name": "stdout",
     "output_type": "stream",
     "text": [
      "Computing Pseudoinverse of a matrix of L of size 11680 multiplied with B\n"
     ]
    },
    {
     "name": "stdout",
     "output_type": "stream",
     "text": [
      "Descent starts\n"
     ]
    },
    {
     "name": "stdout",
     "output_type": "stream",
     "text": [
      "Done.\n",
      "##############################\n",
      "Time elapsed from last time log: 30.6 seconds\n",
      "Total time elapsed: 254.8 seconds\n",
      "##############################\n"
     ]
    },
    {
     "data": {
      "image/png": "[encoded data removed]",
      "text/plain": [
       "<Figure size 432x288 with 1 Axes>"
      ]
     },
     "metadata": {},
     "output_type": "display_data"
    },
    {
     "data": {
      "text/plain": [
       "<Figure size 432x288 with 0 Axes>"
      ]
     },
     "metadata": {},
     "output_type": "display_data"
    },
    {
     "name": "stdout",
     "output_type": "stream",
     "text": [
      "Refining with rgd algorithm for 100 iterations.\n",
      "Refinement iteration: 8\n",
      "##############################\n",
      "Time elapsed from last time log: 0.0 seconds\n",
      "Total time elapsed: 256.8 seconds\n",
      "##############################\n"
     ]
    },
    {
     "name": "stdout",
     "output_type": "stream",
     "text": [
      "Computing Pseudoinverse of a matrix of L of size 11680 multiplied with B\n"
     ]
    },
    {
     "name": "stdout",
     "output_type": "stream",
     "text": [
      "Descent starts\n"
     ]
    },
    {
     "name": "stdout",
     "output_type": "stream",
     "text": [
      "Done.\n",
      "##############################\n",
      "Time elapsed from last time log: 17.5 seconds\n",
      "Total time elapsed: 274.3 seconds\n",
      "##############################\n"
     ]
    },
    {
     "data": {
      "image/png": "[encoded data removed]",
      "text/plain": [
       "<Figure size 432x288 with 1 Axes>"
      ]
     },
     "metadata": {},
     "output_type": "display_data"
    },
    {
     "data": {
      "text/plain": [
       "<Figure size 432x288 with 0 Axes>"
      ]
     },
     "metadata": {},
     "output_type": "display_data"
    },
    {
     "name": "stdout",
     "output_type": "stream",
     "text": [
      "Refining with rgd algorithm for 100 iterations.\n",
      "Refinement iteration: 9\n",
      "##############################\n",
      "Time elapsed from last time log: 0.0 seconds\n",
      "Total time elapsed: 275.4 seconds\n",
      "##############################\n"
     ]
    },
    {
     "name": "stdout",
     "output_type": "stream",
     "text": [
      "Computing Pseudoinverse of a matrix of L of size 11680 multiplied with B\n"
     ]
    },
    {
     "name": "stdout",
     "output_type": "stream",
     "text": [
      "Descent starts\n"
     ]
    },
    {
     "name": "stdout",
     "output_type": "stream",
     "text": [
      "Done.\n",
      "##############################\n",
      "Time elapsed from last time log: 17.2 seconds\n",
      "Total time elapsed: 292.6 seconds\n",
      "##############################\n"
     ]
    },
    {
     "data": {
      "image/png": "[encoded data removed]",
      "text/plain": [
       "<Figure size 432x288 with 1 Axes>"
      ]
     },
     "metadata": {},
     "output_type": "display_data"
    },
    {
     "data": {
      "text/plain": [
       "<Figure size 432x288 with 0 Axes>"
      ]
     },
     "metadata": {},
     "output_type": "display_data"
    },
    {
     "name": "stdout",
     "output_type": "stream",
     "text": [
      "Refining with rgd algorithm for 100 iterations.\n",
      "Refinement iteration: 10\n",
      "##############################\n",
      "Time elapsed from last time log: 0.0 seconds\n",
      "Total time elapsed: 294.4 seconds\n",
      "##############################\n"
     ]
    },
    {
     "name": "stdout",
     "output_type": "stream",
     "text": [
      "Computing Pseudoinverse of a matrix of L of size 11680 multiplied with B\n"
     ]
    },
    {
     "name": "stdout",
     "output_type": "stream",
     "text": [
      "Descent starts\n"
     ]
    },
    {
     "name": "stdout",
     "output_type": "stream",
     "text": [
      "Done.\n",
      "##############################\n",
      "Time elapsed from last time log: 29.4 seconds\n",
      "Total time elapsed: 323.8 seconds\n",
      "##############################\n"
     ]
    },
    {
     "data": {
      "image/png": "[encoded data removed]",
      "text/plain": [
       "<Figure size 432x288 with 1 Axes>"
      ]
     },
     "metadata": {},
     "output_type": "display_data"
    },
    {
     "data": {
      "text/plain": [
       "<Figure size 432x288 with 0 Axes>"
      ]
     },
     "metadata": {},
     "output_type": "display_data"
    },
    {
     "name": "stdout",
     "output_type": "stream",
     "text": [
      "Refining with rgd algorithm for 100 iterations.\n",
      "Refinement iteration: 11\n",
      "##############################\n",
      "Time elapsed from last time log: 0.0 seconds\n",
      "Total time elapsed: 326.3 seconds\n",
      "##############################\n"
     ]
    },
    {
     "name": "stdout",
     "output_type": "stream",
     "text": [
      "Computing Pseudoinverse of a matrix of L of size 11680 multiplied with B\n"
     ]
    },
    {
     "name": "stdout",
     "output_type": "stream",
     "text": [
      "Descent starts\n"
     ]
    },
    {
     "name": "stdout",
     "output_type": "stream",
     "text": [
      "Done.\n",
      "##############################\n",
      "Time elapsed from last time log: 28.4 seconds\n",
      "Total time elapsed: 354.6 seconds\n",
      "##############################\n"
     ]
    },
    {
     "data": {
      "image/png": "[encoded data removed]",
      "text/plain": [
       "<Figure size 432x288 with 1 Axes>"
      ]
     },
     "metadata": {},
     "output_type": "display_data"
    },
    {
     "data": {
      "text/plain": [
       "<Figure size 432x288 with 0 Axes>"
      ]
     },
     "metadata": {},
     "output_type": "display_data"
    },
    {
     "name": "stdout",
     "output_type": "stream",
     "text": [
      "Refining with rgd algorithm for 100 iterations.\n",
      "Refinement iteration: 12\n",
      "##############################\n",
      "Time elapsed from last time log: 0.0 seconds\n",
      "Total time elapsed: 356.5 seconds\n",
      "##############################\n"
     ]
    },
    {
     "name": "stdout",
     "output_type": "stream",
     "text": [
      "Computing Pseudoinverse of a matrix of L of size 11680 multiplied with B\n"
     ]
    },
    {
     "name": "stdout",
     "output_type": "stream",
     "text": [
      "Descent starts\n"
     ]
    },
    {
     "name": "stdout",
     "output_type": "stream",
     "text": [
      "Done.\n",
      "##############################\n",
      "Time elapsed from last time log: 28.4 seconds\n",
      "Total time elapsed: 384.9 seconds\n",
      "##############################\n"
     ]
    },
    {
     "data": {
      "image/png": "[encoded data removed]",
      "text/plain": [
       "<Figure size 432x288 with 1 Axes>"
      ]
     },
     "metadata": {},
     "output_type": "display_data"
    },
    {
     "data": {
      "text/plain": [
       "<Figure size 432x288 with 0 Axes>"
      ]
     },
     "metadata": {},
     "output_type": "display_data"
    },
    {
     "name": "stdout",
     "output_type": "stream",
     "text": [
      "Refining with rgd algorithm for 100 iterations.\n",
      "Refinement iteration: 13\n",
      "##############################\n",
      "Time elapsed from last time log: 0.0 seconds\n",
      "Total time elapsed: 386.9 seconds\n",
      "##############################\n"
     ]
    },
    {
     "name": "stdout",
     "output_type": "stream",
     "text": [
      "Computing Pseudoinverse of a matrix of L of size 11680 multiplied with B\n"
     ]
    },
    {
     "name": "stdout",
     "output_type": "stream",
     "text": [
      "Descent starts\n"
     ]
    },
    {
     "name": "stdout",
     "output_type": "stream",
     "text": [
      "Done.\n",
      "##############################\n",
      "Time elapsed from last time log: 23.6 seconds\n",
      "Total time elapsed: 410.5 seconds\n",
      "##############################\n"
     ]
    },
    {
     "data": {
      "image/png": "[encoded data removed]",
      "text/plain": [
       "<Figure size 432x288 with 1 Axes>"
      ]
     },
     "metadata": {},
     "output_type": "display_data"
    },
    {
     "data": {
      "text/plain": [
       "<Figure size 432x288 with 0 Axes>"
      ]
     },
     "metadata": {},
     "output_type": "display_data"
    },
    {
     "name": "stdout",
     "output_type": "stream",
     "text": [
      "Refining with rgd algorithm for 100 iterations.\n",
      "Refinement iteration: 14\n",
      "##############################\n",
      "Time elapsed from last time log: 0.0 seconds\n",
      "Total time elapsed: 412.3 seconds\n",
      "##############################\n"
     ]
    },
    {
     "name": "stdout",
     "output_type": "stream",
     "text": [
      "Computing Pseudoinverse of a matrix of L of size 11680 multiplied with B\n"
     ]
    },
    {
     "name": "stdout",
     "output_type": "stream",
     "text": [
      "Descent starts\n"
     ]
    },
    {
     "name": "stdout",
     "output_type": "stream",
     "text": [
      "Done.\n",
      "##############################\n",
      "Time elapsed from last time log: 25.3 seconds\n",
      "Total time elapsed: 437.7 seconds\n",
      "##############################\n"
     ]
    },
    {
     "data": {
      "image/png": "[encoded data removed]",
      "text/plain": [
       "<Figure size 432x288 with 1 Axes>"
      ]
     },
     "metadata": {},
     "output_type": "display_data"
    },
    {
     "data": {
      "text/plain": [
       "<Figure size 432x288 with 0 Axes>"
      ]
     },
     "metadata": {},
     "output_type": "display_data"
    },
    {
     "name": "stdout",
     "output_type": "stream",
     "text": [
      "Refining with rgd algorithm for 100 iterations.\n",
      "Refinement iteration: 15\n",
      "##############################\n",
      "Time elapsed from last time log: 0.0 seconds\n",
      "Total time elapsed: 440.0 seconds\n",
      "##############################\n"
     ]
    },
    {
     "name": "stdout",
     "output_type": "stream",
     "text": [
      "Computing Pseudoinverse of a matrix of L of size 11680 multiplied with B\n"
     ]
    },
    {
     "name": "stdout",
     "output_type": "stream",
     "text": [
      "Descent starts\n"
     ]
    },
    {
     "name": "stdout",
     "output_type": "stream",
     "text": [
      "Done.\n",
      "##############################\n",
      "Time elapsed from last time log: 34.0 seconds\n",
      "Total time elapsed: 474.0 seconds\n",
      "##############################\n"
     ]
    },
    {
     "data": {
      "image/png": "[encoded data removed]",
      "text/plain": [
       "<Figure size 432x288 with 1 Axes>"
      ]
     },
     "metadata": {},
     "output_type": "display_data"
    },
    {
     "data": {
      "text/plain": [
       "<Figure size 432x288 with 0 Axes>"
      ]
     },
     "metadata": {},
     "output_type": "display_data"
    },
    {
     "name": "stdout",
     "output_type": "stream",
     "text": [
      "Refining with rgd algorithm for 100 iterations.\n",
      "Refinement iteration: 16\n",
      "##############################\n",
      "Time elapsed from last time log: 0.0 seconds\n",
      "Total time elapsed: 476.5 seconds\n",
      "##############################\n"
     ]
    },
    {
     "name": "stdout",
     "output_type": "stream",
     "text": [
      "Computing Pseudoinverse of a matrix of L of size 11680 multiplied with B\n"
     ]
    },
    {
     "name": "stdout",
     "output_type": "stream",
     "text": [
      "Descent starts\n"
     ]
    },
    {
     "name": "stdout",
     "output_type": "stream",
     "text": [
      "Done.\n",
      "##############################\n",
      "Time elapsed from last time log: 28.2 seconds\n",
      "Total time elapsed: 504.8 seconds\n",
      "##############################\n"
     ]
    },
    {
     "data": {
      "image/png": "[encoded data removed]",
      "text/plain": [
       "<Figure size 432x288 with 1 Axes>"
      ]
     },
     "metadata": {},
     "output_type": "display_data"
    },
    {
     "data": {
      "text/plain": [
       "<Figure size 432x288 with 0 Axes>"
      ]
     },
     "metadata": {},
     "output_type": "display_data"
    },
    {
     "name": "stdout",
     "output_type": "stream",
     "text": [
      "Refining with rgd algorithm for 100 iterations.\n",
      "Refinement iteration: 17\n",
      "##############################\n",
      "Time elapsed from last time log: 0.0 seconds\n",
      "Total time elapsed: 507.2 seconds\n",
      "##############################\n"
     ]
    },
    {
     "name": "stdout",
     "output_type": "stream",
     "text": [
      "Computing Pseudoinverse of a matrix of L of size 11680 multiplied with B\n"
     ]
    },
    {
     "name": "stdout",
     "output_type": "stream",
     "text": [
      "Descent starts\n"
     ]
    },
    {
     "name": "stdout",
     "output_type": "stream",
     "text": [
      "Done.\n",
      "##############################\n",
      "Time elapsed from last time log: 32.1 seconds\n",
      "Total time elapsed: 539.3 seconds\n",
      "##############################\n"
     ]
    },
    {
     "data": {
      "image/png": "[encoded data removed]",
      "text/plain": [
       "<Figure size 432x288 with 1 Axes>"
      ]
     },
     "metadata": {},
     "output_type": "display_data"
    },
    {
     "data": {
      "text/plain": [
       "<Figure size 432x288 with 0 Axes>"
      ]
     },
     "metadata": {},
     "output_type": "display_data"
    },
    {
     "name": "stdout",
     "output_type": "stream",
     "text": [
      "Refining with rgd algorithm for 100 iterations.\n",
      "Refinement iteration: 18\n",
      "##############################\n",
      "Time elapsed from last time log: 0.0 seconds\n",
      "Total time elapsed: 541.3 seconds\n",
      "##############################\n"
     ]
    },
    {
     "name": "stdout",
     "output_type": "stream",
     "text": [
      "Computing Pseudoinverse of a matrix of L of size 11680 multiplied with B\n"
     ]
    },
    {
     "name": "stdout",
     "output_type": "stream",
     "text": [
      "Descent starts\n"
     ]
    },
    {
     "name": "stdout",
     "output_type": "stream",
     "text": [
      "Done.\n",
      "##############################\n",
      "Time elapsed from last time log: 37.6 seconds\n",
      "Total time elapsed: 579.0 seconds\n",
      "##############################\n"
     ]
    },
    {
     "data": {
      "image/png": "[encoded data removed]",
      "text/plain": [
       "<Figure size 432x288 with 1 Axes>"
      ]
     },
     "metadata": {},
     "output_type": "display_data"
    },
    {
     "data": {
      "text/plain": [
       "<Figure size 432x288 with 0 Axes>"
      ]
     },
     "metadata": {},
     "output_type": "display_data"
    },
    {
     "name": "stdout",
     "output_type": "stream",
     "text": [
      "Refining with rgd algorithm for 100 iterations.\n",
      "Refinement iteration: 19\n",
      "##############################\n",
      "Time elapsed from last time log: 0.0 seconds\n",
      "Total time elapsed: 581.1 seconds\n",
      "##############################\n"
     ]
    },
    {
     "name": "stdout",
     "output_type": "stream",
     "text": [
      "Computing Pseudoinverse of a matrix of L of size 11680 multiplied with B\n"
     ]
    },
    {
     "name": "stdout",
     "output_type": "stream",
     "text": [
      "Descent starts\n"
     ]
    },
    {
     "name": "stdout",
     "output_type": "stream",
     "text": [
      "Done.\n",
      "##############################\n",
      "Time elapsed from last time log: 25.8 seconds\n",
      "Total time elapsed: 606.8 seconds\n",
      "##############################\n",
      "Computing error.\n"
     ]
    },
    {
     "name": "stdout",
     "output_type": "stream",
     "text": [
      "Computing Pseudoinverse of a matrix of L of size 11680 multiplied with B\n"
     ]
    },
    {
     "name": "stdout",
     "output_type": "stream",
     "text": [
      "Alignment error: 0.371\n",
      "##############################\n",
      "Time elapsed from last time log: 18.9 seconds\n",
      "Total time elapsed: 625.7 seconds\n",
      "##############################\n"
     ]
    },
    {
     "data": {
      "image/png": "[encoded data removed]",
      "text/plain": [
       "<Figure size 432x288 with 1 Axes>"
      ]
     },
     "metadata": {},
     "output_type": "display_data"
    },
    {
     "data": {
      "text/plain": [
       "<Figure size 432x288 with 0 Axes>"
      ]
     },
     "metadata": {},
     "output_type": "display_data"
    },
    {
     "data": {
      "text/plain": [
       "array([[ 2.01629171, -0.0871325 ],\n",
       "       [ 2.02171534, -0.08844722],\n",
       "       [ 2.0154146 , -0.08168964],\n",
       "       ...,\n",
       "       [-2.12535467,  0.12588779],\n",
       "       [-2.1257941 ,  0.13003488],\n",
       "       [-2.12484501,  0.13103667]])"
      ]
     },
     "execution_count": 7,
     "metadata": {},
     "output_type": "execute_result"
    }
   ],
   "source": [
    "ldle.fit(X=X, ddX=ddX)"
   ]
  },
  {
   "cell_type": "code",
   "execution_count": 8,
   "id": "c7381785",
   "metadata": {
    "execution": {
     "iopub.execute_input": "2022-08-03T00:08:31.036493Z",
     "iopub.status.busy": "2022-08-03T00:08:31.035651Z",
     "iopub.status.idle": "2022-08-03T00:08:31.492830Z",
     "shell.execute_reply": "2022-08-03T00:08:31.492055Z"
    }
   },
   "outputs": [
    {
     "data": {
      "image/png": "[encoded data removed]",
      "text/plain": [
       "<Figure size 432x288 with 1 Axes>"
      ]
     },
     "metadata": {},
     "output_type": "display_data"
    },
    {
     "data": {
      "text/plain": [
       "<Figure size 432x288 with 0 Axes>"
      ]
     },
     "metadata": {},
     "output_type": "display_data"
    }
   ],
   "source": [
    "ldle.GlobalViews.vis_embedding(ldle.GlobalViews.y_final, ldle.vis, ldle.vis_opts,\n",
    "                               ldle.GlobalViews.color_of_pts_on_tear_final,\n",
    "                               title='Final global embedding', )"
   ]
  },
  {
   "cell_type": "code",
   "execution_count": 9,
   "id": "4d630749",
   "metadata": {
    "execution": {
     "iopub.execute_input": "2022-08-03T00:08:31.508549Z",
     "iopub.status.busy": "2022-08-03T00:08:31.504490Z",
     "iopub.status.idle": "2022-08-03T00:08:38.898513Z",
     "shell.execute_reply": "2022-08-03T00:08:38.897792Z"
    }
   },
   "outputs": [
    {
     "name": "stdout",
     "output_type": "stream",
     "text": [
      "Saved ../data/pyLDLE2/doubled_rectangle//ldle.dat\n"
     ]
    }
   ],
   "source": [
    "# save for further visualization\n",
    "import pickle\n",
    "save_path = save_dir_root+'/ldle.dat'\n",
    "with open(save_path, \"wb\") as f:\n",
    "    pickle.dump([X, labelsMat, ldle], f)\n",
    "print('Saved', save_path)"
   ]
  },
  {
   "cell_type": "code",
   "execution_count": null,
   "id": "41ee3a2b",
   "metadata": {},
   "outputs": [],
   "source": []
  }
 ],
 "metadata": {
  "kernelspec": {
   "display_name": "Python 3 (ipykernel)",
   "language": "python",
   "name": "python3"
  },
  "language_info": {
   "codemirror_mode": {
    "name": "ipython",
    "version": 3
   },
   "file_extension": ".py",
   "mimetype": "text/x-python",
   "name": "python",
   "nbconvert_exporter": "python",
   "pygments_lexer": "ipython3",
   "version": "3.9.12"
  }
 },
 "nbformat": 4,
 "nbformat_minor": 5
}
