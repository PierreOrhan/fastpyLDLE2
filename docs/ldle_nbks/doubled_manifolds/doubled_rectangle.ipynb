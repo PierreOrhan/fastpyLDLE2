{
 "cells": [
  {
   "cell_type": "markdown",
   "id": "2bf0f75c",
   "metadata": {},
   "source": [
    "### Doubled rectangle"
   ]
  },
  {
   "cell_type": "code",
   "execution_count": 1,
   "id": "ff81deb0",
   "metadata": {},
   "outputs": [],
   "source": [
    "%matplotlib inline"
   ]
  },
  {
   "cell_type": "code",
   "execution_count": 2,
   "id": "a8d77738",
   "metadata": {},
   "outputs": [],
   "source": [
    "# Not really required\n",
    "import sys\n",
    "sys.path.insert(0, '../../..')"
   ]
  },
  {
   "cell_type": "code",
   "execution_count": 3,
   "id": "ad5119aa",
   "metadata": {},
   "outputs": [
    {
     "name": "stdout",
     "output_type": "stream",
     "text": [
      "matplotlib.get_backend() =  module://matplotlib_inline.backend_inline\n"
     ]
    }
   ],
   "source": [
    "from pyLDLE2 import datasets\n",
    "from pyLDLE2 import ldle_"
   ]
  },
  {
   "cell_type": "code",
   "execution_count": 4,
   "id": "777aa611",
   "metadata": {},
   "outputs": [],
   "source": [
    "save_dir_root = '../data/pyLDLE2/doubled_rectangle/'"
   ]
  },
  {
   "cell_type": "code",
   "execution_count": 6,
   "id": "55e389bc",
   "metadata": {},
   "outputs": [
    {
     "name": "stdout",
     "output_type": "stream",
     "text": [
      "X.shape =  (10426, 2)\n"
     ]
    }
   ],
   "source": [
    "X, labelsMat, ddX = datasets.Datasets().rectanglegrid()"
   ]
  },
  {
   "cell_type": "code",
   "execution_count": 7,
   "id": "a0e44b81",
   "metadata": {},
   "outputs": [
    {
     "name": "stdout",
     "output_type": "stream",
     "text": [
      "local_opts['k_nn0'] = 600 is created.\n"
     ]
    }
   ],
   "source": [
    "# The supplied options would override the default options\n",
    "ldle = ldle_.LDLE(local_opts={'algo':'LDLE'},\n",
    "                  vis_opts={'c': labelsMat[:,0], 'save_dir': save_dir_root},\n",
    "                  intermed_opts={'eta_min': 10},\n",
    "                  global_opts={\n",
    "                      'max_iter': 10,\n",
    "                      'init_algo_align_w_parent_only': True # Set this True for low noise\n",
    "                  },\n",
    "                  verbose=True, debug=True)"
   ]
  },
  {
   "cell_type": "code",
   "execution_count": 8,
   "id": "7eadfc89",
   "metadata": {
    "scrolled": false
   },
   "outputs": [
    {
     "name": "stdout",
     "output_type": "stream",
     "text": [
      "Doubling manifold.\n",
      "No. of points on the boundary = 850\n"
     ]
    },
    {
     "name": "stderr",
     "output_type": "stream",
     "text": [
      "/home/dhruv/anaconda3/lib/python3.9/site-packages/sklearn/neighbors/_base.py:199: EfficiencyWarning: Precomputed sparse input was not sorted by data.\n",
      "  warnings.warn(\n"
     ]
    },
    {
     "name": "stdout",
     "output_type": "stream",
     "text": [
      "Done.\n",
      "##############################\n",
      "Time elapsed from last time log: 36.5 seconds\n",
      "Total time elapsed: 37.9 seconds\n",
      "##############################\n",
      "Constructing unnorm graph Laplacian + its eigendecomposition.\n",
      "Done.\n",
      "##############################\n",
      "Time elapsed from last time log: 6.6 seconds\n",
      "Total time elapsed: 6.6 seconds\n",
      "##############################\n",
      "Computing Atilde: Inner Prod of Grad of EigFuncs.\n",
      "FEM for Atilde.\n",
      "Atilde: 0 points processed...\n",
      "Atilde: 5000 points processed...\n",
      "Atilde: 10000 points processed...\n",
      "Atilde: 15000 points processed...\n",
      "Atilde: 20000 points processed...\n",
      "Atilde: all points processed...\n",
      "Done.\n",
      "##############################\n",
      "Time elapsed from last time log: 1.4 seconds\n",
      "Total time elapsed: 8.1 seconds\n",
      "##############################\n",
      "Computing LDLE.\n",
      "local_param: all 20002 points processed...\n",
      "max distortion is 41535.268575\n",
      "Done.\n",
      "##############################\n",
      "Time elapsed from last time log: 2.4 seconds\n",
      "Total time elapsed: 10.5 seconds\n",
      "##############################\n",
      "Posprocessing LDLE.\n",
      "Iter 1, Param replaced: 18909, max distortion: 190.203695\n",
      "Iter 2, Param replaced: 10498, max distortion: 68.178157\n",
      "Iter 3, Param replaced: 3429, max distortion: 55.534411\n",
      "Iter 4, Param replaced: 847, max distortion: 55.534411\n",
      "Iter 5, Param replaced: 231, max distortion: 55.534411\n",
      "Iter 6, Param replaced: 44, max distortion: 55.534411\n",
      "Iter 7, Param replaced: 14, max distortion: 55.534411\n",
      "Iter 8, Param replaced: 3, max distortion: 55.534411\n",
      "Iter 9, Param replaced: 0, max distortion: 55.534411\n",
      "Done.\n",
      "##############################\n",
      "Time elapsed from last time log: 34.8 seconds\n",
      "Total time elapsed: 45.3 seconds\n",
      "##############################\n",
      "Halving objects.\n",
      "Done.\n",
      "##############################\n",
      "Time elapsed from last time log: 6.8 seconds\n",
      "Total time elapsed: 61.5 seconds\n",
      "##############################\n",
      "Max local distortion = 4.61272230785467e+01\n",
      "Constructing intermediate views.\n",
      "eta = 2.\n",
      "# non-empty views with sz < 2 = 10426\n",
      "#nodes in views with sz < 2 = 10426\n"
     ]
    },
    {
     "name": "stderr",
     "output_type": "stream",
     "text": [
      "/home/dhruv/codebase/pyLDLE2/docs/nbks/doubled_manifolds/../../../pyLDLE2/intermed_views_.py:106: VisibleDeprecationWarning: Creating an ndarray from ragged nested sequences (which is a list-or-tuple of lists-or-tuples-or ndarrays with different lengths or shapes) is deprecated. If you meant to do this, you must specify 'dtype=object' when creating the ndarray.\n",
      "  neigh_ind = np.array(neigh_ind)\n"
     ]
    },
    {
     "name": "stdout",
     "output_type": "stream",
     "text": [
      "Costs computed when eta = 2.\n",
      "##############################\n",
      "Time elapsed from last time log: 10.6 seconds\n",
      "Total time elapsed: 10.7 seconds\n",
      "##############################\n",
      "Remaining #nodes in views with sz < 2 = 0\n",
      "Done with eta = 2.\n",
      "##############################\n",
      "Time elapsed from last time log: 103.4 seconds\n",
      "Total time elapsed: 114.2 seconds\n",
      "##############################\n",
      "eta = 3.\n",
      "# non-empty views with sz < 3 = 534\n",
      "#nodes in views with sz < 3 = 1068\n",
      "Costs computed when eta = 3.\n",
      "##############################\n",
      "Time elapsed from last time log: 0.9 seconds\n",
      "Total time elapsed: 115.1 seconds\n",
      "##############################\n",
      "Remaining #nodes in views with sz < 3 = 0\n",
      "Done with eta = 3.\n",
      "##############################\n",
      "Time elapsed from last time log: 5.1 seconds\n",
      "Total time elapsed: 120.1 seconds\n",
      "##############################\n",
      "eta = 4.\n",
      "# non-empty views with sz < 4 = 349\n",
      "#nodes in views with sz < 4 = 1047\n",
      "Costs computed when eta = 4.\n",
      "##############################\n",
      "Time elapsed from last time log: 0.8 seconds\n",
      "Total time elapsed: 120.9 seconds\n",
      "##############################\n",
      "Remaining #nodes in views with sz < 4 = 0\n",
      "Done with eta = 4.\n",
      "##############################\n",
      "Time elapsed from last time log: 6.9 seconds\n",
      "Total time elapsed: 127.8 seconds\n",
      "##############################\n",
      "eta = 5.\n",
      "# non-empty views with sz < 5 = 293\n",
      "#nodes in views with sz < 5 = 1172\n",
      "Costs computed when eta = 5.\n",
      "##############################\n",
      "Time elapsed from last time log: 0.7 seconds\n",
      "Total time elapsed: 128.5 seconds\n",
      "##############################\n",
      "Remaining #nodes in views with sz < 5 = 0\n",
      "Done with eta = 5.\n",
      "##############################\n",
      "Time elapsed from last time log: 9.8 seconds\n",
      "Total time elapsed: 138.3 seconds\n",
      "##############################\n",
      "eta = 6.\n",
      "# non-empty views with sz < 6 = 177\n",
      "#nodes in views with sz < 6 = 885\n",
      "Costs computed when eta = 6.\n",
      "##############################\n",
      "Time elapsed from last time log: 0.7 seconds\n",
      "Total time elapsed: 138.9 seconds\n",
      "##############################\n",
      "Remaining #nodes in views with sz < 6 = 0\n",
      "Done with eta = 6.\n",
      "##############################\n",
      "Time elapsed from last time log: 9.1 seconds\n",
      "Total time elapsed: 148.1 seconds\n",
      "##############################\n",
      "eta = 7.\n",
      "# non-empty views with sz < 7 = 175\n",
      "#nodes in views with sz < 7 = 1050\n",
      "Costs computed when eta = 7.\n",
      "##############################\n",
      "Time elapsed from last time log: 0.7 seconds\n",
      "Total time elapsed: 148.8 seconds\n",
      "##############################\n",
      "Remaining #nodes in views with sz < 7 = 0\n",
      "Done with eta = 7.\n",
      "##############################\n",
      "Time elapsed from last time log: 12.1 seconds\n",
      "Total time elapsed: 160.8 seconds\n",
      "##############################\n",
      "eta = 8.\n",
      "# non-empty views with sz < 8 = 120\n",
      "#nodes in views with sz < 8 = 840\n",
      "Costs computed when eta = 8.\n",
      "##############################\n",
      "Time elapsed from last time log: 0.5 seconds\n",
      "Total time elapsed: 161.3 seconds\n",
      "##############################\n",
      "Remaining #nodes in views with sz < 8 = 0\n",
      "Done with eta = 8.\n",
      "##############################\n",
      "Time elapsed from last time log: 12.1 seconds\n",
      "Total time elapsed: 173.4 seconds\n",
      "##############################\n",
      "eta = 9.\n",
      "# non-empty views with sz < 9 = 86\n",
      "#nodes in views with sz < 9 = 688\n",
      "Costs computed when eta = 9.\n",
      "##############################\n",
      "Time elapsed from last time log: 0.5 seconds\n",
      "Total time elapsed: 174.0 seconds\n",
      "##############################\n",
      "Remaining #nodes in views with sz < 9 = 0\n",
      "Done with eta = 9.\n",
      "##############################\n",
      "Time elapsed from last time log: 8.8 seconds\n",
      "Total time elapsed: 182.8 seconds\n",
      "##############################\n",
      "eta = 10.\n",
      "# non-empty views with sz < 10 = 51\n",
      "#nodes in views with sz < 10 = 459\n",
      "Costs computed when eta = 10.\n",
      "##############################\n",
      "Time elapsed from last time log: 0.4 seconds\n",
      "Total time elapsed: 183.2 seconds\n",
      "##############################\n",
      "Remaining #nodes in views with sz < 10 = 4\n",
      "Done with eta = 10.\n",
      "##############################\n",
      "Time elapsed from last time log: 5.8 seconds\n",
      "Total time elapsed: 189.0 seconds\n",
      "##############################\n",
      "Pruning and cleaning up.\n",
      "Done.\n",
      "##############################\n",
      "Time elapsed from last time log: 0.5 seconds\n",
      "Total time elapsed: 189.5 seconds\n",
      "##############################\n",
      "After clustering, max distortion is 19.392223\n",
      "Ambiguous overlaps checked for 0 intermediate views\n",
      "Ambiguous overlaps checked for 162 intermediate views\n",
      "Ambiguous overlaps checked for 324 intermediate views\n",
      "Ambiguous overlaps checked for 486 intermediate views\n",
      "Ambiguous overlaps checked for 648 intermediate views\n",
      "Ambiguous overlaps checked for 649 points\n",
      "Seq of intermediate views and their predecessors computed.\n",
      "No. of connected components = 1\n",
      "Computing initial embedding using: sequential algorithm\n",
      "##############################\n",
      "Time elapsed from last time log: 2.9 seconds\n",
      "Total time elapsed: 2.9 seconds\n",
      "##############################\n",
      "Initial alignment of 162 views completed\n",
      "Initial alignment of 324 views completed\n",
      "Initial alignment of 486 views completed\n",
      "Initial alignment of 648 views completed\n",
      "Embedding initialized.\n",
      "##############################\n",
      "Time elapsed from last time log: 0.2 seconds\n",
      "Total time elapsed: 3.1 seconds\n",
      "##############################\n"
     ]
    },
    {
     "data": {
      "image/png": "[encoded data removed]",
      "text/plain": [
       "<Figure size 432x288 with 1 Axes>"
      ]
     },
     "metadata": {},
     "output_type": "display_data"
    },
    {
     "data": {
      "text/plain": [
       "<Figure size 432x288 with 0 Axes>"
      ]
     },
     "metadata": {},
     "output_type": "display_data"
    },
    {
     "name": "stdout",
     "output_type": "stream",
     "text": [
      "Refining with retraction algorithm for 100 iterations.\n",
      "Refinement iteration: 0\n",
      "##############################\n",
      "Time elapsed from last time log: 0.0 seconds\n",
      "Total time elapsed: 12.2 seconds\n",
      "##############################\n",
      "Computing Pseudoinverse of a matrix of L of size 11075\n",
      "Descent starts\n",
      "Done.\n",
      "##############################\n",
      "Time elapsed from last time log: 31.3 seconds\n",
      "Total time elapsed: 43.5 seconds\n",
      "##############################\n"
     ]
    },
    {
     "data": {
      "image/png": "[encoded data removed]",
      "text/plain": [
       "<Figure size 432x288 with 1 Axes>"
      ]
     },
     "metadata": {},
     "output_type": "display_data"
    },
    {
     "data": {
      "text/plain": [
       "<Figure size 432x288 with 0 Axes>"
      ]
     },
     "metadata": {},
     "output_type": "display_data"
    },
    {
     "name": "stdout",
     "output_type": "stream",
     "text": [
      "Refining with retraction algorithm for 100 iterations.\n",
      "Refinement iteration: 1\n",
      "##############################\n",
      "Time elapsed from last time log: 0.0 seconds\n",
      "Total time elapsed: 48.5 seconds\n",
      "##############################\n",
      "Computing Pseudoinverse of a matrix of L of size 11075\n",
      "Descent starts\n",
      "Done.\n",
      "##############################\n",
      "Time elapsed from last time log: 32.3 seconds\n",
      "Total time elapsed: 80.9 seconds\n",
      "##############################\n"
     ]
    },
    {
     "data": {
      "image/png": "[encoded data removed]",
      "text/plain": [
       "<Figure size 432x288 with 1 Axes>"
      ]
     },
     "metadata": {},
     "output_type": "display_data"
    },
    {
     "data": {
      "text/plain": [
       "<Figure size 432x288 with 0 Axes>"
      ]
     },
     "metadata": {},
     "output_type": "display_data"
    },
    {
     "name": "stdout",
     "output_type": "stream",
     "text": [
      "Refining with retraction algorithm for 100 iterations.\n",
      "Refinement iteration: 2\n",
      "##############################\n",
      "Time elapsed from last time log: 0.0 seconds\n",
      "Total time elapsed: 85.6 seconds\n",
      "##############################\n",
      "Computing Pseudoinverse of a matrix of L of size 11075\n",
      "Descent starts\n",
      "Done.\n",
      "##############################\n",
      "Time elapsed from last time log: 31.3 seconds\n",
      "Total time elapsed: 116.9 seconds\n",
      "##############################\n"
     ]
    },
    {
     "data": {
      "image/png": "[encoded data removed]",
      "text/plain": [
       "<Figure size 432x288 with 1 Axes>"
      ]
     },
     "metadata": {},
     "output_type": "display_data"
    },
    {
     "data": {
      "text/plain": [
       "<Figure size 432x288 with 0 Axes>"
      ]
     },
     "metadata": {},
     "output_type": "display_data"
    },
    {
     "name": "stdout",
     "output_type": "stream",
     "text": [
      "Refining with retraction algorithm for 100 iterations.\n",
      "Refinement iteration: 3\n",
      "##############################\n",
      "Time elapsed from last time log: 0.0 seconds\n",
      "Total time elapsed: 121.9 seconds\n",
      "##############################\n",
      "Computing Pseudoinverse of a matrix of L of size 11075\n",
      "Descent starts\n",
      "Done.\n",
      "##############################\n",
      "Time elapsed from last time log: 33.6 seconds\n",
      "Total time elapsed: 155.5 seconds\n",
      "##############################\n"
     ]
    },
    {
     "data": {
      "image/png": "[encoded data removed]",
      "text/plain": [
       "<Figure size 432x288 with 1 Axes>"
      ]
     },
     "metadata": {},
     "output_type": "display_data"
    },
    {
     "data": {
      "text/plain": [
       "<Figure size 432x288 with 0 Axes>"
      ]
     },
     "metadata": {},
     "output_type": "display_data"
    },
    {
     "name": "stdout",
     "output_type": "stream",
     "text": [
      "Refining with retraction algorithm for 100 iterations.\n",
      "Refinement iteration: 4\n",
      "##############################\n",
      "Time elapsed from last time log: 0.0 seconds\n",
      "Total time elapsed: 160.6 seconds\n",
      "##############################\n",
      "Computing Pseudoinverse of a matrix of L of size 11075\n",
      "Descent starts\n",
      "Done.\n",
      "##############################\n",
      "Time elapsed from last time log: 33.1 seconds\n",
      "Total time elapsed: 193.7 seconds\n",
      "##############################\n"
     ]
    },
    {
     "data": {
      "image/png": "[encoded data removed]",
      "text/plain": [
       "<Figure size 432x288 with 1 Axes>"
      ]
     },
     "metadata": {},
     "output_type": "display_data"
    },
    {
     "data": {
      "text/plain": [
       "<Figure size 432x288 with 0 Axes>"
      ]
     },
     "metadata": {},
     "output_type": "display_data"
    },
    {
     "name": "stdout",
     "output_type": "stream",
     "text": [
      "Refining with retraction algorithm for 100 iterations.\n",
      "Refinement iteration: 5\n",
      "##############################\n",
      "Time elapsed from last time log: 0.0 seconds\n",
      "Total time elapsed: 198.9 seconds\n",
      "##############################\n",
      "Computing Pseudoinverse of a matrix of L of size 11075\n",
      "Descent starts\n",
      "Done.\n",
      "##############################\n",
      "Time elapsed from last time log: 32.0 seconds\n",
      "Total time elapsed: 231.0 seconds\n",
      "##############################\n"
     ]
    },
    {
     "data": {
      "image/png": "[encoded data removed]",
      "text/plain": [
       "<Figure size 432x288 with 1 Axes>"
      ]
     },
     "metadata": {},
     "output_type": "display_data"
    },
    {
     "data": {
      "text/plain": [
       "<Figure size 432x288 with 0 Axes>"
      ]
     },
     "metadata": {},
     "output_type": "display_data"
    },
    {
     "name": "stdout",
     "output_type": "stream",
     "text": [
      "Refining with retraction algorithm for 100 iterations.\n",
      "Refinement iteration: 6\n",
      "##############################\n",
      "Time elapsed from last time log: 0.0 seconds\n",
      "Total time elapsed: 236.2 seconds\n",
      "##############################\n",
      "Computing Pseudoinverse of a matrix of L of size 11075\n",
      "Descent starts\n",
      "Done.\n",
      "##############################\n",
      "Time elapsed from last time log: 34.5 seconds\n",
      "Total time elapsed: 270.7 seconds\n",
      "##############################\n"
     ]
    },
    {
     "data": {
      "image/png": "[encoded data removed]",
      "text/plain": [
       "<Figure size 432x288 with 1 Axes>"
      ]
     },
     "metadata": {},
     "output_type": "display_data"
    },
    {
     "data": {
      "text/plain": [
       "<Figure size 432x288 with 0 Axes>"
      ]
     },
     "metadata": {},
     "output_type": "display_data"
    },
    {
     "name": "stdout",
     "output_type": "stream",
     "text": [
      "Refining with retraction algorithm for 100 iterations.\n",
      "Refinement iteration: 7\n",
      "##############################\n",
      "Time elapsed from last time log: 0.0 seconds\n",
      "Total time elapsed: 275.3 seconds\n",
      "##############################\n",
      "Computing Pseudoinverse of a matrix of L of size 11075\n",
      "Descent starts\n",
      "Done.\n",
      "##############################\n",
      "Time elapsed from last time log: 35.5 seconds\n",
      "Total time elapsed: 310.8 seconds\n",
      "##############################\n"
     ]
    },
    {
     "data": {
      "image/png": "[encoded data removed]",
      "text/plain": [
       "<Figure size 432x288 with 1 Axes>"
      ]
     },
     "metadata": {},
     "output_type": "display_data"
    },
    {
     "data": {
      "text/plain": [
       "<Figure size 432x288 with 0 Axes>"
      ]
     },
     "metadata": {},
     "output_type": "display_data"
    },
    {
     "name": "stdout",
     "output_type": "stream",
     "text": [
      "Refining with retraction algorithm for 100 iterations.\n",
      "Refinement iteration: 8\n",
      "##############################\n",
      "Time elapsed from last time log: 0.0 seconds\n",
      "Total time elapsed: 316.2 seconds\n",
      "##############################\n",
      "Computing Pseudoinverse of a matrix of L of size 11075\n",
      "Descent starts\n",
      "Done.\n",
      "##############################\n",
      "Time elapsed from last time log: 34.2 seconds\n",
      "Total time elapsed: 350.3 seconds\n",
      "##############################\n"
     ]
    },
    {
     "data": {
      "image/png": "[encoded data removed]",
      "text/plain": [
       "<Figure size 432x288 with 1 Axes>"
      ]
     },
     "metadata": {},
     "output_type": "display_data"
    },
    {
     "data": {
      "text/plain": [
       "<Figure size 432x288 with 0 Axes>"
      ]
     },
     "metadata": {},
     "output_type": "display_data"
    },
    {
     "name": "stdout",
     "output_type": "stream",
     "text": [
      "Refining with retraction algorithm for 100 iterations.\n",
      "Refinement iteration: 9\n",
      "##############################\n",
      "Time elapsed from last time log: 0.0 seconds\n",
      "Total time elapsed: 356.2 seconds\n",
      "##############################\n",
      "Computing Pseudoinverse of a matrix of L of size 11075\n",
      "Descent starts\n",
      "Done.\n",
      "##############################\n",
      "Time elapsed from last time log: 37.5 seconds\n",
      "Total time elapsed: 393.7 seconds\n",
      "##############################\n",
      "Computing error.\n",
      "Computing Pseudoinverse of a matrix of L of size 11075\n",
      "Alignment error: 0.162\n",
      "##############################\n",
      "Time elapsed from last time log: 4.3 seconds\n",
      "Total time elapsed: 398.0 seconds\n",
      "##############################\n"
     ]
    },
    {
     "data": {
      "image/png": "[encoded data removed]",
      "text/plain": [
       "<Figure size 432x288 with 1 Axes>"
      ]
     },
     "metadata": {},
     "output_type": "display_data"
    },
    {
     "data": {
      "text/plain": [
       "<Figure size 432x288 with 0 Axes>"
      ]
     },
     "metadata": {},
     "output_type": "display_data"
    },
    {
     "data": {
      "text/plain": [
       "array([[-0.23446676,  1.89148882],\n",
       "       [-0.23323619,  1.89228739],\n",
       "       [-0.23041077,  1.89162163],\n",
       "       ...,\n",
       "       [ 0.36828364, -1.97915873],\n",
       "       [ 0.37084441, -1.97885261],\n",
       "       [ 0.37127113, -1.97787725]])"
      ]
     },
     "execution_count": 8,
     "metadata": {},
     "output_type": "execute_result"
    }
   ],
   "source": [
    "ldle.fit(X=X, ddX=ddX)"
   ]
  },
  {
   "cell_type": "code",
   "execution_count": 9,
   "id": "c7381785",
   "metadata": {},
   "outputs": [
    {
     "data": {
      "image/png": "[encoded data removed]",
      "text/plain": [
       "<Figure size 432x288 with 1 Axes>"
      ]
     },
     "metadata": {},
     "output_type": "display_data"
    },
    {
     "data": {
      "text/plain": [
       "<Figure size 432x288 with 0 Axes>"
      ]
     },
     "metadata": {},
     "output_type": "display_data"
    }
   ],
   "source": [
    "ldle.GlobalViews.vis_embedding(ldle.GlobalViews.y_final, ldle.vis, ldle.vis_opts,\n",
    "                               ldle.GlobalViews.color_of_pts_on_tear_final,\n",
    "                               title='Final global embedding', )"
   ]
  },
  {
   "cell_type": "code",
   "execution_count": 10,
   "id": "4d630749",
   "metadata": {},
   "outputs": [
    {
     "name": "stdout",
     "output_type": "stream",
     "text": [
      "Saved ../data/pyLDLE2/doubled_rectangle//ldle.dat\n"
     ]
    }
   ],
   "source": [
    "# save for further visualization\n",
    "import pickle\n",
    "save_path = save_dir_root+'/ldle.dat'\n",
    "with open(save_path, \"wb\") as f:\n",
    "    pickle.dump([X, labelsMat, ldle], f)\n",
    "print('Saved', save_path)"
   ]
  },
  {
   "cell_type": "code",
   "execution_count": null,
   "id": "41ee3a2b",
   "metadata": {},
   "outputs": [],
   "source": []
  }
 ],
 "metadata": {
  "kernelspec": {
   "display_name": "Python 3 (ipykernel)",
   "language": "python",
   "name": "python3"
  },
  "language_info": {
   "codemirror_mode": {
    "name": "ipython",
    "version": 3
   },
   "file_extension": ".py",
   "mimetype": "text/x-python",
   "name": "python",
   "nbconvert_exporter": "python",
   "pygments_lexer": "ipython3",
   "version": "3.9.12"
  }
 },
 "nbformat": 4,
 "nbformat_minor": 5
}
